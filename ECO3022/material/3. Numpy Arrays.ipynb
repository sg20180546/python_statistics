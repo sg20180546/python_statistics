{
 "cells": [
  {
   "cell_type": "markdown",
   "metadata": {},
   "source": [
    "# Overview\n",
    "Numpy is a first-rate library for numerical programming\n",
    "- Widely used in academia, finance and industry.\n",
    "- Mature, fast, stable and under continuous development.\n",
    "\n",
    "Numpy arrays / fundamental array processing operations \n",
    "    \n",
    "    \n",
    "### Introduction to Numpy([Numpy Documentation](https://numpy.org/doc/stable/))\n",
    "\n",
    "The essential problem that NumPy solves is fast array processing.\n",
    "\n",
    "For example, suppose we want to create an array of 1 million random draws from a uniform distribution and compute the mean.\n",
    "\n",
    "If we did this in pure Python it would be orders of magnitude slower than C or Fortran.\n",
    "\n",
    "This is because\n",
    "\n",
    "Loops in Python over Python data types like lists carry significant overhead.\n",
    "C and Fortran code contains a lot of type information that can be used for optimization.\n",
    "Various optimizations can be carried out during compilation when the compiler sees the instructions as a whole.\n",
    "However, for a task like the one described above, there’s no need to switch back to C or Fortran.    \n",
    "    \n",
    "\n"
   ]
  },
  {
   "cell_type": "markdown",
   "metadata": {},
   "source": [
    "- (Note) Attribute, Method\n",
    "    - Attribute : class.attribute\n",
    "        - A variable stored in an instance or class is called an attribute.\n",
    "    - Method : class.method()\n",
    "        - A function stored in an instance or class is called an method."
   ]
  },
  {
   "cell_type": "code",
   "execution_count": 1,
   "metadata": {
    "execution": {
     "iopub.execute_input": "2021-09-08T03:05:52.853654Z",
     "iopub.status.busy": "2021-09-08T03:05:52.853654Z",
     "iopub.status.idle": "2021-09-08T03:05:53.047881Z",
     "shell.execute_reply": "2021-09-08T03:05:53.047881Z",
     "shell.execute_reply.started": "2021-09-08T03:05:52.853654Z"
    }
   },
   "outputs": [
    {
     "name": "stdout",
     "output_type": "stream",
     "text": [
      "0.4998956493356929\n"
     ]
    },
    {
     "data": {
      "text/plain": [
       "0.10103845596313477"
      ]
     },
     "execution_count": 1,
     "metadata": {},
     "output_type": "execute_result"
    }
   ],
   "source": [
    "import numpy as np\n",
    "from numpy import random\n",
    "import time\n",
    "\n",
    "start = time.time()\n",
    "x = random.uniform(0, 1, size=10000000)\n",
    "print(x.mean())\n",
    "end = time.time()\n",
    "end-start"
   ]
  },
  {
   "cell_type": "markdown",
   "metadata": {},
   "source": [
    "### (1) Numpy arrays\n",
    "\n",
    "The most important thing that Numpy defines is an array data type formally called a Numpy.ndarray.\n",
    "\n",
    "Numpy arrays power a large proportion of the scientific Python ecosystem."
   ]
  },
  {
   "cell_type": "markdown",
   "metadata": {},
   "source": [
    "(1) Creating arrays"
   ]
  },
  {
   "cell_type": "code",
   "execution_count": 2,
   "metadata": {
    "execution": {
     "iopub.execute_input": "2021-09-08T03:05:53.049894Z",
     "iopub.status.busy": "2021-09-08T03:05:53.049894Z",
     "iopub.status.idle": "2021-09-08T03:05:53.052888Z",
     "shell.execute_reply": "2021-09-08T03:05:53.052888Z",
     "shell.execute_reply.started": "2021-09-08T03:05:53.049894Z"
    }
   },
   "outputs": [
    {
     "data": {
      "text/plain": [
       "array([0., 0., 0.])"
      ]
     },
     "execution_count": 2,
     "metadata": {},
     "output_type": "execute_result"
    }
   ],
   "source": [
    "#numpy array containing only zeros.\n",
    "\n",
    "a = np.zeros(3)\n",
    "a"
   ]
  },
  {
   "cell_type": "code",
   "execution_count": 3,
   "metadata": {},
   "outputs": [
    {
     "data": {
      "text/plain": [
       "[1, 2, 3, 4]"
      ]
     },
     "execution_count": 3,
     "metadata": {},
     "output_type": "execute_result"
    }
   ],
   "source": [
    "list([1,2,3,4])"
   ]
  },
  {
   "cell_type": "code",
   "execution_count": 4,
   "metadata": {
    "execution": {
     "iopub.execute_input": "2021-09-08T03:05:53.054856Z",
     "iopub.status.busy": "2021-09-08T03:05:53.053859Z",
     "iopub.status.idle": "2021-09-08T03:05:53.062834Z",
     "shell.execute_reply": "2021-09-08T03:05:53.062834Z",
     "shell.execute_reply.started": "2021-09-08T03:05:53.054856Z"
    }
   },
   "outputs": [
    {
     "data": {
      "text/plain": [
       "array([1, 2, 3, 4])"
      ]
     },
     "execution_count": 4,
     "metadata": {},
     "output_type": "execute_result"
    }
   ],
   "source": [
    "#we can also create numpy arrays by np.array\n",
    "a = np.array([1, 2, 3, 4])         # From 2 to 4, with 5 elements\n",
    "a"
   ]
  },
  {
   "cell_type": "code",
   "execution_count": 5,
   "metadata": {
    "execution": {
     "iopub.execute_input": "2021-09-08T03:05:53.063832Z",
     "iopub.status.busy": "2021-09-08T03:05:53.063832Z",
     "iopub.status.idle": "2021-09-08T03:05:53.069784Z",
     "shell.execute_reply": "2021-09-08T03:05:53.069784Z",
     "shell.execute_reply.started": "2021-09-08T03:05:53.063832Z"
    }
   },
   "outputs": [
    {
     "data": {
      "text/plain": [
       "array([2. , 2.5, 3. , 3.5, 4. ])"
      ]
     },
     "execution_count": 5,
     "metadata": {},
     "output_type": "execute_result"
    }
   ],
   "source": [
    "#To set up a grid of evenly spaced numbers use np.linspace\n",
    "a = np.linspace(2, 4, 5) \n",
    "a"
   ]
  },
  {
   "cell_type": "code",
   "execution_count": 6,
   "metadata": {
    "execution": {
     "iopub.execute_input": "2021-09-08T03:05:53.070782Z",
     "iopub.status.busy": "2021-09-08T03:05:53.070782Z",
     "iopub.status.idle": "2021-09-08T03:05:53.078770Z",
     "shell.execute_reply": "2021-09-08T03:05:53.078770Z",
     "shell.execute_reply.started": "2021-09-08T03:05:53.070782Z"
    }
   },
   "outputs": [
    {
     "data": {
      "text/plain": [
       "array([[1],\n",
       "       [2],\n",
       "       [3],\n",
       "       [4]])"
      ]
     },
     "execution_count": 6,
     "metadata": {},
     "output_type": "execute_result"
    }
   ],
   "source": [
    "a = np.array([[1], [2], [3], [4]])         # 2D array from a list of lists\n",
    "a"
   ]
  },
  {
   "cell_type": "code",
   "execution_count": 7,
   "metadata": {
    "execution": {
     "iopub.execute_input": "2021-09-08T03:05:53.079786Z",
     "iopub.status.busy": "2021-09-08T03:05:53.079786Z",
     "iopub.status.idle": "2021-09-08T03:05:53.087766Z",
     "shell.execute_reply": "2021-09-08T03:05:53.087766Z",
     "shell.execute_reply.started": "2021-09-08T03:05:53.079786Z"
    }
   },
   "outputs": [
    {
     "data": {
      "text/plain": [
       "array([[1., 0.],\n",
       "       [0., 1.]])"
      ]
     },
     "execution_count": 7,
     "metadata": {},
     "output_type": "execute_result"
    }
   ],
   "source": [
    "np.identity(2)"
   ]
  },
  {
   "cell_type": "markdown",
   "metadata": {},
   "source": [
    "(2) Shape and Dimension"
   ]
  },
  {
   "cell_type": "code",
   "execution_count": 8,
   "metadata": {
    "execution": {
     "iopub.execute_input": "2021-09-08T03:05:53.089767Z",
     "iopub.status.busy": "2021-09-08T03:05:53.089767Z",
     "iopub.status.idle": "2021-09-08T03:05:53.095776Z",
     "shell.execute_reply": "2021-09-08T03:05:53.095776Z",
     "shell.execute_reply.started": "2021-09-08T03:05:53.089767Z"
    }
   },
   "outputs": [
    {
     "data": {
      "text/plain": [
       "(10,)"
      ]
     },
     "execution_count": 8,
     "metadata": {},
     "output_type": "execute_result"
    }
   ],
   "source": [
    "# Consider the following assignment\n",
    "\n",
    "z = np.zeros(10)\n",
    "\n",
    "# Here z is a flat array with no dimension — neither row nor column vector.\n",
    "# The dimension is recorded in the shape attribute, which is a tuple\n",
    "\n",
    "z.shape"
   ]
  },
  {
   "cell_type": "code",
   "execution_count": 9,
   "metadata": {},
   "outputs": [
    {
     "data": {
      "text/plain": [
       "array([0., 0., 0., 0., 0., 0., 0., 0., 0., 0.])"
      ]
     },
     "execution_count": 9,
     "metadata": {},
     "output_type": "execute_result"
    }
   ],
   "source": [
    "z"
   ]
  },
  {
   "cell_type": "code",
   "execution_count": 10,
   "metadata": {
    "execution": {
     "iopub.execute_input": "2021-09-08T03:05:53.096747Z",
     "iopub.status.busy": "2021-09-08T03:05:53.096747Z",
     "iopub.status.idle": "2021-09-08T03:05:53.104825Z",
     "shell.execute_reply": "2021-09-08T03:05:53.104825Z",
     "shell.execute_reply.started": "2021-09-08T03:05:53.096747Z"
    }
   },
   "outputs": [
    {
     "data": {
      "text/plain": [
       "array([[0.],\n",
       "       [0.],\n",
       "       [0.],\n",
       "       [0.],\n",
       "       [0.],\n",
       "       [0.],\n",
       "       [0.],\n",
       "       [0.],\n",
       "       [0.],\n",
       "       [0.]])"
      ]
     },
     "execution_count": 10,
     "metadata": {},
     "output_type": "execute_result"
    }
   ],
   "source": [
    "# To give it dimension, we can change the shape attribute\n",
    "z.shape = (10, 1) #identical to z.reshape(10,1)\n",
    "z"
   ]
  },
  {
   "cell_type": "code",
   "execution_count": 11,
   "metadata": {},
   "outputs": [
    {
     "data": {
      "text/plain": [
       "array([[0.33385542],\n",
       "       [0.32653073],\n",
       "       [0.80615494],\n",
       "       ...,\n",
       "       [0.59200638],\n",
       "       [0.79808161],\n",
       "       [0.99160529]])"
      ]
     },
     "execution_count": 11,
     "metadata": {},
     "output_type": "execute_result"
    }
   ],
   "source": [
    "x[:,np.newaxis]"
   ]
  },
  {
   "cell_type": "code",
   "execution_count": 12,
   "metadata": {
    "execution": {
     "iopub.execute_input": "2021-09-08T03:05:53.105823Z",
     "iopub.status.busy": "2021-09-08T03:05:53.105823Z",
     "iopub.status.idle": "2021-09-08T03:05:53.116793Z",
     "shell.execute_reply": "2021-09-08T03:05:53.116793Z",
     "shell.execute_reply.started": "2021-09-08T03:05:53.105823Z"
    }
   },
   "outputs": [
    {
     "name": "stdout",
     "output_type": "stream",
     "text": [
      "[0 1 2 3 4 5 6 7 8]\n",
      "[[0 1 2 3 4 5 6 7 8]]\n"
     ]
    }
   ],
   "source": [
    "# add a new dimension\n",
    "x = np.arange(9)\n",
    "print(x)\n",
    "print(x[np.newaxis,:])"
   ]
  },
  {
   "cell_type": "code",
   "execution_count": 13,
   "metadata": {
    "execution": {
     "iopub.execute_input": "2021-09-08T03:05:53.117790Z",
     "iopub.status.busy": "2021-09-08T03:05:53.117790Z",
     "iopub.status.idle": "2021-09-08T03:05:53.122497Z",
     "shell.execute_reply": "2021-09-08T03:05:53.122497Z",
     "shell.execute_reply.started": "2021-09-08T03:05:53.117790Z"
    }
   },
   "outputs": [
    {
     "name": "stdout",
     "output_type": "stream",
     "text": [
      "[0 1 2 3 4 5 6 7 8]\n",
      "[[0 1 2 3 4 5 6 7 8]]\n"
     ]
    }
   ],
   "source": [
    "# This is also possible\n",
    "x = np.arange(9)\n",
    "print(x)\n",
    "print(x[None, :],)"
   ]
  },
  {
   "cell_type": "code",
   "execution_count": 14,
   "metadata": {
    "execution": {
     "iopub.execute_input": "2021-09-08T03:05:53.123520Z",
     "iopub.status.busy": "2021-09-08T03:05:53.123520Z",
     "iopub.status.idle": "2021-09-08T03:05:53.128115Z",
     "shell.execute_reply": "2021-09-08T03:05:53.128115Z",
     "shell.execute_reply.started": "2021-09-08T03:05:53.123520Z"
    }
   },
   "outputs": [
    {
     "data": {
      "text/plain": [
       "array([[0., 0.],\n",
       "       [0., 0.]])"
      ]
     },
     "execution_count": 14,
     "metadata": {},
     "output_type": "execute_result"
    }
   ],
   "source": [
    "z = np.zeros(4)\n",
    "z.shape = (2, 2)\n",
    "z"
   ]
  },
  {
   "cell_type": "code",
   "execution_count": 15,
   "metadata": {
    "execution": {
     "iopub.execute_input": "2021-09-08T03:05:53.129113Z",
     "iopub.status.busy": "2021-09-08T03:05:53.129113Z",
     "iopub.status.idle": "2021-09-08T03:05:53.145034Z",
     "shell.execute_reply": "2021-09-08T03:05:53.145034Z",
     "shell.execute_reply.started": "2021-09-08T03:05:53.129113Z"
    }
   },
   "outputs": [
    {
     "name": "stdout",
     "output_type": "stream",
     "text": [
      "2 (2, 2) 4\n"
     ]
    }
   ],
   "source": [
    "x = np.array([[1,2],[3, 4]])   # why it has so many square bracket?\n",
    "print(x.ndim, x.shape, x.size)"
   ]
  },
  {
   "cell_type": "code",
   "execution_count": 16,
   "metadata": {
    "execution": {
     "iopub.execute_input": "2021-09-08T03:05:53.146028Z",
     "iopub.status.busy": "2021-09-08T03:05:53.146028Z",
     "iopub.status.idle": "2021-09-08T03:05:53.168995Z",
     "shell.execute_reply": "2021-09-08T03:05:53.167993Z",
     "shell.execute_reply.started": "2021-09-08T03:05:53.146028Z"
    }
   },
   "outputs": [
    {
     "name": "stdout",
     "output_type": "stream",
     "text": [
      "1 (4,) 4\n"
     ]
    }
   ],
   "source": [
    "x = np.array([1,2,3,4])   \n",
    "print(x.ndim, x.shape, x.size)"
   ]
  },
  {
   "cell_type": "code",
   "execution_count": 17,
   "metadata": {
    "execution": {
     "iopub.execute_input": "2021-09-08T03:05:53.169992Z",
     "iopub.status.busy": "2021-09-08T03:05:53.169992Z",
     "iopub.status.idle": "2021-09-08T03:05:53.185923Z",
     "shell.execute_reply": "2021-09-08T03:05:53.184948Z",
     "shell.execute_reply.started": "2021-09-08T03:05:53.169992Z"
    }
   },
   "outputs": [
    {
     "name": "stdout",
     "output_type": "stream",
     "text": [
      "0 () 1\n"
     ]
    }
   ],
   "source": [
    "x = np.array(1)   \n",
    "print(x.ndim, x.shape, x.size)"
   ]
  },
  {
   "cell_type": "markdown",
   "metadata": {},
   "source": [
    "(3) Indexing of arrays\n",
    "- negative indexing\n",
    "- Array slicing : x[start:stop:step]"
   ]
  },
  {
   "cell_type": "code",
   "execution_count": 18,
   "metadata": {
    "execution": {
     "iopub.execute_input": "2021-09-08T03:05:53.187918Z",
     "iopub.status.busy": "2021-09-08T03:05:53.186920Z",
     "iopub.status.idle": "2021-09-08T03:05:53.201907Z",
     "shell.execute_reply": "2021-09-08T03:05:53.200905Z",
     "shell.execute_reply.started": "2021-09-08T03:05:53.187918Z"
    }
   },
   "outputs": [
    {
     "data": {
      "text/plain": [
       "[0, 1, 2, 3, 4, 5, 6, 7, 8, 9]"
      ]
     },
     "execution_count": 18,
     "metadata": {},
     "output_type": "execute_result"
    }
   ],
   "source": [
    "list(range(10))"
   ]
  },
  {
   "cell_type": "code",
   "execution_count": 19,
   "metadata": {
    "execution": {
     "iopub.execute_input": "2021-09-08T03:05:53.202877Z",
     "iopub.status.busy": "2021-09-08T03:05:53.202877Z",
     "iopub.status.idle": "2021-09-08T03:05:53.213881Z",
     "shell.execute_reply": "2021-09-08T03:05:53.212884Z",
     "shell.execute_reply.started": "2021-09-08T03:05:53.202877Z"
    }
   },
   "outputs": [
    {
     "name": "stdout",
     "output_type": "stream",
     "text": [
      "[0 1 2 3 4 5 6 7 8 9]\n",
      "1 (10,) 10\n"
     ]
    }
   ],
   "source": [
    "x = np.arange(10)\n",
    "print(x)\n",
    "print(x.ndim, x.shape, x.size)"
   ]
  },
  {
   "cell_type": "code",
   "execution_count": 20,
   "metadata": {
    "execution": {
     "iopub.execute_input": "2021-09-08T03:05:53.214879Z",
     "iopub.status.busy": "2021-09-08T03:05:53.214879Z",
     "iopub.status.idle": "2021-09-08T03:05:53.223858Z",
     "shell.execute_reply": "2021-09-08T03:05:53.222881Z",
     "shell.execute_reply.started": "2021-09-08T03:05:53.214879Z"
    }
   },
   "outputs": [
    {
     "name": "stdout",
     "output_type": "stream",
     "text": [
      "9\n",
      "9\n"
     ]
    }
   ],
   "source": [
    "print(x[9])\n",
    "print(x[-1])"
   ]
  },
  {
   "cell_type": "code",
   "execution_count": 21,
   "metadata": {
    "execution": {
     "iopub.execute_input": "2021-09-08T03:05:53.224853Z",
     "iopub.status.busy": "2021-09-08T03:05:53.224853Z",
     "iopub.status.idle": "2021-09-08T03:05:53.238902Z",
     "shell.execute_reply": "2021-09-08T03:05:53.237921Z",
     "shell.execute_reply.started": "2021-09-08T03:05:53.224853Z"
    }
   },
   "outputs": [
    {
     "data": {
      "text/plain": [
       "array([2, 3, 4, 5, 6, 7, 8, 9])"
      ]
     },
     "execution_count": 21,
     "metadata": {},
     "output_type": "execute_result"
    }
   ],
   "source": [
    "x[2:]"
   ]
  },
  {
   "cell_type": "code",
   "execution_count": 22,
   "metadata": {
    "execution": {
     "iopub.execute_input": "2021-09-08T03:05:53.239895Z",
     "iopub.status.busy": "2021-09-08T03:05:53.239895Z",
     "iopub.status.idle": "2021-09-08T03:05:53.250857Z",
     "shell.execute_reply": "2021-09-08T03:05:53.250857Z",
     "shell.execute_reply.started": "2021-09-08T03:05:53.239895Z"
    }
   },
   "outputs": [
    {
     "data": {
      "text/plain": [
       "array([0, 1, 2, 3, 4, 5, 6, 7, 8])"
      ]
     },
     "execution_count": 22,
     "metadata": {},
     "output_type": "execute_result"
    }
   ],
   "source": [
    "x[:-1]"
   ]
  },
  {
   "cell_type": "code",
   "execution_count": 23,
   "metadata": {
    "execution": {
     "iopub.execute_input": "2021-09-08T03:05:53.251832Z",
     "iopub.status.busy": "2021-09-08T03:05:53.251832Z",
     "iopub.status.idle": "2021-09-08T03:05:53.263471Z",
     "shell.execute_reply": "2021-09-08T03:05:53.263471Z",
     "shell.execute_reply.started": "2021-09-08T03:05:53.251832Z"
    }
   },
   "outputs": [
    {
     "data": {
      "text/plain": [
       "array([4, 5, 6])"
      ]
     },
     "execution_count": 23,
     "metadata": {},
     "output_type": "execute_result"
    }
   ],
   "source": [
    "x[4:7] "
   ]
  },
  {
   "cell_type": "code",
   "execution_count": 24,
   "metadata": {
    "execution": {
     "iopub.execute_input": "2021-09-08T03:05:53.264422Z",
     "iopub.status.busy": "2021-09-08T03:05:53.264422Z",
     "iopub.status.idle": "2021-09-08T03:05:53.276098Z",
     "shell.execute_reply": "2021-09-08T03:05:53.276098Z",
     "shell.execute_reply.started": "2021-09-08T03:05:53.264422Z"
    }
   },
   "outputs": [
    {
     "data": {
      "text/plain": [
       "array([0, 2, 4, 6, 8])"
      ]
     },
     "execution_count": 24,
     "metadata": {},
     "output_type": "execute_result"
    }
   ],
   "source": [
    "x[::2]"
   ]
  },
  {
   "cell_type": "code",
   "execution_count": 25,
   "metadata": {
    "execution": {
     "iopub.execute_input": "2021-09-08T03:05:53.277109Z",
     "iopub.status.busy": "2021-09-08T03:05:53.277109Z",
     "iopub.status.idle": "2021-09-08T03:05:53.289063Z",
     "shell.execute_reply": "2021-09-08T03:05:53.289063Z",
     "shell.execute_reply.started": "2021-09-08T03:05:53.277109Z"
    }
   },
   "outputs": [
    {
     "data": {
      "text/plain": [
       "array([2, 1, 0])"
      ]
     },
     "execution_count": 25,
     "metadata": {},
     "output_type": "execute_result"
    }
   ],
   "source": [
    "x[2::-1]"
   ]
  },
  {
   "cell_type": "code",
   "execution_count": 26,
   "metadata": {
    "execution": {
     "iopub.execute_input": "2021-09-08T03:05:53.290060Z",
     "iopub.status.busy": "2021-09-08T03:05:53.290060Z",
     "iopub.status.idle": "2021-09-08T03:05:53.301078Z",
     "shell.execute_reply": "2021-09-08T03:05:53.301078Z",
     "shell.execute_reply.started": "2021-09-08T03:05:53.290060Z"
    }
   },
   "outputs": [
    {
     "data": {
      "text/plain": [
       "array([2, 5, 8])"
      ]
     },
     "execution_count": 26,
     "metadata": {},
     "output_type": "execute_result"
    }
   ],
   "source": [
    "x[2::3]"
   ]
  },
  {
   "cell_type": "code",
   "execution_count": 27,
   "metadata": {
    "execution": {
     "iopub.execute_input": "2021-09-08T03:05:53.302028Z",
     "iopub.status.busy": "2021-09-08T03:05:53.302028Z",
     "iopub.status.idle": "2021-09-08T03:05:53.313004Z",
     "shell.execute_reply": "2021-09-08T03:05:53.313004Z",
     "shell.execute_reply.started": "2021-09-08T03:05:53.302028Z"
    }
   },
   "outputs": [],
   "source": [
    "x = np.arange(12).reshape(3,4)"
   ]
  },
  {
   "cell_type": "code",
   "execution_count": 28,
   "metadata": {},
   "outputs": [
    {
     "data": {
      "text/plain": [
       "array([[ 0,  1,  2,  3],\n",
       "       [ 4,  5,  6,  7],\n",
       "       [ 8,  9, 10, 11]])"
      ]
     },
     "execution_count": 28,
     "metadata": {},
     "output_type": "execute_result"
    }
   ],
   "source": [
    "x"
   ]
  },
  {
   "cell_type": "code",
   "execution_count": 29,
   "metadata": {
    "execution": {
     "iopub.execute_input": "2021-09-08T03:05:53.313997Z",
     "iopub.status.busy": "2021-09-08T03:05:53.313997Z",
     "iopub.status.idle": "2021-09-08T03:05:53.326961Z",
     "shell.execute_reply": "2021-09-08T03:05:53.326961Z",
     "shell.execute_reply.started": "2021-09-08T03:05:53.313997Z"
    }
   },
   "outputs": [
    {
     "data": {
      "text/plain": [
       "7"
      ]
     },
     "execution_count": 29,
     "metadata": {},
     "output_type": "execute_result"
    }
   ],
   "source": [
    "x[1,-1]"
   ]
  },
  {
   "cell_type": "code",
   "execution_count": 30,
   "metadata": {
    "execution": {
     "iopub.execute_input": "2021-09-08T03:05:53.327958Z",
     "iopub.status.busy": "2021-09-08T03:05:53.327958Z",
     "iopub.status.idle": "2021-09-08T03:05:53.338904Z",
     "shell.execute_reply": "2021-09-08T03:05:53.338904Z",
     "shell.execute_reply.started": "2021-09-08T03:05:53.327958Z"
    }
   },
   "outputs": [
    {
     "data": {
      "text/plain": [
       "9"
      ]
     },
     "execution_count": 30,
     "metadata": {},
     "output_type": "execute_result"
    }
   ],
   "source": [
    "x[-1,-3]"
   ]
  },
  {
   "cell_type": "code",
   "execution_count": 31,
   "metadata": {
    "execution": {
     "iopub.execute_input": "2021-09-08T03:05:53.339901Z",
     "iopub.status.busy": "2021-09-08T03:05:53.339901Z",
     "iopub.status.idle": "2021-09-08T03:05:53.351893Z",
     "shell.execute_reply": "2021-09-08T03:05:53.351893Z",
     "shell.execute_reply.started": "2021-09-08T03:05:53.339901Z"
    }
   },
   "outputs": [
    {
     "data": {
      "text/plain": [
       "array([ 8,  9, 10, 11])"
      ]
     },
     "execution_count": 31,
     "metadata": {},
     "output_type": "execute_result"
    }
   ],
   "source": [
    "x[-1] #equivalent : x[-1,:]"
   ]
  },
  {
   "cell_type": "code",
   "execution_count": 32,
   "metadata": {
    "execution": {
     "iopub.execute_input": "2021-09-08T03:05:53.355859Z",
     "iopub.status.busy": "2021-09-08T03:05:53.354861Z",
     "iopub.status.idle": "2021-09-08T03:05:53.366901Z",
     "shell.execute_reply": "2021-09-08T03:05:53.366901Z",
     "shell.execute_reply.started": "2021-09-08T03:05:53.354861Z"
    }
   },
   "outputs": [
    {
     "data": {
      "text/plain": [
       "array([ 3,  7, 11])"
      ]
     },
     "execution_count": 32,
     "metadata": {},
     "output_type": "execute_result"
    }
   ],
   "source": [
    "x[:,-1]"
   ]
  },
  {
   "cell_type": "markdown",
   "metadata": {},
   "source": [
    "(4) Method of arrays"
   ]
  },
  {
   "cell_type": "code",
   "execution_count": 33,
   "metadata": {
    "execution": {
     "iopub.execute_input": "2021-09-08T03:05:53.367852Z",
     "iopub.status.busy": "2021-09-08T03:05:53.367852Z",
     "iopub.status.idle": "2021-09-08T03:05:53.379689Z",
     "shell.execute_reply": "2021-09-08T03:05:53.379689Z",
     "shell.execute_reply.started": "2021-09-08T03:05:53.367852Z"
    }
   },
   "outputs": [
    {
     "data": {
      "text/plain": [
       "array([4, 3, 2, 1])"
      ]
     },
     "execution_count": 33,
     "metadata": {},
     "output_type": "execute_result"
    }
   ],
   "source": [
    "a = np.array((4, 3, 2, 1))\n",
    "a"
   ]
  },
  {
   "cell_type": "code",
   "execution_count": 34,
   "metadata": {
    "execution": {
     "iopub.execute_input": "2021-09-08T03:05:53.380616Z",
     "iopub.status.busy": "2021-09-08T03:05:53.380616Z",
     "iopub.status.idle": "2021-09-08T03:05:53.392635Z",
     "shell.execute_reply": "2021-09-08T03:05:53.392635Z",
     "shell.execute_reply.started": "2021-09-08T03:05:53.380616Z"
    }
   },
   "outputs": [
    {
     "data": {
      "text/plain": [
       "array([1, 2, 3, 4])"
      ]
     },
     "execution_count": 34,
     "metadata": {},
     "output_type": "execute_result"
    }
   ],
   "source": [
    "a.sort()              # Sorts a in place\n",
    "a"
   ]
  },
  {
   "cell_type": "code",
   "execution_count": 35,
   "metadata": {
    "execution": {
     "iopub.execute_input": "2021-09-08T03:05:53.393632Z",
     "iopub.status.busy": "2021-09-08T03:05:53.393632Z",
     "iopub.status.idle": "2021-09-08T03:05:53.407217Z",
     "shell.execute_reply": "2021-09-08T03:05:53.407217Z",
     "shell.execute_reply.started": "2021-09-08T03:05:53.393632Z"
    }
   },
   "outputs": [
    {
     "data": {
      "text/plain": [
       "10"
      ]
     },
     "execution_count": 35,
     "metadata": {},
     "output_type": "execute_result"
    }
   ],
   "source": [
    "a.sum()   "
   ]
  },
  {
   "cell_type": "code",
   "execution_count": 36,
   "metadata": {
    "execution": {
     "iopub.execute_input": "2021-09-08T03:05:53.408227Z",
     "iopub.status.busy": "2021-09-08T03:05:53.408227Z",
     "iopub.status.idle": "2021-09-08T03:05:53.421181Z",
     "shell.execute_reply": "2021-09-08T03:05:53.421181Z",
     "shell.execute_reply.started": "2021-09-08T03:05:53.408227Z"
    }
   },
   "outputs": [
    {
     "data": {
      "text/plain": [
       "2.5"
      ]
     },
     "execution_count": 36,
     "metadata": {},
     "output_type": "execute_result"
    }
   ],
   "source": [
    "a.mean()"
   ]
  },
  {
   "cell_type": "code",
   "execution_count": 37,
   "metadata": {
    "execution": {
     "iopub.execute_input": "2021-09-08T03:05:53.422178Z",
     "iopub.status.busy": "2021-09-08T03:05:53.422178Z",
     "iopub.status.idle": "2021-09-08T03:05:53.435540Z",
     "shell.execute_reply": "2021-09-08T03:05:53.435540Z",
     "shell.execute_reply.started": "2021-09-08T03:05:53.422178Z"
    }
   },
   "outputs": [
    {
     "data": {
      "text/plain": [
       "4"
      ]
     },
     "execution_count": 37,
     "metadata": {},
     "output_type": "execute_result"
    }
   ],
   "source": [
    "a.max()"
   ]
  },
  {
   "cell_type": "code",
   "execution_count": 38,
   "metadata": {
    "execution": {
     "iopub.execute_input": "2021-09-08T03:05:53.436483Z",
     "iopub.status.busy": "2021-09-08T03:05:53.436483Z",
     "iopub.status.idle": "2021-09-08T03:05:53.449063Z",
     "shell.execute_reply": "2021-09-08T03:05:53.449063Z",
     "shell.execute_reply.started": "2021-09-08T03:05:53.436483Z"
    }
   },
   "outputs": [
    {
     "data": {
      "text/plain": [
       "3"
      ]
     },
     "execution_count": 38,
     "metadata": {},
     "output_type": "execute_result"
    }
   ],
   "source": [
    "a.argmax()"
   ]
  },
  {
   "cell_type": "code",
   "execution_count": 39,
   "metadata": {
    "execution": {
     "iopub.execute_input": "2021-09-08T03:05:53.450058Z",
     "iopub.status.busy": "2021-09-08T03:05:53.450058Z",
     "iopub.status.idle": "2021-09-08T03:05:53.465016Z",
     "shell.execute_reply": "2021-09-08T03:05:53.464038Z",
     "shell.execute_reply.started": "2021-09-08T03:05:53.450058Z"
    }
   },
   "outputs": [
    {
     "data": {
      "text/plain": [
       "array([ 1,  3,  6, 10], dtype=int32)"
      ]
     },
     "execution_count": 39,
     "metadata": {},
     "output_type": "execute_result"
    }
   ],
   "source": [
    "a.cumsum()"
   ]
  },
  {
   "cell_type": "code",
   "execution_count": 40,
   "metadata": {
    "execution": {
     "iopub.execute_input": "2021-09-08T03:05:53.467010Z",
     "iopub.status.busy": "2021-09-08T03:05:53.467010Z",
     "iopub.status.idle": "2021-09-08T03:05:53.480978Z",
     "shell.execute_reply": "2021-09-08T03:05:53.479955Z",
     "shell.execute_reply.started": "2021-09-08T03:05:53.467010Z"
    }
   },
   "outputs": [
    {
     "data": {
      "text/plain": [
       "array([ 1,  2,  6, 24], dtype=int32)"
      ]
     },
     "execution_count": 40,
     "metadata": {},
     "output_type": "execute_result"
    }
   ],
   "source": [
    "a.cumprod()     "
   ]
  },
  {
   "cell_type": "code",
   "execution_count": 41,
   "metadata": {
    "execution": {
     "iopub.execute_input": "2021-09-08T03:05:53.482947Z",
     "iopub.status.busy": "2021-09-08T03:05:53.482947Z",
     "iopub.status.idle": "2021-09-08T03:05:53.496933Z",
     "shell.execute_reply": "2021-09-08T03:05:53.495934Z",
     "shell.execute_reply.started": "2021-09-08T03:05:53.482947Z"
    }
   },
   "outputs": [
    {
     "data": {
      "text/plain": [
       "1.25"
      ]
     },
     "execution_count": 41,
     "metadata": {},
     "output_type": "execute_result"
    }
   ],
   "source": [
    "a.var()   "
   ]
  },
  {
   "cell_type": "code",
   "execution_count": 42,
   "metadata": {
    "execution": {
     "iopub.execute_input": "2021-09-08T03:05:53.498926Z",
     "iopub.status.busy": "2021-09-08T03:05:53.498926Z",
     "iopub.status.idle": "2021-09-08T03:05:53.512888Z",
     "shell.execute_reply": "2021-09-08T03:05:53.511910Z",
     "shell.execute_reply.started": "2021-09-08T03:05:53.498926Z"
    }
   },
   "outputs": [
    {
     "data": {
      "text/plain": [
       "1.118033988749895"
      ]
     },
     "execution_count": 42,
     "metadata": {},
     "output_type": "execute_result"
    }
   ],
   "source": [
    "a.std() "
   ]
  },
  {
   "cell_type": "code",
   "execution_count": 43,
   "metadata": {
    "execution": {
     "iopub.execute_input": "2021-09-08T03:05:53.514860Z",
     "iopub.status.busy": "2021-09-08T03:05:53.514860Z",
     "iopub.status.idle": "2021-09-08T03:05:53.529890Z",
     "shell.execute_reply": "2021-09-08T03:05:53.528914Z",
     "shell.execute_reply.started": "2021-09-08T03:05:53.514860Z"
    }
   },
   "outputs": [
    {
     "data": {
      "text/plain": [
       "array([[1, 3],\n",
       "       [2, 4]])"
      ]
     },
     "execution_count": 43,
     "metadata": {},
     "output_type": "execute_result"
    }
   ],
   "source": [
    "a.shape = (2, 2)\n",
    "a.T "
   ]
  },
  {
   "cell_type": "markdown",
   "metadata": {},
   "source": [
    "__Array Concatenation__: `concatenate`, `vstack`, `hstack`"
   ]
  },
  {
   "cell_type": "code",
   "execution_count": 44,
   "metadata": {},
   "outputs": [
    {
     "data": {
      "text/plain": [
       "array([[1, 2, 3],\n",
       "       [3, 6, 9]])"
      ]
     },
     "execution_count": 44,
     "metadata": {},
     "output_type": "execute_result"
    }
   ],
   "source": [
    "x = np.array([[1,2,3]])\n",
    "y = np.array([[3,6,9]])\n",
    "np.concatenate([x,y])"
   ]
  },
  {
   "cell_type": "code",
   "execution_count": 45,
   "metadata": {},
   "outputs": [
    {
     "data": {
      "text/plain": [
       "array([[1, 2, 3],\n",
       "       [3, 6, 9]])"
      ]
     },
     "execution_count": 45,
     "metadata": {},
     "output_type": "execute_result"
    }
   ],
   "source": [
    "np.r_[x,y]"
   ]
  },
  {
   "cell_type": "code",
   "execution_count": 46,
   "metadata": {},
   "outputs": [
    {
     "data": {
      "text/plain": [
       "array([[1, 2, 3, 3, 6, 9]])"
      ]
     },
     "execution_count": 46,
     "metadata": {},
     "output_type": "execute_result"
    }
   ],
   "source": [
    "np.concatenate([x,y], axis=1)"
   ]
  },
  {
   "cell_type": "code",
   "execution_count": 47,
   "metadata": {
    "execution": {
     "iopub.execute_input": "2021-09-08T03:05:53.531907Z",
     "iopub.status.busy": "2021-09-08T03:05:53.531907Z",
     "iopub.status.idle": "2021-09-08T03:05:53.547127Z",
     "shell.execute_reply": "2021-09-08T03:05:53.546121Z",
     "shell.execute_reply.started": "2021-09-08T03:05:53.531907Z"
    }
   },
   "outputs": [
    {
     "data": {
      "text/plain": [
       "array([[1, 3],\n",
       "       [2, 6],\n",
       "       [3, 9]])"
      ]
     },
     "execution_count": 47,
     "metadata": {},
     "output_type": "execute_result"
    }
   ],
   "source": [
    "x = np.array([1,2,3])\n",
    "y = np.array([3,6,9])\n",
    "np.concatenate([x,y])\n",
    "np.c_[x,y]"
   ]
  },
  {
   "cell_type": "code",
   "execution_count": 48,
   "metadata": {
    "execution": {
     "iopub.execute_input": "2021-09-08T03:05:53.549113Z",
     "iopub.status.busy": "2021-09-08T03:05:53.548090Z",
     "iopub.status.idle": "2021-09-08T03:05:53.562051Z",
     "shell.execute_reply": "2021-09-08T03:05:53.561055Z",
     "shell.execute_reply.started": "2021-09-08T03:05:53.549113Z"
    }
   },
   "outputs": [
    {
     "data": {
      "text/plain": [
       "array([[1, 2, 3],\n",
       "       [3, 6, 9]])"
      ]
     },
     "execution_count": 48,
     "metadata": {},
     "output_type": "execute_result"
    }
   ],
   "source": [
    "np.vstack([x,y])"
   ]
  },
  {
   "cell_type": "code",
   "execution_count": 49,
   "metadata": {
    "execution": {
     "iopub.execute_input": "2021-09-08T03:05:53.563049Z",
     "iopub.status.busy": "2021-09-08T03:05:53.563049Z",
     "iopub.status.idle": "2021-09-08T03:05:53.574045Z",
     "shell.execute_reply": "2021-09-08T03:05:53.574045Z",
     "shell.execute_reply.started": "2021-09-08T03:05:53.563049Z"
    }
   },
   "outputs": [
    {
     "data": {
      "text/plain": [
       "array([1, 2, 3, 3, 6, 9])"
      ]
     },
     "execution_count": 49,
     "metadata": {},
     "output_type": "execute_result"
    }
   ],
   "source": [
    "np.hstack([x,y])"
   ]
  },
  {
   "cell_type": "markdown",
   "metadata": {},
   "source": [
    "(5) Comparison Operator"
   ]
  },
  {
   "cell_type": "code",
   "execution_count": 50,
   "metadata": {
    "execution": {
     "iopub.execute_input": "2021-09-08T03:05:53.576014Z",
     "iopub.status.busy": "2021-09-08T03:05:53.575017Z",
     "iopub.status.idle": "2021-09-08T03:05:53.587005Z",
     "shell.execute_reply": "2021-09-08T03:05:53.587005Z",
     "shell.execute_reply.started": "2021-09-08T03:05:53.576014Z"
    }
   },
   "outputs": [],
   "source": [
    "x = np.array([1,2,3,4,5])"
   ]
  },
  {
   "cell_type": "code",
   "execution_count": 51,
   "metadata": {
    "execution": {
     "iopub.execute_input": "2021-09-08T03:05:53.587987Z",
     "iopub.status.busy": "2021-09-08T03:05:53.587987Z",
     "iopub.status.idle": "2021-09-08T03:05:53.599971Z",
     "shell.execute_reply": "2021-09-08T03:05:53.599971Z",
     "shell.execute_reply.started": "2021-09-08T03:05:53.587987Z"
    }
   },
   "outputs": [
    {
     "data": {
      "text/plain": [
       "array([ True,  True, False, False, False])"
      ]
     },
     "execution_count": 51,
     "metadata": {},
     "output_type": "execute_result"
    }
   ],
   "source": [
    "x < 3"
   ]
  },
  {
   "cell_type": "code",
   "execution_count": 52,
   "metadata": {
    "execution": {
     "iopub.execute_input": "2021-09-08T03:05:53.600948Z",
     "iopub.status.busy": "2021-09-08T03:05:53.600948Z",
     "iopub.status.idle": "2021-09-08T03:05:53.612941Z",
     "shell.execute_reply": "2021-09-08T03:05:53.612941Z",
     "shell.execute_reply.started": "2021-09-08T03:05:53.600948Z"
    }
   },
   "outputs": [
    {
     "data": {
      "text/plain": [
       "array([False, False, False,  True,  True])"
      ]
     },
     "execution_count": 52,
     "metadata": {},
     "output_type": "execute_result"
    }
   ],
   "source": [
    "x > 3"
   ]
  },
  {
   "cell_type": "code",
   "execution_count": 53,
   "metadata": {
    "execution": {
     "iopub.execute_input": "2021-09-08T03:05:53.613933Z",
     "iopub.status.busy": "2021-09-08T03:05:53.613933Z",
     "iopub.status.idle": "2021-09-08T03:05:53.625906Z",
     "shell.execute_reply": "2021-09-08T03:05:53.625906Z",
     "shell.execute_reply.started": "2021-09-08T03:05:53.613933Z"
    }
   },
   "outputs": [
    {
     "data": {
      "text/plain": [
       "array([ True,  True, False,  True,  True])"
      ]
     },
     "execution_count": 53,
     "metadata": {},
     "output_type": "execute_result"
    }
   ],
   "source": [
    "x != 3"
   ]
  },
  {
   "cell_type": "code",
   "execution_count": 54,
   "metadata": {
    "execution": {
     "iopub.execute_input": "2021-09-08T03:05:53.626878Z",
     "iopub.status.busy": "2021-09-08T03:05:53.626878Z",
     "iopub.status.idle": "2021-09-08T03:05:53.638873Z",
     "shell.execute_reply": "2021-09-08T03:05:53.638873Z",
     "shell.execute_reply.started": "2021-09-08T03:05:53.626878Z"
    }
   },
   "outputs": [
    {
     "data": {
      "text/plain": [
       "array([False, False,  True, False, False])"
      ]
     },
     "execution_count": 54,
     "metadata": {},
     "output_type": "execute_result"
    }
   ],
   "source": [
    "x == 3"
   ]
  },
  {
   "cell_type": "code",
   "execution_count": 55,
   "metadata": {
    "execution": {
     "iopub.execute_input": "2021-09-08T03:05:53.639844Z",
     "iopub.status.busy": "2021-09-08T03:05:53.639844Z",
     "iopub.status.idle": "2021-09-08T03:05:53.650841Z",
     "shell.execute_reply": "2021-09-08T03:05:53.650841Z",
     "shell.execute_reply.started": "2021-09-08T03:05:53.639844Z"
    }
   },
   "outputs": [
    {
     "data": {
      "text/plain": [
       "array([ True,  True,  True,  True, False])"
      ]
     },
     "execution_count": 55,
     "metadata": {},
     "output_type": "execute_result"
    }
   ],
   "source": [
    "y = np.array([5,5,5,5,5])\n",
    "x < y"
   ]
  },
  {
   "cell_type": "markdown",
   "metadata": {},
   "source": [
    "Module, Package"
   ]
  },
  {
   "cell_type": "markdown",
   "metadata": {},
   "source": [
    "(additional) Sub-packages (Module)\n",
    "\n",
    "- NumPy provides some additional functionality related to scientific programming through its sub-packages. We’ve already seen how we can generate random variables using np.random"
   ]
  },
  {
   "cell_type": "code",
   "execution_count": 56,
   "metadata": {},
   "outputs": [],
   "source": [
    "import numpy as np\n",
    "from numpy import random as rnd"
   ]
  },
  {
   "cell_type": "code",
   "execution_count": 57,
   "metadata": {
    "execution": {
     "iopub.execute_input": "2021-09-08T03:05:53.651843Z",
     "iopub.status.busy": "2021-09-08T03:05:53.651843Z",
     "iopub.status.idle": "2021-09-08T03:05:53.662836Z",
     "shell.execute_reply": "2021-09-08T03:05:53.662836Z",
     "shell.execute_reply.started": "2021-09-08T03:05:53.651843Z"
    }
   },
   "outputs": [
    {
     "data": {
      "text/plain": [
       "4.985"
      ]
     },
     "execution_count": 57,
     "metadata": {},
     "output_type": "execute_result"
    }
   ],
   "source": [
    "z = np.random.normal(size=10000)  # Generate standard normals\n",
    "y = np.random.binomial(10, 0.5, size=1000)    # 1,000 draws from Bin(10, 0.5)\n",
    "y.mean()"
   ]
  },
  {
   "cell_type": "markdown",
   "metadata": {},
   "source": [
    "Another commonly used subpackage is np.linalg"
   ]
  },
  {
   "cell_type": "code",
   "execution_count": 58,
   "metadata": {
    "execution": {
     "iopub.execute_input": "2021-09-08T03:05:53.663808Z",
     "iopub.status.busy": "2021-09-08T03:05:53.663808Z",
     "iopub.status.idle": "2021-09-08T03:05:53.673808Z",
     "shell.execute_reply": "2021-09-08T03:05:53.673808Z",
     "shell.execute_reply.started": "2021-09-08T03:05:53.663808Z"
    }
   },
   "outputs": [
    {
     "data": {
      "text/plain": [
       "-2.0000000000000004"
      ]
     },
     "execution_count": 58,
     "metadata": {},
     "output_type": "execute_result"
    }
   ],
   "source": [
    "A = np.array([[1, 2], [3, 4]])\n",
    "\n",
    "np.linalg.det(A)  "
   ]
  },
  {
   "cell_type": "code",
   "execution_count": 59,
   "metadata": {
    "execution": {
     "iopub.execute_input": "2021-09-08T03:05:53.674779Z",
     "iopub.status.busy": "2021-09-08T03:05:53.674779Z",
     "iopub.status.idle": "2021-09-08T03:05:53.686773Z",
     "shell.execute_reply": "2021-09-08T03:05:53.686773Z",
     "shell.execute_reply.started": "2021-09-08T03:05:53.674779Z"
    }
   },
   "outputs": [
    {
     "data": {
      "text/plain": [
       "array([[-2. ,  1. ],\n",
       "       [ 1.5, -0.5]])"
      ]
     },
     "execution_count": 59,
     "metadata": {},
     "output_type": "execute_result"
    }
   ],
   "source": [
    "np.linalg.inv(A)        "
   ]
  },
  {
   "cell_type": "markdown",
   "metadata": {},
   "source": [
    "__Exercise__ (9/15 24:00)  <br>\n",
    "1. Create len(10) integer array filled with zeros\n",
    "2. Create 3x5 floating point array filled with ones\n",
    "3. Create 3x5 array filled with 3.14\n",
    "4. Create an array filled with a linear space starting at 0, ending at 20, stepping by 2\n",
    "5. Create an array of five values evenly spaced between 0 and 1\n",
    "6. Create a 3x3 array of uniformly distributed random (0, 1)\n",
    "7. Create a 3x3 array of with mean 0 and standard deviation 1\n",
    "8. Create a 3x3 array of random integers in the interval [0, 10]\n",
    "9. Create a 3x3 identity matrix"
   ]
  },
  {
   "cell_type": "code",
   "execution_count": null,
   "metadata": {},
   "outputs": [],
   "source": []
  }
 ],
 "metadata": {
  "kernelspec": {
   "display_name": "Python 3 (ipykernel)",
   "language": "python",
   "name": "python3"
  },
  "language_info": {
   "codemirror_mode": {
    "name": "ipython",
    "version": 3
   },
   "file_extension": ".py",
   "mimetype": "text/x-python",
   "name": "python",
   "nbconvert_exporter": "python",
   "pygments_lexer": "ipython3",
   "version": "3.8.10"
  }
 },
 "nbformat": 4,
 "nbformat_minor": 4
}
