{
 "cells": [
  {
   "cell_type": "markdown",
   "metadata": {},
   "source": [
    "## 1. Logical Operators\n",
    "\n",
    "- Logical operators, when combined with flow control, allow for complex choices to be compactly expressed.\n",
    "\n",
    "### 1.1 >, >=, <, <=, ==, !=\n",
    "\n",
    "- The core logical operators are\n",
    "\n",
    "<img src=\"./img/9.png\" width=\"600\" height=\"600\">\n",
    "\n",
    "- Logical operators can be used on scalars, arrays and matrices. \n",
    "- All comparisons are done element-by-element.\n",
    "- Return either True or False (Boolean)."
   ]
  },
  {
   "cell_type": "code",
   "execution_count": 24,
   "metadata": {},
   "outputs": [
    {
     "name": "stdout",
     "output_type": "stream",
     "text": [
      "[0 1 2 3 4]\n",
      "[ True  True  True  True  True]\n"
     ]
    }
   ],
   "source": [
    "x =  np.arange(5)\n",
    "print(x)\n",
    "print(x<5)"
   ]
  },
  {
   "cell_type": "code",
   "execution_count": 25,
   "metadata": {},
   "outputs": [
    {
     "name": "stdout",
     "output_type": "stream",
     "text": [
      "[[ 1  2]\n",
      " [-3 -4]]\n",
      "[ 1 -1]\n",
      "[[False  True]\n",
      " [False False]]\n"
     ]
    }
   ],
   "source": [
    "x = np.array([[1,2], [-3,-4]]) # (2,2)\n",
    "print(x)\n",
    "y = np.array([1,-1]) # (1,2)\n",
    "print(y)\n",
    "print(x>y)"
   ]
  },
  {
   "cell_type": "code",
   "execution_count": 23,
   "metadata": {
    "tags": []
   },
   "outputs": [
    {
     "name": "stdout",
     "output_type": "stream",
     "text": [
      "True\n",
      "False\n",
      "True\n",
      "[ True  True  True  True  True]\n",
      "[[False  True]\n",
      " [False False]]\n"
     ]
    }
   ],
   "source": [
    "import numpy as np\n",
    "\n",
    "print(1.0 < 5.0)\n",
    "print(1.0 == 5.0)\n",
    "print(1.0 != 5.0)\n",
    "\n",
    "x =  np.arange(5)\n",
    "print(x<5)\n",
    "x = np.array([[1,2], [-3,-4]])\n",
    "y = np.array([1,-1])\n",
    "print(x>y)"
   ]
  },
  {
   "cell_type": "markdown",
   "metadata": {},
   "source": [
    "### 1.2 and, or, not and xor\n",
    "\n",
    "- Logical expressions can be combined using four logical devices,\n",
    "\n",
    "<img src=\"./img/10.png\" width=\"600\" height=\"600\">\n",
    "\n",
    "- The keyword version (e.g. and) can only be used with scalars.\n",
    "- Both the function and bitwise operators can be used with Numpy arrays."
   ]
  },
  {
   "cell_type": "code",
   "execution_count": 31,
   "metadata": {},
   "outputs": [
    {
     "name": "stdout",
     "output_type": "stream",
     "text": [
      "-1\n"
     ]
    }
   ],
   "source": [
    "print(~((1>2) & (3>4)))"
   ]
  },
  {
   "cell_type": "code",
   "execution_count": 27,
   "metadata": {
    "tags": []
   },
   "outputs": [
    {
     "name": "stdout",
     "output_type": "stream",
     "text": [
      "False\n",
      "False\n",
      "-1\n"
     ]
    }
   ],
   "source": [
    "print((1>2) and (3<4))\n",
    "print((1>2) or (3>4))\n",
    "print(~((1>2) & (3>4)))"
   ]
  },
  {
   "cell_type": "code",
   "execution_count": 3,
   "metadata": {
    "execution": {
     "iopub.execute_input": "2021-09-08T03:20:14.045523Z",
     "iopub.status.busy": "2021-09-08T03:20:14.045523Z",
     "iopub.status.idle": "2021-09-08T03:20:14.061481Z",
     "shell.execute_reply": "2021-09-08T03:20:14.061481Z",
     "shell.execute_reply.started": "2021-09-08T03:20:14.045523Z"
    }
   },
   "outputs": [
    {
     "data": {
      "text/plain": [
       "array([ True,  True,  True, False,  True,  True])"
      ]
     },
     "execution_count": 3,
     "metadata": {},
     "output_type": "execute_result"
    }
   ],
   "source": [
    "x = np.arange(-2,4)\n",
    "~((x>0) & (x<2))"
   ]
  },
  {
   "cell_type": "code",
   "execution_count": 4,
   "metadata": {
    "execution": {
     "iopub.execute_input": "2021-09-08T03:20:14.063475Z",
     "iopub.status.busy": "2021-09-08T03:20:14.062477Z",
     "iopub.status.idle": "2021-09-08T03:20:14.072476Z",
     "shell.execute_reply": "2021-09-08T03:20:14.072476Z",
     "shell.execute_reply.started": "2021-09-08T03:20:14.062477Z"
    }
   },
   "outputs": [
    {
     "data": {
      "text/plain": [
       "array([False, False, False,  True, False, False])"
      ]
     },
     "execution_count": 4,
     "metadata": {},
     "output_type": "execute_result"
    }
   ],
   "source": [
    "x = np.arange(-2,4)\n",
    "(x>0) & (x<2)"
   ]
  },
  {
   "cell_type": "code",
   "execution_count": 90,
   "metadata": {
    "execution": {
     "iopub.execute_input": "2021-09-08T03:20:14.073448Z",
     "iopub.status.busy": "2021-09-08T03:20:14.073448Z",
     "iopub.status.idle": "2021-09-08T03:20:14.144105Z",
     "shell.execute_reply": "2021-09-08T03:20:14.143132Z",
     "shell.execute_reply.started": "2021-09-08T03:20:14.073448Z"
    }
   },
   "outputs": [
    {
     "data": {
      "text/plain": [
       "array([False, False, False,  True, False, False])"
      ]
     },
     "execution_count": 90,
     "metadata": {},
     "output_type": "execute_result"
    }
   ],
   "source": [
    "x = np.arange(-2,4)\n",
    "(x>0) & (x<2)"
   ]
  },
  {
   "cell_type": "markdown",
   "metadata": {},
   "source": [
    "### 1.3 Multiple tests (all and any)\n",
    "- all returns True if all logical elements in an array is True.\n",
    "- any returns if any element of an array is True."
   ]
  },
  {
   "cell_type": "code",
   "execution_count": 6,
   "metadata": {
    "execution": {
     "iopub.execute_input": "2021-09-08T03:20:19.697443Z",
     "iopub.status.busy": "2021-09-08T03:20:19.697443Z",
     "iopub.status.idle": "2021-09-08T03:20:19.701462Z",
     "shell.execute_reply": "2021-09-08T03:20:19.701462Z",
     "shell.execute_reply.started": "2021-09-08T03:20:19.697443Z"
    }
   },
   "outputs": [
    {
     "data": {
      "text/plain": [
       "False"
      ]
     },
     "execution_count": 6,
     "metadata": {},
     "output_type": "execute_result"
    }
   ],
   "source": [
    "any([False, False, False])"
   ]
  },
  {
   "cell_type": "code",
   "execution_count": 7,
   "metadata": {
    "execution": {
     "iopub.execute_input": "2021-09-08T03:20:20.507586Z",
     "iopub.status.busy": "2021-09-08T03:20:20.506588Z",
     "iopub.status.idle": "2021-09-08T03:20:20.511576Z",
     "shell.execute_reply": "2021-09-08T03:20:20.511576Z",
     "shell.execute_reply.started": "2021-09-08T03:20:20.507586Z"
    }
   },
   "outputs": [
    {
     "data": {
      "text/plain": [
       "True"
      ]
     },
     "execution_count": 7,
     "metadata": {},
     "output_type": "execute_result"
    }
   ],
   "source": [
    "any([True, False, False])"
   ]
  },
  {
   "cell_type": "code",
   "execution_count": 21,
   "metadata": {},
   "outputs": [
    {
     "data": {
      "text/plain": [
       "False"
      ]
     },
     "execution_count": 21,
     "metadata": {},
     "output_type": "execute_result"
    }
   ],
   "source": [
    "all([False, False, False])"
   ]
  },
  {
   "cell_type": "code",
   "execution_count": 20,
   "metadata": {},
   "outputs": [
    {
     "data": {
      "text/plain": [
       "True"
      ]
     },
     "execution_count": 20,
     "metadata": {},
     "output_type": "execute_result"
    }
   ],
   "source": [
    "all([True, True, True])"
   ]
  },
  {
   "cell_type": "code",
   "execution_count": 35,
   "metadata": {
    "tags": []
   },
   "outputs": [
    {
     "data": {
      "text/plain": [
       "array([ True,  True, False, False])"
      ]
     },
     "execution_count": 35,
     "metadata": {},
     "output_type": "execute_result"
    }
   ],
   "source": [
    "x = np.array([1,2,3,4])\n",
    "x <= 2"
   ]
  },
  {
   "cell_type": "code",
   "execution_count": 36,
   "metadata": {},
   "outputs": [
    {
     "data": {
      "text/plain": [
       "array([ True,  True, False, False])"
      ]
     },
     "execution_count": 36,
     "metadata": {},
     "output_type": "execute_result"
    }
   ],
   "source": [
    "x<=2"
   ]
  },
  {
   "cell_type": "code",
   "execution_count": 94,
   "metadata": {
    "execution": {
     "iopub.execute_input": "2021-09-08T03:20:21.521260Z",
     "iopub.status.busy": "2021-09-08T03:20:21.520240Z",
     "iopub.status.idle": "2021-09-08T03:20:21.525733Z",
     "shell.execute_reply": "2021-09-08T03:20:21.525733Z",
     "shell.execute_reply.started": "2021-09-08T03:20:21.521260Z"
    }
   },
   "outputs": [
    {
     "data": {
      "text/plain": [
       "True"
      ]
     },
     "execution_count": 94,
     "metadata": {},
     "output_type": "execute_result"
    }
   ],
   "source": [
    "any(x<=2)"
   ]
  },
  {
   "cell_type": "code",
   "execution_count": 37,
   "metadata": {},
   "outputs": [
    {
     "data": {
      "text/plain": [
       "1"
      ]
     },
     "execution_count": 37,
     "metadata": {},
     "output_type": "execute_result"
    }
   ],
   "source": [
    "x.ndim"
   ]
  },
  {
   "cell_type": "code",
   "execution_count": 38,
   "metadata": {
    "tags": []
   },
   "outputs": [
    {
     "data": {
      "text/plain": [
       "array([[ True,  True, False, False]])"
      ]
     },
     "execution_count": 38,
     "metadata": {},
     "output_type": "execute_result"
    }
   ],
   "source": [
    "x = np.array([[1,2,3,4]])\n",
    "x <= 2"
   ]
  },
  {
   "cell_type": "code",
   "execution_count": 39,
   "metadata": {},
   "outputs": [
    {
     "data": {
      "text/plain": [
       "2"
      ]
     },
     "execution_count": 39,
     "metadata": {},
     "output_type": "execute_result"
    }
   ],
   "source": [
    "x.ndim"
   ]
  },
  {
   "cell_type": "code",
   "execution_count": 97,
   "metadata": {
    "execution": {
     "iopub.execute_input": "2021-09-08T03:20:21.706227Z",
     "iopub.status.busy": "2021-09-08T03:20:21.705230Z",
     "iopub.status.idle": "2021-09-08T03:20:21.710243Z",
     "shell.execute_reply": "2021-09-08T03:20:21.710243Z",
     "shell.execute_reply.started": "2021-09-08T03:20:21.706227Z"
    }
   },
   "outputs": [
    {
     "data": {
      "text/plain": [
       "(1, 4)"
      ]
     },
     "execution_count": 97,
     "metadata": {},
     "output_type": "execute_result"
    }
   ],
   "source": [
    "x.shape"
   ]
  },
  {
   "cell_type": "code",
   "execution_count": 5,
   "metadata": {},
   "outputs": [],
   "source": [
    "import numpy as np"
   ]
  },
  {
   "cell_type": "code",
   "execution_count": 40,
   "metadata": {
    "tags": []
   },
   "outputs": [
    {
     "ename": "ValueError",
     "evalue": "The truth value of an array with more than one element is ambiguous. Use a.any() or a.all()",
     "output_type": "error",
     "traceback": [
      "\u001b[1;31m---------------------------------------------------------------------------\u001b[0m",
      "\u001b[1;31mValueError\u001b[0m                                Traceback (most recent call last)",
      "\u001b[1;32m<ipython-input-40-736f012f6697>\u001b[0m in \u001b[0;36m<module>\u001b[1;34m\u001b[0m\n\u001b[1;32m----> 1\u001b[1;33m \u001b[0many\u001b[0m\u001b[1;33m(\u001b[0m\u001b[0mx\u001b[0m\u001b[1;33m<=\u001b[0m\u001b[1;36m2\u001b[0m\u001b[1;33m)\u001b[0m\u001b[1;33m\u001b[0m\u001b[1;33m\u001b[0m\u001b[0m\n\u001b[0m",
      "\u001b[1;31mValueError\u001b[0m: The truth value of an array with more than one element is ambiguous. Use a.any() or a.all()"
     ]
    }
   ],
   "source": [
    "any(x<=2)"
   ]
  },
  {
   "cell_type": "code",
   "execution_count": 41,
   "metadata": {
    "tags": []
   },
   "outputs": [
    {
     "data": {
      "text/plain": [
       "True"
      ]
     },
     "execution_count": 41,
     "metadata": {},
     "output_type": "execute_result"
    }
   ],
   "source": [
    "(x<=2).any()"
   ]
  },
  {
   "cell_type": "code",
   "execution_count": 42,
   "metadata": {},
   "outputs": [
    {
     "data": {
      "text/plain": [
       "True"
      ]
     },
     "execution_count": 42,
     "metadata": {},
     "output_type": "execute_result"
    }
   ],
   "source": [
    "(x<=2).any()"
   ]
  },
  {
   "cell_type": "code",
   "execution_count": 43,
   "metadata": {},
   "outputs": [
    {
     "ename": "ValueError",
     "evalue": "The truth value of an array with more than one element is ambiguous. Use a.any() or a.all()",
     "output_type": "error",
     "traceback": [
      "\u001b[1;31m---------------------------------------------------------------------------\u001b[0m",
      "\u001b[1;31mValueError\u001b[0m                                Traceback (most recent call last)",
      "\u001b[1;32m<ipython-input-43-c5db70b118c5>\u001b[0m in \u001b[0;36m<module>\u001b[1;34m\u001b[0m\n\u001b[0;32m      1\u001b[0m \u001b[0mx\u001b[0m \u001b[1;33m=\u001b[0m \u001b[0mnp\u001b[0m\u001b[1;33m.\u001b[0m\u001b[0marray\u001b[0m\u001b[1;33m(\u001b[0m\u001b[1;33m[\u001b[0m\u001b[1;33m[\u001b[0m\u001b[1;32mTrue\u001b[0m\u001b[1;33m,\u001b[0m \u001b[1;32mFalse\u001b[0m\u001b[1;33m]\u001b[0m\u001b[1;33m]\u001b[0m\u001b[1;33m)\u001b[0m\u001b[1;33m\u001b[0m\u001b[1;33m\u001b[0m\u001b[0m\n\u001b[1;32m----> 2\u001b[1;33m \u001b[0many\u001b[0m\u001b[1;33m(\u001b[0m\u001b[0mx\u001b[0m\u001b[1;33m)\u001b[0m\u001b[1;33m\u001b[0m\u001b[1;33m\u001b[0m\u001b[0m\n\u001b[0m",
      "\u001b[1;31mValueError\u001b[0m: The truth value of an array with more than one element is ambiguous. Use a.any() or a.all()"
     ]
    }
   ],
   "source": [
    "x = np.array([[True, False]])\n",
    "any(x)"
   ]
  },
  {
   "cell_type": "code",
   "execution_count": 55,
   "metadata": {},
   "outputs": [],
   "source": [
    "if 2>3:\n",
    "    print('yes')\n",
    "elif 3>2:\n",
    "    print('yes')"
   ]
  },
  {
   "cell_type": "markdown",
   "metadata": {},
   "source": [
    "### 2. Flow control, Loops\n",
    "\n",
    "- Flow control utilizes logical variables to allow different code to be executed depending on whether certain conditions are met.\n",
    "- Python use white space changes to indicate the start and end of flow control blocks, and so indentation matters.\n",
    "- Best practice is to only use spaces (and not tabs) and to use 4 spaces when starting a new level of indentation."
   ]
  },
  {
   "cell_type": "code",
   "execution_count": 53,
   "metadata": {
    "tags": []
   },
   "outputs": [],
   "source": [
    "if (1+3==4) & (1+2==4):\n",
    "    print(4)"
   ]
  },
  {
   "cell_type": "markdown",
   "metadata": {},
   "source": [
    "## 2.1 if, elif, else\n",
    "\n",
    "<img src=\"./img/11.png\" width=\"600\" height=\"600\">\n"
   ]
  },
  {
   "cell_type": "code",
   "execution_count": 16,
   "metadata": {
    "execution": {
     "iopub.execute_input": "2021-09-08T03:20:23.583700Z",
     "iopub.status.busy": "2021-09-08T03:20:23.583700Z",
     "iopub.status.idle": "2021-09-08T03:20:23.587716Z",
     "shell.execute_reply": "2021-09-08T03:20:23.587716Z",
     "shell.execute_reply.started": "2021-09-08T03:20:23.583700Z"
    }
   },
   "outputs": [
    {
     "data": {
      "text/plain": [
       "4"
      ]
     },
     "execution_count": 16,
     "metadata": {},
     "output_type": "execute_result"
    }
   ],
   "source": [
    "x=5\n",
    "\n",
    "if x<5:\n",
    "    x += 1\n",
    "else :\n",
    "    x -= 1\n",
    "x"
   ]
  },
  {
   "cell_type": "code",
   "execution_count": null,
   "metadata": {},
   "outputs": [],
   "source": [
    "x += 1 \n",
    "x = x+1"
   ]
  },
  {
   "cell_type": "code",
   "execution_count": null,
   "metadata": {},
   "outputs": [],
   "source": [
    "x * 1\n",
    "x = x*1"
   ]
  },
  {
   "cell_type": "code",
   "execution_count": 57,
   "metadata": {
    "tags": []
   },
   "outputs": [
    {
     "data": {
      "text/plain": [
       "4"
      ]
     },
     "execution_count": 57,
     "metadata": {},
     "output_type": "execute_result"
    }
   ],
   "source": [
    "x=5\n",
    "\n",
    "if x<5:\n",
    "    x += 1\n",
    "elif x>5:\n",
    "    x -= 1\n",
    "else :\n",
    "    x *= 2\n",
    "x"
   ]
  },
  {
   "cell_type": "code",
   "execution_count": 59,
   "metadata": {},
   "outputs": [
    {
     "data": {
      "text/plain": [
       "2"
      ]
     },
     "execution_count": 59,
     "metadata": {},
     "output_type": "execute_result"
    }
   ],
   "source": [
    "x=3\n",
    "if x<5:\n",
    "    if x<3 : \n",
    "        x+=1\n",
    "    else : \n",
    "        x-=1\n",
    "x"
   ]
  },
  {
   "cell_type": "markdown",
   "metadata": {},
   "source": [
    "### 2.2 for\n",
    "\n",
    "- for loops begin with for _item_ in _iterable_\n",
    "- The generic structure of a for loop is\n",
    "\n",
    "for _item_ in _iterable_ : \n",
    "    _Code to run_"
   ]
  },
  {
   "cell_type": "code",
   "execution_count": 61,
   "metadata": {},
   "outputs": [
    {
     "name": "stdout",
     "output_type": "stream",
     "text": [
      "0\n",
      "1\n",
      "2\n",
      "3\n",
      "4\n",
      "5\n",
      "6\n",
      "7\n",
      "8\n",
      "9\n"
     ]
    }
   ],
   "source": [
    "for i in range(10):\n",
    "    print(i)"
   ]
  },
  {
   "cell_type": "code",
   "execution_count": 60,
   "metadata": {
    "tags": []
   },
   "outputs": [
    {
     "data": {
      "text/plain": [
       "45"
      ]
     },
     "execution_count": 60,
     "metadata": {},
     "output_type": "execute_result"
    }
   ],
   "source": [
    "count = 0\n",
    "for i in range(10):\n",
    "    count += i\n",
    "count"
   ]
  },
  {
   "cell_type": "code",
   "execution_count": 64,
   "metadata": {},
   "outputs": [
    {
     "data": {
      "text/plain": [
       "array([  0.,  10.,  20.,  30.,  40.,  50.,  60.,  70.,  80.,  90., 100.,\n",
       "       110., 120., 130., 140., 150., 160., 170., 180., 190., 200., 210.,\n",
       "       220., 230., 240., 250., 260., 270., 280., 290., 300., 310., 320.,\n",
       "       330., 340., 350., 360., 370., 380., 390., 400., 410., 420., 430.,\n",
       "       440., 450., 460., 470., 480., 490., 500.])"
      ]
     },
     "execution_count": 64,
     "metadata": {},
     "output_type": "execute_result"
    }
   ],
   "source": [
    "np.linspace(0,500,51)"
   ]
  },
  {
   "cell_type": "code",
   "execution_count": 65,
   "metadata": {
    "tags": []
   },
   "outputs": [
    {
     "data": {
      "text/plain": [
       "12750.0"
      ]
     },
     "execution_count": 65,
     "metadata": {},
     "output_type": "execute_result"
    }
   ],
   "source": [
    "count = 0\n",
    "for i in np.linspace(0,500,51):\n",
    "    count += i\n",
    "count"
   ]
  },
  {
   "cell_type": "markdown",
   "metadata": {},
   "source": [
    "- Loops can also be nested"
   ]
  },
  {
   "cell_type": "code",
   "execution_count": 20,
   "metadata": {
    "execution": {
     "iopub.execute_input": "2021-09-08T03:20:26.507425Z",
     "iopub.status.busy": "2021-09-08T03:20:26.507425Z",
     "iopub.status.idle": "2021-09-08T03:20:26.510426Z",
     "shell.execute_reply": "2021-09-08T03:20:26.510426Z",
     "shell.execute_reply.started": "2021-09-08T03:20:26.507425Z"
    }
   },
   "outputs": [
    {
     "data": {
      "text/plain": [
       "450"
      ]
     },
     "execution_count": 20,
     "metadata": {},
     "output_type": "execute_result"
    }
   ],
   "source": [
    "count = 0\n",
    "\n",
    "for i in range(10) :\n",
    "    for j in range(10) :\n",
    "        count += j\n",
    "        \n",
    "count"
   ]
  },
  {
   "cell_type": "markdown",
   "metadata": {},
   "source": [
    "- or can contain flow control variables"
   ]
  },
  {
   "cell_type": "code",
   "execution_count": 21,
   "metadata": {
    "execution": {
     "iopub.execute_input": "2021-09-08T03:20:27.518330Z",
     "iopub.status.busy": "2021-09-08T03:20:27.518330Z",
     "iopub.status.idle": "2021-09-08T03:20:27.523315Z",
     "shell.execute_reply": "2021-09-08T03:20:27.523315Z",
     "shell.execute_reply.started": "2021-09-08T03:20:27.518330Z"
    }
   },
   "outputs": [
    {
     "data": {
      "text/plain": [
       "0"
      ]
     },
     "execution_count": 21,
     "metadata": {},
     "output_type": "execute_result"
    }
   ],
   "source": [
    "returns = np.random.rand(100)\n",
    "count = 0\n",
    "for ret in returns :\n",
    "    if ret < 0 :\n",
    "        count += 1\n",
    "count"
   ]
  },
  {
   "cell_type": "markdown",
   "metadata": {},
   "source": [
    "### 2.3 while\n",
    "\n",
    "- while loops are useful when the number of iterations needed depends on the outcome of the loop contents.\n",
    "- while loops are commonly used when a loop should only stop if a certain condition is met."
   ]
  },
  {
   "cell_type": "code",
   "execution_count": 22,
   "metadata": {
    "execution": {
     "iopub.execute_input": "2021-09-08T03:20:28.510387Z",
     "iopub.status.busy": "2021-09-08T03:20:28.509379Z",
     "iopub.status.idle": "2021-09-08T03:20:28.514409Z",
     "shell.execute_reply": "2021-09-08T03:20:28.514409Z",
     "shell.execute_reply.started": "2021-09-08T03:20:28.510387Z"
    }
   },
   "outputs": [
    {
     "data": {
      "text/plain": [
       "45"
      ]
     },
     "execution_count": 22,
     "metadata": {},
     "output_type": "execute_result"
    }
   ],
   "source": [
    "count = 0\n",
    "i=0\n",
    "while i < 10 :\n",
    "    count += i   \n",
    "    i += 1\n",
    "count"
   ]
  },
  {
   "cell_type": "markdown",
   "metadata": {},
   "source": [
    "- while loops should generally be avoided when for loops are sufficient. \n",
    "- However, there are situations where no for loop equivalence exists."
   ]
  },
  {
   "cell_type": "code",
   "execution_count": 23,
   "metadata": {
    "execution": {
     "iopub.execute_input": "2021-09-08T03:20:29.506238Z",
     "iopub.status.busy": "2021-09-08T03:20:29.506238Z",
     "iopub.status.idle": "2021-09-08T03:20:29.513219Z",
     "shell.execute_reply": "2021-09-08T03:20:29.512221Z",
     "shell.execute_reply.started": "2021-09-08T03:20:29.506238Z"
    }
   },
   "outputs": [],
   "source": [
    "mu = abs(100 * np.random.rand(1))\n",
    "index = 1\n",
    "\n",
    "while abs(mu) > 0.0001 :\n",
    "    mu = (mu+np.random.randn(1))/index\n",
    "    index = index+1"
   ]
  },
  {
   "cell_type": "markdown",
   "metadata": {},
   "source": [
    "### 2.4 break, continue\n",
    "\n",
    "- A loop can be terminated early using break.\n",
    "- continue can be used to skip an iteration of a loop"
   ]
  },
  {
   "cell_type": "code",
   "execution_count": 67,
   "metadata": {
    "tags": []
   },
   "outputs": [
    {
     "name": "stdout",
     "output_type": "stream",
     "text": [
      "0.5608117711038257\n",
      "-0.4096276122046291\n",
      "0.29893147598548886\n",
      "1.1580203827237103\n",
      "-1.1618704670923814\n",
      "-1.8940675259250501\n",
      "0.24932862011731818\n",
      "1.0893316146166716\n",
      "-1.0308629447944193\n",
      "1.7176122582645554\n",
      "0.6803897901909849\n",
      "-0.030573759526744255\n",
      "-0.13528519141922932\n",
      "-0.36340337155575814\n",
      "-1.625216661291272\n",
      "0.7486277240213967\n",
      "1.6509551249656973\n",
      "1.2495701233560603\n",
      "-0.988727713808935\n",
      "1.0463222375689802\n",
      "0.5209907482301155\n",
      "0.5419462008362674\n",
      "-0.4227045761507141\n",
      "1.673920875021131\n",
      "0.6125140613503696\n",
      "1.0423982734018566\n",
      "0.8168326050452839\n",
      "0.690863352860169\n",
      "1.0965334181445763\n",
      "-0.5795698709900375\n",
      "-0.1829973153761676\n",
      "1.282261984715511\n",
      "1.2324959181739066\n",
      "-0.29918078951026944\n",
      "-0.18110463406313662\n",
      "-0.12381132558855015\n",
      "0.7050007243502506\n",
      "0.5086096045811428\n",
      "-0.6892829562364172\n",
      "2.146798446613535\n"
     ]
    }
   ],
   "source": [
    "x = np.random.randn(1000)\n",
    "for i in x :\n",
    "    print(i)\n",
    "    if i > 2 :\n",
    "        break"
   ]
  },
  {
   "cell_type": "code",
   "execution_count": 4,
   "metadata": {
    "execution": {
     "iopub.execute_input": "2021-09-15T04:52:01.398018Z",
     "iopub.status.busy": "2021-09-15T04:52:01.398018Z",
     "iopub.status.idle": "2021-09-15T04:52:01.401042Z",
     "shell.execute_reply": "2021-09-15T04:52:01.401042Z",
     "shell.execute_reply.started": "2021-09-15T04:52:01.398018Z"
    }
   },
   "outputs": [
    {
     "name": "stdout",
     "output_type": "stream",
     "text": [
      "0\n",
      "1\n",
      "2\n",
      "3\n",
      "4\n",
      "5\n",
      "6\n",
      "7\n",
      "8\n",
      "9\n"
     ]
    }
   ],
   "source": [
    "import numpy as np\n",
    "x = np.arange(15)\n",
    "for i in x:\n",
    "    if i < 10 : \n",
    "        print(i)"
   ]
  },
  {
   "cell_type": "code",
   "execution_count": 69,
   "metadata": {
    "tags": []
   },
   "outputs": [
    {
     "name": "stdout",
     "output_type": "stream",
     "text": [
      "10\n",
      "11\n",
      "12\n",
      "13\n",
      "14\n"
     ]
    }
   ],
   "source": [
    "x = np.arange(15)\n",
    "for i in x:\n",
    "    if i < 10 : \n",
    "        continue\n",
    "        print(i)\n",
    "    print(i)"
   ]
  },
  {
   "cell_type": "markdown",
   "metadata": {},
   "source": [
    "### 2.5 try, except\n",
    "\n",
    "- try, except handles exceptions which are outside of the programmer's control. \n",
    "- In most numerical applications, code should be deterministicand so dangerous codes can usually be avoided. \n",
    "- When it can't (e.g. reading data from a data source which isn't always available), then try, except can be used."
   ]
  },
  {
   "cell_type": "code",
   "execution_count": 27,
   "metadata": {
    "execution": {
     "iopub.execute_input": "2021-09-08T03:20:32.514814Z",
     "iopub.status.busy": "2021-09-08T03:20:32.514814Z",
     "iopub.status.idle": "2021-09-08T03:20:32.518810Z",
     "shell.execute_reply": "2021-09-08T03:20:32.518810Z",
     "shell.execute_reply.started": "2021-09-08T03:20:32.514814Z"
    }
   },
   "outputs": [
    {
     "name": "stdout",
     "output_type": "stream",
     "text": [
      "Not convertable to a float\n",
      "1.0\n",
      "54.1\n",
      "Not convertable to a float\n"
     ]
    }
   ],
   "source": [
    "text = ['a', '1', '54.1', '43.a']\n",
    "for t in text :\n",
    "    try :\n",
    "        temp = float(t)\n",
    "        print(temp)\n",
    "    except ValueError:\n",
    "        print('Not convertable to a float')"
   ]
  },
  {
   "cell_type": "markdown",
   "metadata": {},
   "source": [
    "### 2.6 List Comprehensions\n",
    "\n",
    "- List comprehensions are an optimized method of building a list which may simplify code when an iterable object is looped across and the results are saved to a list."
   ]
  },
  {
   "cell_type": "code",
   "execution_count": 72,
   "metadata": {
    "tags": []
   },
   "outputs": [
    {
     "data": {
      "text/plain": [
       "[1.0,\n",
       " 2.718281828459045,\n",
       " 7.38905609893065,\n",
       " 20.085536923187668,\n",
       " 54.598150033144236]"
      ]
     },
     "execution_count": 72,
     "metadata": {},
     "output_type": "execute_result"
    }
   ],
   "source": [
    "x = np.arange(5)\n",
    "y = []\n",
    "\n",
    "for i in range(5) : \n",
    "    y.append(np.exp(x[i]))\n",
    "    \n",
    "y"
   ]
  },
  {
   "cell_type": "markdown",
   "metadata": {},
   "source": [
    "### Example"
   ]
  },
  {
   "cell_type": "code",
   "execution_count": 98,
   "metadata": {},
   "outputs": [
    {
     "data": {
      "text/plain": [
       "['a', 'b', 'c']"
      ]
     },
     "execution_count": 98,
     "metadata": {},
     "output_type": "execute_result"
    }
   ],
   "source": [
    "ret = [1, 2, 3, 4, 5, 6, 7]\n",
    "dates = ['a', 'b', 'c', 'd', 'e', 'f', 'g']\n",
    "\n",
    "res = []\n",
    "for i, x in enumerate(ret):\n",
    "    if x<=3 :\n",
    "        res.append(dates[i])\n",
    "res"
   ]
  },
  {
   "cell_type": "code",
   "execution_count": 103,
   "metadata": {},
   "outputs": [
    {
     "data": {
      "text/plain": [
       "['a', 'b', 'c']"
      ]
     },
     "execution_count": 103,
     "metadata": {},
     "output_type": "execute_result"
    }
   ],
   "source": [
    "[dates[i] for i, x in enumerate(ret) if x<=3]"
   ]
  },
  {
   "cell_type": "markdown",
   "metadata": {},
   "source": [
    "## 3. Functions\n",
    "\n",
    "- Functions are declared using the def keyword, and the value is returned using the return keyword.\n",
    "- Consider a simple function which returns the square of the input, $y=x^2$."
   ]
  },
  {
   "cell_type": "code",
   "execution_count": 35,
   "metadata": {},
   "outputs": [
    {
     "data": {
      "text/plain": [
       "4"
      ]
     },
     "execution_count": 35,
     "metadata": {},
     "output_type": "execute_result"
    }
   ],
   "source": [
    "def square(x) :\n",
    "    a = x**2\n",
    "    return a\n",
    "\n",
    "# call the function\n",
    "x = 2\n",
    "square(x)"
   ]
  },
  {
   "cell_type": "markdown",
   "metadata": {},
   "source": [
    "- More complex function can be crafted with multiple inputs."
   ]
  },
  {
   "cell_type": "code",
   "execution_count": 37,
   "metadata": {},
   "outputs": [
    {
     "data": {
      "text/plain": [
       "49"
      ]
     },
     "execution_count": 37,
     "metadata": {},
     "output_type": "execute_result"
    }
   ],
   "source": [
    "def distance(x,y):\n",
    "    return (x-y)**2\n",
    "\n",
    "x = 3\n",
    "y = 10\n",
    "distance(x,y)"
   ]
  },
  {
   "cell_type": "markdown",
   "metadata": {},
   "source": [
    "- When multiple outputs are returned but only a single variable is available for assignment, all outputs are returned in a tuple.\n",
    "- The outputs can be directly assigned when the function is called with the same number of variables as outputs."
   ]
  },
  {
   "cell_type": "code",
   "execution_count": 41,
   "metadata": {},
   "outputs": [
    {
     "name": "stdout",
     "output_type": "stream",
     "text": [
      "(1, (100,), 100) <class 'tuple'>\n",
      "1\n",
      "(100,)\n",
      "100\n"
     ]
    }
   ],
   "source": [
    "import numpy as np \n",
    "\n",
    "def get_info(x) :\n",
    "    return x.ndim, x.shape, x.size\n",
    "\n",
    "x = np.arange(100)\n",
    "\n",
    "z = get_info(x)\n",
    "print(z, type(z))\n",
    "\n",
    "x1,x2,x3 = get_info(x)\n",
    "print(x1)\n",
    "print(x2)\n",
    "print(x3)"
   ]
  },
  {
   "cell_type": "markdown",
   "metadata": {},
   "source": [
    "### 3.1 Keyword Arguments\n",
    "\n",
    "- All input variables in functions are automatically keyword arguments.\n",
    "- The function can be accessed either \n",
    "    - by placing inputs in the order they appear in the function, or\n",
    "    - by calling the input by their name using _keyword=value_."
   ]
  },
  {
   "cell_type": "code",
   "execution_count": 44,
   "metadata": {},
   "outputs": [
    {
     "name": "stdout",
     "output_type": "stream",
     "text": [
      "5.122142181866003 5.122142181866003\n"
     ]
    }
   ],
   "source": [
    "import numpy as np\n",
    "def lp_norm(x,y,p):\n",
    "    d = x - y\n",
    "    return sum(abs(d)**p)**(1/p)\n",
    "\n",
    "# Call the function\n",
    "x = np.random.randn(10)\n",
    "y = np.random.randn(10)\n",
    "z1 = lp_norm(x,y,2)\n",
    "z2 = lp_norm(p=2,x=x,y=y)\n",
    "print(z1,z2)"
   ]
  },
  {
   "cell_type": "markdown",
   "metadata": {},
   "source": [
    "### 3.2 Default Values\n",
    "\n",
    "- Default values are set in the function declaration using _input=default_."
   ]
  },
  {
   "cell_type": "code",
   "execution_count": 51,
   "metadata": {},
   "outputs": [
    {
     "name": "stdout",
     "output_type": "stream",
     "text": [
      "4.404410520818005 4.404410520818005 4.404410520818005\n"
     ]
    }
   ],
   "source": [
    "def lp_norm(x,y,p=2):\n",
    "    d = x - y\n",
    "    return sum(abs(d)**p)**(1/p)\n",
    "\n",
    "# Call the function\n",
    "x = np.random.randn(10)\n",
    "y = np.random.randn(10)\n",
    "z1 = lp_norm(x,y,2)\n",
    "z2 = lp_norm(p=2,x=x,y=y)\n",
    "z3 = lp_norm(x,y)\n",
    "print(z1,z2,z3)"
   ]
  },
  {
   "cell_type": "markdown",
   "metadata": {},
   "source": [
    "### 3.3 The Docstring\n",
    "\n",
    "- The docstring is one of the most important elements of any function – especially a function written for use by others.\n",
    "- The docstring is a special string, enclosed with triple-quotation marks, either ''' or \"\"\", which is available using help()."
   ]
  },
  {
   "cell_type": "code",
   "execution_count": 104,
   "metadata": {},
   "outputs": [],
   "source": [
    "def lp_norm(x,y,p = 2):\n",
    "    \"\"\" The docstring contains any available help for\n",
    "    the function. A good docstring should explain the\n",
    "    inputs and the outputs, provide an example and a list\n",
    "    of any other related function.\n",
    "    \"\"\"\n",
    "    d = x - y\n",
    "    return sum(abs(d)**p)"
   ]
  },
  {
   "cell_type": "code",
   "execution_count": 54,
   "metadata": {},
   "outputs": [
    {
     "name": "stdout",
     "output_type": "stream",
     "text": [
      "Help on function lp_norm in module __main__:\n",
      "\n",
      "lp_norm(x, y, p=2)\n",
      "    The docstring contains any available help for\n",
      "    the function. A good docstring should explain the\n",
      "    inputs and the outputs, provide an example and a list\n",
      "    of any other related function.\n",
      "\n"
     ]
    }
   ],
   "source": [
    "help(lp_norm)"
   ]
  },
  {
   "cell_type": "code",
   "execution_count": null,
   "metadata": {},
   "outputs": [],
   "source": [
    "lp_norm()"
   ]
  },
  {
   "cell_type": "code",
   "execution_count": 56,
   "metadata": {},
   "outputs": [],
   "source": [
    "def lp_norm(x,y,p = 2):\n",
    "    \"\"\" \n",
    "    Compute the distance between vectors.\n",
    "    The Lp normed distance is sum(abs(x-y)**p)**(1/p)\n",
    "    \n",
    "    Parameters\n",
    "    ----------\n",
    "    x : ndarray\n",
    "    First argument\n",
    "    y : ndarray\n",
    "    Second argument\n",
    "    p : float, optional\n",
    "    Power used in distance calculation, >=0\n",
    "    \n",
    "    Returns\n",
    "    -------\n",
    "    output : scalar\n",
    "    Returns the Lp normed distance between x and y\n",
    "    \n",
    "    Notes\n",
    "    -----\n",
    "    For p>=1, returns the Lp norm described above. For 0<=p<1,\n",
    "    returns sum(abs(x-y)**p). If p<0, p is set to 0.\n",
    "    \n",
    "    Examples\n",
    "    --------\n",
    "    >>> x=[0,1,2]\n",
    "    >>> y=[1,2,3]\n",
    "    L2 norm is the default\n",
    "    >>> lp_norm(x,y)\n",
    "    Lp can be computed using the optional third input\n",
    "    >>> lp_norm(x,y,1)\n",
    "    \"\"\"\n",
    "    if p<0: p=0\n",
    "    d = x - y\n",
    "    if p == 0:\n",
    "        return sum(d != 0)\n",
    "    elif p < 1:\n",
    "        return sum(abs(d)**p)\n",
    "    else:\n",
    "        return sum(abs(d)**p)**(1/p)"
   ]
  },
  {
   "cell_type": "markdown",
   "metadata": {},
   "source": [
    "### 3.4 Anonymous Functions\n",
    "\n",
    "- Python supports anonymous functions using the keyword lambda.\n",
    "- Anonymous functions are usually encountered when another function expects a function as an input and a simple function will suffice.\n",
    "- Anonymous function take the generic form _lambda a,b,c,... :code using a,b,c._"
   ]
  },
  {
   "cell_type": "code",
   "execution_count": 11,
   "metadata": {
    "execution": {
     "iopub.execute_input": "2021-09-15T05:14:28.398636Z",
     "iopub.status.busy": "2021-09-15T05:14:28.398636Z",
     "iopub.status.idle": "2021-09-15T05:14:28.403622Z",
     "shell.execute_reply": "2021-09-15T05:14:28.403622Z",
     "shell.execute_reply.started": "2021-09-15T05:14:28.398636Z"
    }
   },
   "outputs": [
    {
     "data": {
      "text/plain": [
       "[('John', 'Doe', 'Oxford'),\n",
       " ('Jane', 'Dearing', 'Cambridge'),\n",
       " ('Jerry', 'Dawn', 'Harvard')]"
      ]
     },
     "execution_count": 11,
     "metadata": {},
     "output_type": "execute_result"
    }
   ],
   "source": [
    "nested = [('John','Doe','Oxford'),('Jane','Dearing','Cambridge'),('Jerry','Dawn','Harvard')]\n",
    "nested"
   ]
  },
  {
   "cell_type": "code",
   "execution_count": 12,
   "metadata": {
    "execution": {
     "iopub.execute_input": "2021-09-15T05:14:28.404621Z",
     "iopub.status.busy": "2021-09-15T05:14:28.404621Z",
     "iopub.status.idle": "2021-09-15T05:14:28.409614Z",
     "shell.execute_reply": "2021-09-15T05:14:28.409614Z",
     "shell.execute_reply.started": "2021-09-15T05:14:28.404621Z"
    }
   },
   "outputs": [
    {
     "data": {
      "text/plain": [
       "[('Jane', 'Dearing', 'Cambridge'),\n",
       " ('Jerry', 'Dawn', 'Harvard'),\n",
       " ('John', 'Doe', 'Oxford')]"
      ]
     },
     "execution_count": 12,
     "metadata": {},
     "output_type": "execute_result"
    }
   ],
   "source": [
    "nested.sort()\n",
    "nested"
   ]
  },
  {
   "cell_type": "code",
   "execution_count": 19,
   "metadata": {
    "execution": {
     "iopub.execute_input": "2021-09-15T05:50:09.393517Z",
     "iopub.status.busy": "2021-09-15T05:50:09.393517Z",
     "iopub.status.idle": "2021-09-15T05:50:09.396508Z",
     "shell.execute_reply": "2021-09-15T05:50:09.396508Z",
     "shell.execute_reply.started": "2021-09-15T05:50:09.393517Z"
    }
   },
   "outputs": [],
   "source": [
    "def second(x): \n",
    "    return x[1]"
   ]
  },
  {
   "cell_type": "code",
   "execution_count": 20,
   "metadata": {
    "execution": {
     "iopub.execute_input": "2021-09-15T05:50:20.398608Z",
     "iopub.status.busy": "2021-09-15T05:50:20.397609Z",
     "iopub.status.idle": "2021-09-15T05:50:20.401626Z",
     "shell.execute_reply": "2021-09-15T05:50:20.401626Z",
     "shell.execute_reply.started": "2021-09-15T05:50:20.398608Z"
    }
   },
   "outputs": [
    {
     "data": {
      "text/plain": [
       "<function __main__.second(x)>"
      ]
     },
     "execution_count": 20,
     "metadata": {},
     "output_type": "execute_result"
    }
   ],
   "source": [
    "second"
   ]
  },
  {
   "cell_type": "code",
   "execution_count": 21,
   "metadata": {
    "execution": {
     "iopub.execute_input": "2021-09-15T05:50:26.394167Z",
     "iopub.status.busy": "2021-09-15T05:50:26.393169Z",
     "iopub.status.idle": "2021-09-15T05:50:26.397184Z",
     "shell.execute_reply": "2021-09-15T05:50:26.397184Z",
     "shell.execute_reply.started": "2021-09-15T05:50:26.393169Z"
    }
   },
   "outputs": [
    {
     "data": {
      "text/plain": [
       "[('Jerry', 'Dawn', 'Harvard'),\n",
       " ('Jane', 'Dearing', 'Cambridge'),\n",
       " ('John', 'Doe', 'Oxford')]"
      ]
     },
     "execution_count": 21,
     "metadata": {},
     "output_type": "execute_result"
    }
   ],
   "source": [
    "nested.sort(key = second)\n",
    "nested"
   ]
  },
  {
   "cell_type": "code",
   "execution_count": null,
   "metadata": {},
   "outputs": [],
   "source": []
  }
 ],
 "metadata": {
  "kernelspec": {
   "display_name": "Python 3",
   "language": "python",
   "name": "python3"
  },
  "language_info": {
   "codemirror_mode": {
    "name": "ipython",
    "version": 3
   },
   "file_extension": ".py",
   "mimetype": "text/x-python",
   "name": "python",
   "nbconvert_exporter": "python",
   "pygments_lexer": "ipython3",
   "version": "3.7.10"
  }
 },
 "nbformat": 4,
 "nbformat_minor": 4
}
