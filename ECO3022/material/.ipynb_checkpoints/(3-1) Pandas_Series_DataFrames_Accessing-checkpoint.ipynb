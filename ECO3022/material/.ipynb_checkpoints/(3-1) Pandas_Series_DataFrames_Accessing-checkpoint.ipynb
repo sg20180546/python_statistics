{
 "cells": [
  {
   "cell_type": "markdown",
   "metadata": {},
   "source": [
    "## Pandas\n",
    "\n",
    "- Just as Numpy provides the basic array data type plus core array operations, pandas defines fundamental structures for working with data an endows them with methods that facilitate operations such as\n",
    "    - reading in data\n",
    "    - adjusting indices\n",
    "    - working with dates and time series\n",
    "    - sorting, grouping, re-ordering and general data cleaning \n",
    "    - dealing with missing values, etc., etc.\n",
    "    - More sophisticated statistical functionality is left to other packages, such as statsmodels and scikit-learn, which are built on top of pandas.\n",
    "\n",
    "- widely used python library for data analyzing and collection \n",
    "- Consists of two main objects : Series, Dataframe\n",
    "- publicly available implemented by Wes McKinney (Author of book titled <Python for Data Analysis: Data Wrangling with Pandas, NumPy, and IPython>)\n",
    "-  Package built on top of Numpy\n",
    "- complement Numpy's a bit inflexibility on the following (example):\n",
    "     - attaching label to data\n",
    "     - missing data handling\n",
    "     - data grouping \n",
    "     - data pivoting\n",
    "- for full documentation [go to pydata](http://pandas.pydata.org/)"
   ]
  },
  {
   "cell_type": "markdown",
   "metadata": {},
   "source": [
    "### 0. Reading data files"
   ]
  },
  {
   "cell_type": "code",
   "execution_count": 5,
   "metadata": {},
   "outputs": [
    {
     "data": {
      "text/html": [
       "<div>\n",
       "<style scoped>\n",
       "    .dataframe tbody tr th:only-of-type {\n",
       "        vertical-align: middle;\n",
       "    }\n",
       "\n",
       "    .dataframe tbody tr th {\n",
       "        vertical-align: top;\n",
       "    }\n",
       "\n",
       "    .dataframe thead th {\n",
       "        text-align: right;\n",
       "    }\n",
       "</style>\n",
       "<table border=\"1\" class=\"dataframe\">\n",
       "  <thead>\n",
       "    <tr style=\"text-align: right;\">\n",
       "      <th></th>\n",
       "      <th>state_code</th>\n",
       "      <th>state</th>\n",
       "      <th>gdp_2009</th>\n",
       "      <th>gdp_2010</th>\n",
       "      <th>gdp_2011</th>\n",
       "      <th>gdp_2012</th>\n",
       "      <th>gdp_growth_2009</th>\n",
       "      <th>gdp_growth_2010</th>\n",
       "      <th>gdp_growth_2011</th>\n",
       "      <th>gdp_growth_2012</th>\n",
       "      <th>region</th>\n",
       "    </tr>\n",
       "  </thead>\n",
       "  <tbody>\n",
       "    <tr>\n",
       "      <th>0</th>\n",
       "      <td>AK</td>\n",
       "      <td>Alaska</td>\n",
       "      <td>44215</td>\n",
       "      <td>43472</td>\n",
       "      <td>44232</td>\n",
       "      <td>44732</td>\n",
       "      <td>7.7</td>\n",
       "      <td>-1.7</td>\n",
       "      <td>1.7</td>\n",
       "      <td>1.1</td>\n",
       "      <td>FW</td>\n",
       "    </tr>\n",
       "    <tr>\n",
       "      <th>1</th>\n",
       "      <td>AL</td>\n",
       "      <td>Alabama</td>\n",
       "      <td>149843</td>\n",
       "      <td>153839</td>\n",
       "      <td>155390</td>\n",
       "      <td>157272</td>\n",
       "      <td>-3.9</td>\n",
       "      <td>2.7</td>\n",
       "      <td>1.0</td>\n",
       "      <td>1.2</td>\n",
       "      <td>SE</td>\n",
       "    </tr>\n",
       "    <tr>\n",
       "      <th>2</th>\n",
       "      <td>AR</td>\n",
       "      <td>Arkansas</td>\n",
       "      <td>89776</td>\n",
       "      <td>92075</td>\n",
       "      <td>92684</td>\n",
       "      <td>93892</td>\n",
       "      <td>-2.0</td>\n",
       "      <td>2.6</td>\n",
       "      <td>0.7</td>\n",
       "      <td>1.3</td>\n",
       "      <td>SE</td>\n",
       "    </tr>\n",
       "    <tr>\n",
       "      <th>3</th>\n",
       "      <td>AZ</td>\n",
       "      <td>Arizona</td>\n",
       "      <td>221405</td>\n",
       "      <td>221016</td>\n",
       "      <td>224787</td>\n",
       "      <td>230641</td>\n",
       "      <td>-8.2</td>\n",
       "      <td>-0.2</td>\n",
       "      <td>1.7</td>\n",
       "      <td>2.6</td>\n",
       "      <td>SW</td>\n",
       "    </tr>\n",
       "    <tr>\n",
       "      <th>4</th>\n",
       "      <td>CA</td>\n",
       "      <td>California</td>\n",
       "      <td>1667152</td>\n",
       "      <td>1672473</td>\n",
       "      <td>1692301</td>\n",
       "      <td>1751002</td>\n",
       "      <td>-5.1</td>\n",
       "      <td>0.3</td>\n",
       "      <td>1.2</td>\n",
       "      <td>3.5</td>\n",
       "      <td>FW</td>\n",
       "    </tr>\n",
       "  </tbody>\n",
       "</table>\n",
       "</div>"
      ],
      "text/plain": [
       "  state_code       state  gdp_2009  gdp_2010  gdp_2011  gdp_2012  \\\n",
       "0         AK      Alaska     44215     43472     44232     44732   \n",
       "1         AL     Alabama    149843    153839    155390    157272   \n",
       "2         AR    Arkansas     89776     92075     92684     93892   \n",
       "3         AZ     Arizona    221405    221016    224787    230641   \n",
       "4         CA  California   1667152   1672473   1692301   1751002   \n",
       "\n",
       "   gdp_growth_2009  gdp_growth_2010  gdp_growth_2011  gdp_growth_2012 region  \n",
       "0              7.7             -1.7              1.7              1.1     FW  \n",
       "1             -3.9              2.7              1.0              1.2     SE  \n",
       "2             -2.0              2.6              0.7              1.3     SE  \n",
       "3             -8.2             -0.2              1.7              2.6     SW  \n",
       "4             -5.1              0.3              1.2              3.5     FW  "
      ]
     },
     "execution_count": 5,
     "metadata": {},
     "output_type": "execute_result"
    }
   ],
   "source": [
    "import numpy as np\n",
    "import pandas as pd\n",
    "\n",
    "df = pd.read_excel('data/US_state_GDP.xls')\n",
    "df.head()"
   ]
  },
  {
   "cell_type": "markdown",
   "metadata": {},
   "source": [
    "### 1. Data Structures\n",
    "\n",
    "- pandas provides a set of data structures which include Series, DataFrames. \n",
    "    - pd.Series : one column, index\n",
    "    - DataFrame : multiple columns, index"
   ]
  },
  {
   "cell_type": "markdown",
   "metadata": {},
   "source": [
    "1.1 Series\n",
    "\n",
    "- Series are the primary building block of the data structures in pandas, and in many ways a Series behaves similarly to a Numpy array. \n",
    "- A Series is initialized using a list, tuple, directly from a Numpy array or using a dictionary."
   ]
  },
  {
   "cell_type": "code",
   "execution_count": 1,
   "metadata": {
    "execution": {
     "iopub.execute_input": "2021-09-17T03:21:30.151115Z",
     "iopub.status.busy": "2021-09-17T03:21:30.151115Z",
     "iopub.status.idle": "2021-09-17T03:21:30.551213Z",
     "shell.execute_reply": "2021-09-17T03:21:30.551213Z",
     "shell.execute_reply.started": "2021-09-17T03:21:30.151115Z"
    }
   },
   "outputs": [
    {
     "name": "stdout",
     "output_type": "stream",
     "text": [
      "0    0.1\n",
      "1    1.2\n",
      "2    2.3\n",
      "3    3.4\n",
      "4    4.5\n",
      "dtype: float64\n",
      "<class 'pandas.core.series.Series'>\n"
     ]
    }
   ],
   "source": [
    "a = np.array([0.1, 1.2, 2.3, 3.4, 4.5])\n",
    "s = pd.Series(a)\n",
    "print(s)\n",
    "print(type(s))"
   ]
  },
  {
   "cell_type": "markdown",
   "metadata": {},
   "source": [
    "- Series, like arrays, are sliceable. However, unlike a 1-dimensional array, a Series has an additional column – an index – which is a set of values which are associated with the rows of the Series.\n",
    "- The index is an important part of the utility of the pandas’s data structures (Series and DataFrame) and allows for dictionary-like access using values in the index."
   ]
  },
  {
   "cell_type": "code",
   "execution_count": 2,
   "metadata": {
    "execution": {
     "iopub.execute_input": "2021-09-17T03:21:30.552195Z",
     "iopub.status.busy": "2021-09-17T03:21:30.552195Z",
     "iopub.status.idle": "2021-09-17T03:21:30.567173Z",
     "shell.execute_reply": "2021-09-17T03:21:30.567173Z",
     "shell.execute_reply.started": "2021-09-17T03:21:30.552195Z"
    }
   },
   "outputs": [
    {
     "data": {
      "text/plain": [
       "a    0.1\n",
       "b    1.2\n",
       "c    2.3\n",
       "d    3.4\n",
       "e    4.5\n",
       "dtype: float64"
      ]
     },
     "execution_count": 2,
     "metadata": {},
     "output_type": "execute_result"
    }
   ],
   "source": [
    "s = pd.Series([0.1, 1.2, 2.3, 3.4, 4.5], index = ['a','b','c','d','e'])\n",
    "s"
   ]
  },
  {
   "cell_type": "code",
   "execution_count": 3,
   "metadata": {
    "execution": {
     "iopub.execute_input": "2021-09-17T03:21:30.568168Z",
     "iopub.status.busy": "2021-09-17T03:21:30.568168Z",
     "iopub.status.idle": "2021-09-17T03:21:30.582106Z",
     "shell.execute_reply": "2021-09-17T03:21:30.582106Z",
     "shell.execute_reply.started": "2021-09-17T03:21:30.568168Z"
    }
   },
   "outputs": [
    {
     "name": "stdout",
     "output_type": "stream",
     "text": [
      "0.1\n",
      "0.1\n",
      "a    0.1\n",
      "c    2.3\n",
      "dtype: float64\n",
      "a    0.1\n",
      "c    2.3\n",
      "dtype: float64\n",
      "a    0.1\n",
      "b    1.2\n",
      "dtype: float64\n",
      "c    2.3\n",
      "d    3.4\n",
      "e    4.5\n",
      "dtype: float64\n"
     ]
    }
   ],
   "source": [
    "print(s[0])\n",
    "print(s['a'])\n",
    "print(s[['a','c']])\n",
    "print(s[[0,2]])\n",
    "print(s[:2])\n",
    "print(s[s>2])"
   ]
  },
  {
   "cell_type": "markdown",
   "metadata": {},
   "source": [
    "- In this examples, 'a' and 'c' behave in the same manner as 0 and 2 would in a standard Numpy array.\n",
    "- The elements of an index do not have to be unique which another way in which a Series generalizes a Numpy array."
   ]
  },
  {
   "cell_type": "code",
   "execution_count": 4,
   "metadata": {
    "execution": {
     "iopub.execute_input": "2021-09-17T03:21:30.583102Z",
     "iopub.status.busy": "2021-09-17T03:21:30.583102Z",
     "iopub.status.idle": "2021-09-17T03:21:30.597092Z",
     "shell.execute_reply": "2021-09-17T03:21:30.597092Z",
     "shell.execute_reply.started": "2021-09-17T03:21:30.583102Z"
    }
   },
   "outputs": [
    {
     "data": {
      "text/plain": [
       "a    0.1\n",
       "a    3.4\n",
       "dtype: float64"
      ]
     },
     "execution_count": 4,
     "metadata": {},
     "output_type": "execute_result"
    }
   ],
   "source": [
    "s = pd.Series([0.1, 1.2, 2.3, 3.4, 4.5], index = ['a','b','c','a','b'])\n",
    "s['a']"
   ]
  },
  {
   "cell_type": "markdown",
   "metadata": {
    "execution": {
     "iopub.execute_input": "2021-09-13T10:09:11.254126Z",
     "iopub.status.busy": "2021-09-13T10:09:11.253136Z",
     "iopub.status.idle": "2021-09-13T10:09:11.279076Z",
     "shell.execute_reply": "2021-09-13T10:09:11.277080Z",
     "shell.execute_reply.started": "2021-09-13T10:09:11.254126Z"
    }
   },
   "source": [
    "- Series can also be initialized directly from dictionaries."
   ]
  },
  {
   "cell_type": "code",
   "execution_count": 5,
   "metadata": {
    "execution": {
     "iopub.execute_input": "2021-09-17T03:21:30.599089Z",
     "iopub.status.busy": "2021-09-17T03:21:30.599089Z",
     "iopub.status.idle": "2021-09-17T03:21:30.612053Z",
     "shell.execute_reply": "2021-09-17T03:21:30.612053Z",
     "shell.execute_reply.started": "2021-09-17T03:21:30.599089Z"
    }
   },
   "outputs": [
    {
     "data": {
      "text/plain": [
       "a    0.1\n",
       "b    1.2\n",
       "c    2.3\n",
       "d    3.4\n",
       "e    4.5\n",
       "dtype: float64"
      ]
     },
     "execution_count": 5,
     "metadata": {},
     "output_type": "execute_result"
    }
   ],
   "source": [
    "s = pd.Series({'a':0.1 ,'b': 1.2, 'c': 2.3, 'd':3.4, 'e': 4.5})\n",
    "s"
   ]
  },
  {
   "cell_type": "markdown",
   "metadata": {},
   "source": [
    "- Series are like Numpy arrays in that they support most numerical operations.\n",
    "- However, Series are different from arrays when math operations are performed across two Series. In particular, math operations involving two series operate by aligning indices.\n",
    "- Indices that do not match are given the value NaN (not a number), and values are computed for all unique pairs of repeated indices."
   ]
  },
  {
   "cell_type": "code",
   "execution_count": 6,
   "metadata": {
    "execution": {
     "iopub.execute_input": "2021-09-17T03:21:30.614046Z",
     "iopub.status.busy": "2021-09-17T03:21:30.613038Z",
     "iopub.status.idle": "2021-09-17T03:21:30.642968Z",
     "shell.execute_reply": "2021-09-17T03:21:30.642968Z",
     "shell.execute_reply.started": "2021-09-17T03:21:30.614046Z"
    }
   },
   "outputs": [
    {
     "name": "stdout",
     "output_type": "stream",
     "text": [
      "a    1.1\n",
      "b    3.2\n",
      "c    5.3\n",
      "dtype: float64\n",
      "a    NaN\n",
      "b    NaN\n",
      "c    2.4\n",
      "d    NaN\n",
      "e    NaN\n",
      "dtype: float64\n"
     ]
    }
   ],
   "source": [
    "s1 = pd.Series({'a': 0.1, 'b': 1.2, 'c': 2.3})\n",
    "s2 = pd.Series({'a': 1.0, 'b': 2.0, 'c': 3.0})\n",
    "s3 = pd.Series({'c': 0.1, 'd': 1.2, 'e': 2.3})\n",
    "print(s1+s2)\n",
    "print(s1+s3)"
   ]
  },
  {
   "cell_type": "markdown",
   "metadata": {},
   "source": [
    "- The underlying Numpy array is accessible through the values property, and the index is accessible the index property."
   ]
  },
  {
   "cell_type": "code",
   "execution_count": 7,
   "metadata": {
    "execution": {
     "iopub.execute_input": "2021-09-17T03:21:30.644938Z",
     "iopub.status.busy": "2021-09-17T03:21:30.643941Z",
     "iopub.status.idle": "2021-09-17T03:21:30.659898Z",
     "shell.execute_reply": "2021-09-17T03:21:30.658900Z",
     "shell.execute_reply.started": "2021-09-17T03:21:30.644938Z"
    }
   },
   "outputs": [
    {
     "name": "stdout",
     "output_type": "stream",
     "text": [
      "[0.1 1.2 2.3]\n",
      "Index(['a', 'b', 'c'], dtype='object')\n",
      "c    0.1\n",
      "d    1.2\n",
      "e    2.3\n",
      "dtype: float64\n"
     ]
    }
   ],
   "source": [
    "print(s1.values)\n",
    "print(s1.index)\n",
    "s1.index = ['c','d','e']\n",
    "print(s1)"
   ]
  },
  {
   "cell_type": "markdown",
   "metadata": {},
   "source": [
    "1.1.1 Notable attributes and properties\n",
    "\n",
    "- head and tail"
   ]
  },
  {
   "cell_type": "code",
   "execution_count": 8,
   "metadata": {
    "execution": {
     "iopub.execute_input": "2021-09-17T03:21:30.660895Z",
     "iopub.status.busy": "2021-09-17T03:21:30.659898Z",
     "iopub.status.idle": "2021-09-17T03:21:30.674883Z",
     "shell.execute_reply": "2021-09-17T03:21:30.674883Z",
     "shell.execute_reply.started": "2021-09-17T03:21:30.660895Z"
    }
   },
   "outputs": [
    {
     "name": "stdout",
     "output_type": "stream",
     "text": [
      "0    0\n",
      "1    1\n",
      "2    2\n",
      "3    3\n",
      "4    4\n",
      "dtype: int32\n",
      "195    195\n",
      "196    196\n",
      "197    197\n",
      "198    198\n",
      "199    199\n",
      "dtype: int32\n"
     ]
    }
   ],
   "source": [
    "s = pd.Series(np.arange(200))\n",
    "print(s.head())\n",
    "print(s.tail())"
   ]
  },
  {
   "cell_type": "markdown",
   "metadata": {},
   "source": [
    "- isnull (notnull)"
   ]
  },
  {
   "cell_type": "code",
   "execution_count": 9,
   "metadata": {
    "execution": {
     "iopub.execute_input": "2021-09-17T03:21:30.675856Z",
     "iopub.status.busy": "2021-09-17T03:21:30.675856Z",
     "iopub.status.idle": "2021-09-17T03:21:30.690829Z",
     "shell.execute_reply": "2021-09-17T03:21:30.690829Z",
     "shell.execute_reply.started": "2021-09-17T03:21:30.675856Z"
    }
   },
   "outputs": [
    {
     "name": "stdout",
     "output_type": "stream",
     "text": [
      "a     True\n",
      "b     True\n",
      "c    False\n",
      "d     True\n",
      "e     True\n",
      "dtype: bool\n"
     ]
    }
   ],
   "source": [
    "s1 = pd.Series({'a': 0.1, 'b': 1.2, 'c': 2.3})\n",
    "s3 = pd.Series({'c': 0.1, 'd': 1.2, 'e': 2.3})\n",
    "print((s1+s3).isnull())"
   ]
  },
  {
   "cell_type": "markdown",
   "metadata": {},
   "source": [
    "- describe"
   ]
  },
  {
   "cell_type": "code",
   "execution_count": 10,
   "metadata": {
    "execution": {
     "iopub.execute_input": "2021-09-17T03:21:30.691840Z",
     "iopub.status.busy": "2021-09-17T03:21:30.691840Z",
     "iopub.status.idle": "2021-09-17T03:21:30.722730Z",
     "shell.execute_reply": "2021-09-17T03:21:30.722730Z",
     "shell.execute_reply.started": "2021-09-17T03:21:30.691840Z"
    }
   },
   "outputs": [
    {
     "data": {
      "text/plain": [
       "count    10.00000\n",
       "mean     14.50000\n",
       "std       3.02765\n",
       "min      10.00000\n",
       "25%      12.25000\n",
       "50%      14.50000\n",
       "75%      16.75000\n",
       "max      19.00000\n",
       "dtype: float64"
      ]
     },
     "execution_count": 10,
     "metadata": {},
     "output_type": "execute_result"
    }
   ],
   "source": [
    "s1 = pd.Series(np.arange(10.0,20.0))\n",
    "s1.describe()"
   ]
  },
  {
   "cell_type": "markdown",
   "metadata": {},
   "source": [
    "- dropna"
   ]
  },
  {
   "cell_type": "code",
   "execution_count": 11,
   "metadata": {
    "execution": {
     "iopub.execute_input": "2021-09-17T03:21:30.723729Z",
     "iopub.status.busy": "2021-09-17T03:21:30.723729Z",
     "iopub.status.idle": "2021-09-17T03:21:30.754644Z",
     "shell.execute_reply": "2021-09-17T03:21:30.754644Z",
     "shell.execute_reply.started": "2021-09-17T03:21:30.723729Z"
    }
   },
   "outputs": [
    {
     "name": "stdout",
     "output_type": "stream",
     "text": [
      "a    NaN\n",
      "b    NaN\n",
      "c    2.4\n",
      "d    NaN\n",
      "e    NaN\n",
      "dtype: float64\n",
      "c    2.4\n",
      "dtype: float64\n"
     ]
    }
   ],
   "source": [
    "s1 = pd.Series({'a': 0.1, 'b': 1.2, 'c': 2.3})\n",
    "s3 = pd.Series({'c': 0.1, 'd': 1.2, 'e': 2.3})\n",
    "print(s1+s3)\n",
    "print((s1+s3).dropna())"
   ]
  },
  {
   "cell_type": "markdown",
   "metadata": {},
   "source": [
    "- fillna"
   ]
  },
  {
   "cell_type": "code",
   "execution_count": 12,
   "metadata": {
    "execution": {
     "iopub.execute_input": "2021-09-17T03:21:30.755642Z",
     "iopub.status.busy": "2021-09-17T03:21:30.755642Z",
     "iopub.status.idle": "2021-09-17T03:21:30.769605Z",
     "shell.execute_reply": "2021-09-17T03:21:30.769605Z",
     "shell.execute_reply.started": "2021-09-17T03:21:30.755642Z"
    }
   },
   "outputs": [
    {
     "name": "stdout",
     "output_type": "stream",
     "text": [
      "a    0.0\n",
      "b    0.0\n",
      "c    2.4\n",
      "d    0.0\n",
      "e    0.0\n",
      "dtype: float64\n"
     ]
    }
   ],
   "source": [
    "print((s1+s3).fillna(0.))"
   ]
  },
  {
   "cell_type": "markdown",
   "metadata": {},
   "source": [
    "1.2 DataFrame\n",
    "\n",
    "- While the Series class is the building block of data structures in pandas, the DataFrame is the work-horse.\n",
    "- DataFrames collect multiple series in the same way that a spreadsheet collects multiple columns of data.\n",
    "- A number of methods are available to initialize a DataFrame. The simplest method uses a homogeneous Numpy array.\n",
    "- Like a Series, a DataFrame contains the input data as well as row labels. However, since a DataFrame is a collection of columns, it also contains column labels (located along the top edge). "
   ]
  },
  {
   "cell_type": "code",
   "execution_count": 13,
   "metadata": {
    "execution": {
     "iopub.execute_input": "2021-09-17T03:21:30.770628Z",
     "iopub.status.busy": "2021-09-17T03:21:30.770628Z",
     "iopub.status.idle": "2021-09-17T03:21:30.785562Z",
     "shell.execute_reply": "2021-09-17T03:21:30.785562Z",
     "shell.execute_reply.started": "2021-09-17T03:21:30.770628Z"
    }
   },
   "outputs": [
    {
     "data": {
      "text/html": [
       "<div>\n",
       "<style scoped>\n",
       "    .dataframe tbody tr th:only-of-type {\n",
       "        vertical-align: middle;\n",
       "    }\n",
       "\n",
       "    .dataframe tbody tr th {\n",
       "        vertical-align: top;\n",
       "    }\n",
       "\n",
       "    .dataframe thead th {\n",
       "        text-align: right;\n",
       "    }\n",
       "</style>\n",
       "<table border=\"1\" class=\"dataframe\">\n",
       "  <thead>\n",
       "    <tr style=\"text-align: right;\">\n",
       "      <th></th>\n",
       "      <th>a</th>\n",
       "      <th>b</th>\n",
       "    </tr>\n",
       "  </thead>\n",
       "  <tbody>\n",
       "    <tr>\n",
       "      <th>0</th>\n",
       "      <td>1</td>\n",
       "      <td>2</td>\n",
       "    </tr>\n",
       "    <tr>\n",
       "      <th>1</th>\n",
       "      <td>3</td>\n",
       "      <td>4</td>\n",
       "    </tr>\n",
       "  </tbody>\n",
       "</table>\n",
       "</div>"
      ],
      "text/plain": [
       "   a  b\n",
       "0  1  2\n",
       "1  3  4"
      ]
     },
     "execution_count": 13,
     "metadata": {},
     "output_type": "execute_result"
    }
   ],
   "source": [
    "df = pd.DataFrame(np.array([[1,2],[3,4]]),columns=['a','b'])\n",
    "df"
   ]
  },
  {
   "cell_type": "code",
   "execution_count": 14,
   "metadata": {
    "execution": {
     "iopub.execute_input": "2021-09-17T03:21:30.786586Z",
     "iopub.status.busy": "2021-09-17T03:21:30.786586Z",
     "iopub.status.idle": "2021-09-17T03:21:30.801519Z",
     "shell.execute_reply": "2021-09-17T03:21:30.801519Z",
     "shell.execute_reply.started": "2021-09-17T03:21:30.786586Z"
    }
   },
   "outputs": [
    {
     "data": {
      "text/html": [
       "<div>\n",
       "<style scoped>\n",
       "    .dataframe tbody tr th:only-of-type {\n",
       "        vertical-align: middle;\n",
       "    }\n",
       "\n",
       "    .dataframe tbody tr th {\n",
       "        vertical-align: top;\n",
       "    }\n",
       "\n",
       "    .dataframe thead th {\n",
       "        text-align: right;\n",
       "    }\n",
       "</style>\n",
       "<table border=\"1\" class=\"dataframe\">\n",
       "  <thead>\n",
       "    <tr style=\"text-align: right;\">\n",
       "      <th></th>\n",
       "      <th>dogs</th>\n",
       "      <th>cats</th>\n",
       "    </tr>\n",
       "  </thead>\n",
       "  <tbody>\n",
       "    <tr>\n",
       "      <th>bones</th>\n",
       "      <td>1</td>\n",
       "      <td>2</td>\n",
       "    </tr>\n",
       "    <tr>\n",
       "      <th>milk</th>\n",
       "      <td>3</td>\n",
       "      <td>4</td>\n",
       "    </tr>\n",
       "  </tbody>\n",
       "</table>\n",
       "</div>"
      ],
      "text/plain": [
       "       dogs  cats\n",
       "bones     1     2\n",
       "milk      3     4"
      ]
     },
     "execution_count": 14,
     "metadata": {},
     "output_type": "execute_result"
    }
   ],
   "source": [
    "df.columns = ['dogs','cats']\n",
    "df.index = ['bones', 'milk']\n",
    "df"
   ]
  },
  {
   "cell_type": "markdown",
   "metadata": {},
   "source": [
    "1.2.1 Manipulating DataFrames\n",
    "\n",
    "- The use of DataFrames will be demonstrated using a data set containing a mix of data types using state-level GDP data from the US.\n",
    "- The data is loaded directly into a DataFrame using read_excel, which will be described later."
   ]
  },
  {
   "cell_type": "code",
   "execution_count": 3,
   "metadata": {
    "tags": []
   },
   "outputs": [
    {
     "data": {
      "text/html": [
       "<div>\n",
       "<style scoped>\n",
       "    .dataframe tbody tr th:only-of-type {\n",
       "        vertical-align: middle;\n",
       "    }\n",
       "\n",
       "    .dataframe tbody tr th {\n",
       "        vertical-align: top;\n",
       "    }\n",
       "\n",
       "    .dataframe thead th {\n",
       "        text-align: right;\n",
       "    }\n",
       "</style>\n",
       "<table border=\"1\" class=\"dataframe\">\n",
       "  <thead>\n",
       "    <tr style=\"text-align: right;\">\n",
       "      <th></th>\n",
       "      <th>state_code</th>\n",
       "      <th>state</th>\n",
       "      <th>gdp_2009</th>\n",
       "      <th>gdp_2010</th>\n",
       "      <th>gdp_2011</th>\n",
       "      <th>gdp_2012</th>\n",
       "      <th>gdp_growth_2009</th>\n",
       "      <th>gdp_growth_2010</th>\n",
       "      <th>gdp_growth_2011</th>\n",
       "      <th>gdp_growth_2012</th>\n",
       "      <th>region</th>\n",
       "    </tr>\n",
       "  </thead>\n",
       "  <tbody>\n",
       "    <tr>\n",
       "      <th>0</th>\n",
       "      <td>AK</td>\n",
       "      <td>Alaska</td>\n",
       "      <td>44215</td>\n",
       "      <td>43472</td>\n",
       "      <td>44232</td>\n",
       "      <td>44732</td>\n",
       "      <td>7.7</td>\n",
       "      <td>-1.7</td>\n",
       "      <td>1.7</td>\n",
       "      <td>1.1</td>\n",
       "      <td>FW</td>\n",
       "    </tr>\n",
       "    <tr>\n",
       "      <th>1</th>\n",
       "      <td>AL</td>\n",
       "      <td>Alabama</td>\n",
       "      <td>149843</td>\n",
       "      <td>153839</td>\n",
       "      <td>155390</td>\n",
       "      <td>157272</td>\n",
       "      <td>-3.9</td>\n",
       "      <td>2.7</td>\n",
       "      <td>1.0</td>\n",
       "      <td>1.2</td>\n",
       "      <td>SE</td>\n",
       "    </tr>\n",
       "    <tr>\n",
       "      <th>2</th>\n",
       "      <td>AR</td>\n",
       "      <td>Arkansas</td>\n",
       "      <td>89776</td>\n",
       "      <td>92075</td>\n",
       "      <td>92684</td>\n",
       "      <td>93892</td>\n",
       "      <td>-2.0</td>\n",
       "      <td>2.6</td>\n",
       "      <td>0.7</td>\n",
       "      <td>1.3</td>\n",
       "      <td>SE</td>\n",
       "    </tr>\n",
       "    <tr>\n",
       "      <th>3</th>\n",
       "      <td>AZ</td>\n",
       "      <td>Arizona</td>\n",
       "      <td>221405</td>\n",
       "      <td>221016</td>\n",
       "      <td>224787</td>\n",
       "      <td>230641</td>\n",
       "      <td>-8.2</td>\n",
       "      <td>-0.2</td>\n",
       "      <td>1.7</td>\n",
       "      <td>2.6</td>\n",
       "      <td>SW</td>\n",
       "    </tr>\n",
       "    <tr>\n",
       "      <th>4</th>\n",
       "      <td>CA</td>\n",
       "      <td>California</td>\n",
       "      <td>1667152</td>\n",
       "      <td>1672473</td>\n",
       "      <td>1692301</td>\n",
       "      <td>1751002</td>\n",
       "      <td>-5.1</td>\n",
       "      <td>0.3</td>\n",
       "      <td>1.2</td>\n",
       "      <td>3.5</td>\n",
       "      <td>FW</td>\n",
       "    </tr>\n",
       "  </tbody>\n",
       "</table>\n",
       "</div>"
      ],
      "text/plain": [
       "  state_code       state  gdp_2009  gdp_2010  gdp_2011  gdp_2012  \\\n",
       "0         AK      Alaska     44215     43472     44232     44732   \n",
       "1         AL     Alabama    149843    153839    155390    157272   \n",
       "2         AR    Arkansas     89776     92075     92684     93892   \n",
       "3         AZ     Arizona    221405    221016    224787    230641   \n",
       "4         CA  California   1667152   1672473   1692301   1751002   \n",
       "\n",
       "   gdp_growth_2009  gdp_growth_2010  gdp_growth_2011  gdp_growth_2012 region  \n",
       "0              7.7             -1.7              1.7              1.1     FW  \n",
       "1             -3.9              2.7              1.0              1.2     SE  \n",
       "2             -2.0              2.6              0.7              1.3     SE  \n",
       "3             -8.2             -0.2              1.7              2.6     SW  \n",
       "4             -5.1              0.3              1.2              3.5     FW  "
      ]
     },
     "execution_count": 3,
     "metadata": {},
     "output_type": "execute_result"
    }
   ],
   "source": [
    "state_gdp = pd.read_excel('data/US_state_GDP.xls','Sheet1')\n",
    "state_gdp.head()"
   ]
  },
  {
   "cell_type": "markdown",
   "metadata": {},
   "source": [
    "- Selecting Columns\n",
    "    - Single columns are selectable using the column name, as in state_gdp['state'], and the value returned in a Series.\n",
    "    - Multiple columns are similarly selected using a list of column names as in state_gdp[['state_code', 'state']] or equivalently using an Index object."
   ]
  },
  {
   "cell_type": "code",
   "execution_count": 6,
   "metadata": {
    "tags": []
   },
   "outputs": [
    {
     "data": {
      "text/html": [
       "<div>\n",
       "<style scoped>\n",
       "    .dataframe tbody tr th:only-of-type {\n",
       "        vertical-align: middle;\n",
       "    }\n",
       "\n",
       "    .dataframe tbody tr th {\n",
       "        vertical-align: top;\n",
       "    }\n",
       "\n",
       "    .dataframe thead th {\n",
       "        text-align: right;\n",
       "    }\n",
       "</style>\n",
       "<table border=\"1\" class=\"dataframe\">\n",
       "  <thead>\n",
       "    <tr style=\"text-align: right;\">\n",
       "      <th></th>\n",
       "      <th>state_code</th>\n",
       "      <th>state</th>\n",
       "      <th>gdp_2009</th>\n",
       "      <th>gdp_2010</th>\n",
       "      <th>gdp_2011</th>\n",
       "      <th>gdp_2012</th>\n",
       "      <th>gdp_growth_2009</th>\n",
       "      <th>gdp_growth_2010</th>\n",
       "      <th>gdp_growth_2011</th>\n",
       "      <th>gdp_growth_2012</th>\n",
       "      <th>region</th>\n",
       "      <th>test_col</th>\n",
       "    </tr>\n",
       "  </thead>\n",
       "  <tbody>\n",
       "    <tr>\n",
       "      <th>0</th>\n",
       "      <td>AK</td>\n",
       "      <td>Alaska</td>\n",
       "      <td>44215</td>\n",
       "      <td>43472</td>\n",
       "      <td>44232</td>\n",
       "      <td>44732</td>\n",
       "      <td>7.7</td>\n",
       "      <td>-1.7</td>\n",
       "      <td>1.7</td>\n",
       "      <td>1.1</td>\n",
       "      <td>FW</td>\n",
       "      <td>0.0</td>\n",
       "    </tr>\n",
       "    <tr>\n",
       "      <th>1</th>\n",
       "      <td>AL</td>\n",
       "      <td>Alabama</td>\n",
       "      <td>149843</td>\n",
       "      <td>153839</td>\n",
       "      <td>155390</td>\n",
       "      <td>157272</td>\n",
       "      <td>-3.9</td>\n",
       "      <td>2.7</td>\n",
       "      <td>1.0</td>\n",
       "      <td>1.2</td>\n",
       "      <td>SE</td>\n",
       "      <td>1.0</td>\n",
       "    </tr>\n",
       "    <tr>\n",
       "      <th>2</th>\n",
       "      <td>AR</td>\n",
       "      <td>Arkansas</td>\n",
       "      <td>89776</td>\n",
       "      <td>92075</td>\n",
       "      <td>92684</td>\n",
       "      <td>93892</td>\n",
       "      <td>-2.0</td>\n",
       "      <td>2.6</td>\n",
       "      <td>0.7</td>\n",
       "      <td>1.3</td>\n",
       "      <td>SE</td>\n",
       "      <td>2.0</td>\n",
       "    </tr>\n",
       "    <tr>\n",
       "      <th>3</th>\n",
       "      <td>AZ</td>\n",
       "      <td>Arizona</td>\n",
       "      <td>221405</td>\n",
       "      <td>221016</td>\n",
       "      <td>224787</td>\n",
       "      <td>230641</td>\n",
       "      <td>-8.2</td>\n",
       "      <td>-0.2</td>\n",
       "      <td>1.7</td>\n",
       "      <td>2.6</td>\n",
       "      <td>SW</td>\n",
       "      <td>3.0</td>\n",
       "    </tr>\n",
       "    <tr>\n",
       "      <th>4</th>\n",
       "      <td>CA</td>\n",
       "      <td>California</td>\n",
       "      <td>1667152</td>\n",
       "      <td>1672473</td>\n",
       "      <td>1692301</td>\n",
       "      <td>1751002</td>\n",
       "      <td>-5.1</td>\n",
       "      <td>0.3</td>\n",
       "      <td>1.2</td>\n",
       "      <td>3.5</td>\n",
       "      <td>FW</td>\n",
       "      <td>4.0</td>\n",
       "    </tr>\n",
       "  </tbody>\n",
       "</table>\n",
       "</div>"
      ],
      "text/plain": [
       "  state_code       state  gdp_2009  gdp_2010  gdp_2011  gdp_2012  \\\n",
       "0         AK      Alaska     44215     43472     44232     44732   \n",
       "1         AL     Alabama    149843    153839    155390    157272   \n",
       "2         AR    Arkansas     89776     92075     92684     93892   \n",
       "3         AZ     Arizona    221405    221016    224787    230641   \n",
       "4         CA  California   1667152   1672473   1692301   1751002   \n",
       "\n",
       "   gdp_growth_2009  gdp_growth_2010  gdp_growth_2011  gdp_growth_2012 region  \\\n",
       "0              7.7             -1.7              1.7              1.1     FW   \n",
       "1             -3.9              2.7              1.0              1.2     SE   \n",
       "2             -2.0              2.6              0.7              1.3     SE   \n",
       "3             -8.2             -0.2              1.7              2.6     SW   \n",
       "4             -5.1              0.3              1.2              3.5     FW   \n",
       "\n",
       "   test_col  \n",
       "0       0.0  \n",
       "1       1.0  \n",
       "2       2.0  \n",
       "3       3.0  \n",
       "4       4.0  "
      ]
     },
     "execution_count": 6,
     "metadata": {},
     "output_type": "execute_result"
    }
   ],
   "source": [
    "temp = pd.Series(np.arange(50))\n",
    "state_gdp['test_col'] = temp\n",
    "state_gdp.head()"
   ]
  },
  {
   "cell_type": "code",
   "execution_count": 8,
   "metadata": {
    "tags": []
   },
   "outputs": [
    {
     "ename": "KeyError",
     "evalue": "('state_code', 'state')",
     "output_type": "error",
     "traceback": [
      "\u001b[1;31m---------------------------------------------------------------------------\u001b[0m",
      "\u001b[1;31mKeyError\u001b[0m                                  Traceback (most recent call last)",
      "\u001b[1;32m~\\anaconda3\\envs\\fnguide\\lib\\site-packages\\pandas\\core\\indexes\\base.py\u001b[0m in \u001b[0;36mget_loc\u001b[1;34m(self, key, method, tolerance)\u001b[0m\n\u001b[0;32m   2645\u001b[0m             \u001b[1;32mtry\u001b[0m\u001b[1;33m:\u001b[0m\u001b[1;33m\u001b[0m\u001b[1;33m\u001b[0m\u001b[0m\n\u001b[1;32m-> 2646\u001b[1;33m                 \u001b[1;32mreturn\u001b[0m \u001b[0mself\u001b[0m\u001b[1;33m.\u001b[0m\u001b[0m_engine\u001b[0m\u001b[1;33m.\u001b[0m\u001b[0mget_loc\u001b[0m\u001b[1;33m(\u001b[0m\u001b[0mkey\u001b[0m\u001b[1;33m)\u001b[0m\u001b[1;33m\u001b[0m\u001b[1;33m\u001b[0m\u001b[0m\n\u001b[0m\u001b[0;32m   2647\u001b[0m             \u001b[1;32mexcept\u001b[0m \u001b[0mKeyError\u001b[0m\u001b[1;33m:\u001b[0m\u001b[1;33m\u001b[0m\u001b[1;33m\u001b[0m\u001b[0m\n",
      "\u001b[1;32mpandas\\_libs\\index.pyx\u001b[0m in \u001b[0;36mpandas._libs.index.IndexEngine.get_loc\u001b[1;34m()\u001b[0m\n",
      "\u001b[1;32mpandas\\_libs\\index.pyx\u001b[0m in \u001b[0;36mpandas._libs.index.IndexEngine.get_loc\u001b[1;34m()\u001b[0m\n",
      "\u001b[1;32mpandas\\_libs\\hashtable_class_helper.pxi\u001b[0m in \u001b[0;36mpandas._libs.hashtable.PyObjectHashTable.get_item\u001b[1;34m()\u001b[0m\n",
      "\u001b[1;32mpandas\\_libs\\hashtable_class_helper.pxi\u001b[0m in \u001b[0;36mpandas._libs.hashtable.PyObjectHashTable.get_item\u001b[1;34m()\u001b[0m\n",
      "\u001b[1;31mKeyError\u001b[0m: ('state_code', 'state')",
      "\nDuring handling of the above exception, another exception occurred:\n",
      "\u001b[1;31mKeyError\u001b[0m                                  Traceback (most recent call last)",
      "\u001b[1;32m<ipython-input-8-985279b4a9f2>\u001b[0m in \u001b[0;36m<module>\u001b[1;34m\u001b[0m\n\u001b[1;32m----> 1\u001b[1;33m \u001b[0mstate_gdp\u001b[0m\u001b[1;33m[\u001b[0m\u001b[1;34m'state_code'\u001b[0m\u001b[1;33m,\u001b[0m\u001b[1;34m'state'\u001b[0m\u001b[1;33m]\u001b[0m\u001b[1;33m.\u001b[0m\u001b[0mhead\u001b[0m\u001b[1;33m(\u001b[0m\u001b[1;33m)\u001b[0m \u001b[1;31m# Series\u001b[0m\u001b[1;33m\u001b[0m\u001b[1;33m\u001b[0m\u001b[0m\n\u001b[0m",
      "\u001b[1;32m~\\anaconda3\\envs\\fnguide\\lib\\site-packages\\pandas\\core\\frame.py\u001b[0m in \u001b[0;36m__getitem__\u001b[1;34m(self, key)\u001b[0m\n\u001b[0;32m   2798\u001b[0m             \u001b[1;32mif\u001b[0m \u001b[0mself\u001b[0m\u001b[1;33m.\u001b[0m\u001b[0mcolumns\u001b[0m\u001b[1;33m.\u001b[0m\u001b[0mnlevels\u001b[0m \u001b[1;33m>\u001b[0m \u001b[1;36m1\u001b[0m\u001b[1;33m:\u001b[0m\u001b[1;33m\u001b[0m\u001b[1;33m\u001b[0m\u001b[0m\n\u001b[0;32m   2799\u001b[0m                 \u001b[1;32mreturn\u001b[0m \u001b[0mself\u001b[0m\u001b[1;33m.\u001b[0m\u001b[0m_getitem_multilevel\u001b[0m\u001b[1;33m(\u001b[0m\u001b[0mkey\u001b[0m\u001b[1;33m)\u001b[0m\u001b[1;33m\u001b[0m\u001b[1;33m\u001b[0m\u001b[0m\n\u001b[1;32m-> 2800\u001b[1;33m             \u001b[0mindexer\u001b[0m \u001b[1;33m=\u001b[0m \u001b[0mself\u001b[0m\u001b[1;33m.\u001b[0m\u001b[0mcolumns\u001b[0m\u001b[1;33m.\u001b[0m\u001b[0mget_loc\u001b[0m\u001b[1;33m(\u001b[0m\u001b[0mkey\u001b[0m\u001b[1;33m)\u001b[0m\u001b[1;33m\u001b[0m\u001b[1;33m\u001b[0m\u001b[0m\n\u001b[0m\u001b[0;32m   2801\u001b[0m             \u001b[1;32mif\u001b[0m \u001b[0mis_integer\u001b[0m\u001b[1;33m(\u001b[0m\u001b[0mindexer\u001b[0m\u001b[1;33m)\u001b[0m\u001b[1;33m:\u001b[0m\u001b[1;33m\u001b[0m\u001b[1;33m\u001b[0m\u001b[0m\n\u001b[0;32m   2802\u001b[0m                 \u001b[0mindexer\u001b[0m \u001b[1;33m=\u001b[0m \u001b[1;33m[\u001b[0m\u001b[0mindexer\u001b[0m\u001b[1;33m]\u001b[0m\u001b[1;33m\u001b[0m\u001b[1;33m\u001b[0m\u001b[0m\n",
      "\u001b[1;32m~\\anaconda3\\envs\\fnguide\\lib\\site-packages\\pandas\\core\\indexes\\base.py\u001b[0m in \u001b[0;36mget_loc\u001b[1;34m(self, key, method, tolerance)\u001b[0m\n\u001b[0;32m   2646\u001b[0m                 \u001b[1;32mreturn\u001b[0m \u001b[0mself\u001b[0m\u001b[1;33m.\u001b[0m\u001b[0m_engine\u001b[0m\u001b[1;33m.\u001b[0m\u001b[0mget_loc\u001b[0m\u001b[1;33m(\u001b[0m\u001b[0mkey\u001b[0m\u001b[1;33m)\u001b[0m\u001b[1;33m\u001b[0m\u001b[1;33m\u001b[0m\u001b[0m\n\u001b[0;32m   2647\u001b[0m             \u001b[1;32mexcept\u001b[0m \u001b[0mKeyError\u001b[0m\u001b[1;33m:\u001b[0m\u001b[1;33m\u001b[0m\u001b[1;33m\u001b[0m\u001b[0m\n\u001b[1;32m-> 2648\u001b[1;33m                 \u001b[1;32mreturn\u001b[0m \u001b[0mself\u001b[0m\u001b[1;33m.\u001b[0m\u001b[0m_engine\u001b[0m\u001b[1;33m.\u001b[0m\u001b[0mget_loc\u001b[0m\u001b[1;33m(\u001b[0m\u001b[0mself\u001b[0m\u001b[1;33m.\u001b[0m\u001b[0m_maybe_cast_indexer\u001b[0m\u001b[1;33m(\u001b[0m\u001b[0mkey\u001b[0m\u001b[1;33m)\u001b[0m\u001b[1;33m)\u001b[0m\u001b[1;33m\u001b[0m\u001b[1;33m\u001b[0m\u001b[0m\n\u001b[0m\u001b[0;32m   2649\u001b[0m         \u001b[0mindexer\u001b[0m \u001b[1;33m=\u001b[0m \u001b[0mself\u001b[0m\u001b[1;33m.\u001b[0m\u001b[0mget_indexer\u001b[0m\u001b[1;33m(\u001b[0m\u001b[1;33m[\u001b[0m\u001b[0mkey\u001b[0m\u001b[1;33m]\u001b[0m\u001b[1;33m,\u001b[0m \u001b[0mmethod\u001b[0m\u001b[1;33m=\u001b[0m\u001b[0mmethod\u001b[0m\u001b[1;33m,\u001b[0m \u001b[0mtolerance\u001b[0m\u001b[1;33m=\u001b[0m\u001b[0mtolerance\u001b[0m\u001b[1;33m)\u001b[0m\u001b[1;33m\u001b[0m\u001b[1;33m\u001b[0m\u001b[0m\n\u001b[0;32m   2650\u001b[0m         \u001b[1;32mif\u001b[0m \u001b[0mindexer\u001b[0m\u001b[1;33m.\u001b[0m\u001b[0mndim\u001b[0m \u001b[1;33m>\u001b[0m \u001b[1;36m1\u001b[0m \u001b[1;32mor\u001b[0m \u001b[0mindexer\u001b[0m\u001b[1;33m.\u001b[0m\u001b[0msize\u001b[0m \u001b[1;33m>\u001b[0m \u001b[1;36m1\u001b[0m\u001b[1;33m:\u001b[0m\u001b[1;33m\u001b[0m\u001b[1;33m\u001b[0m\u001b[0m\n",
      "\u001b[1;32mpandas\\_libs\\index.pyx\u001b[0m in \u001b[0;36mpandas._libs.index.IndexEngine.get_loc\u001b[1;34m()\u001b[0m\n",
      "\u001b[1;32mpandas\\_libs\\index.pyx\u001b[0m in \u001b[0;36mpandas._libs.index.IndexEngine.get_loc\u001b[1;34m()\u001b[0m\n",
      "\u001b[1;32mpandas\\_libs\\hashtable_class_helper.pxi\u001b[0m in \u001b[0;36mpandas._libs.hashtable.PyObjectHashTable.get_item\u001b[1;34m()\u001b[0m\n",
      "\u001b[1;32mpandas\\_libs\\hashtable_class_helper.pxi\u001b[0m in \u001b[0;36mpandas._libs.hashtable.PyObjectHashTable.get_item\u001b[1;34m()\u001b[0m\n",
      "\u001b[1;31mKeyError\u001b[0m: ('state_code', 'state')"
     ]
    }
   ],
   "source": [
    "state_gdp['state_code','state'].head() # Series"
   ]
  },
  {
   "cell_type": "code",
   "execution_count": 9,
   "metadata": {
    "tags": []
   },
   "outputs": [
    {
     "data": {
      "text/html": [
       "<div>\n",
       "<style scoped>\n",
       "    .dataframe tbody tr th:only-of-type {\n",
       "        vertical-align: middle;\n",
       "    }\n",
       "\n",
       "    .dataframe tbody tr th {\n",
       "        vertical-align: top;\n",
       "    }\n",
       "\n",
       "    .dataframe thead th {\n",
       "        text-align: right;\n",
       "    }\n",
       "</style>\n",
       "<table border=\"1\" class=\"dataframe\">\n",
       "  <thead>\n",
       "    <tr style=\"text-align: right;\">\n",
       "      <th></th>\n",
       "      <th>state_code</th>\n",
       "    </tr>\n",
       "  </thead>\n",
       "  <tbody>\n",
       "    <tr>\n",
       "      <th>0</th>\n",
       "      <td>AK</td>\n",
       "    </tr>\n",
       "    <tr>\n",
       "      <th>1</th>\n",
       "      <td>AL</td>\n",
       "    </tr>\n",
       "    <tr>\n",
       "      <th>2</th>\n",
       "      <td>AR</td>\n",
       "    </tr>\n",
       "    <tr>\n",
       "      <th>3</th>\n",
       "      <td>AZ</td>\n",
       "    </tr>\n",
       "    <tr>\n",
       "      <th>4</th>\n",
       "      <td>CA</td>\n",
       "    </tr>\n",
       "  </tbody>\n",
       "</table>\n",
       "</div>"
      ],
      "text/plain": [
       "  state_code\n",
       "0         AK\n",
       "1         AL\n",
       "2         AR\n",
       "3         AZ\n",
       "4         CA"
      ]
     },
     "execution_count": 9,
     "metadata": {},
     "output_type": "execute_result"
    }
   ],
   "source": [
    "state_gdp[['state_code']].head() # DataFrame"
   ]
  },
  {
   "cell_type": "code",
   "execution_count": 18,
   "metadata": {
    "execution": {
     "iopub.execute_input": "2021-09-17T03:21:30.896267Z",
     "iopub.status.busy": "2021-09-17T03:21:30.896267Z",
     "iopub.status.idle": "2021-09-17T03:21:30.909231Z",
     "shell.execute_reply": "2021-09-17T03:21:30.909231Z",
     "shell.execute_reply.started": "2021-09-17T03:21:30.896267Z"
    }
   },
   "outputs": [
    {
     "data": {
      "text/html": [
       "<div>\n",
       "<style scoped>\n",
       "    .dataframe tbody tr th:only-of-type {\n",
       "        vertical-align: middle;\n",
       "    }\n",
       "\n",
       "    .dataframe tbody tr th {\n",
       "        vertical-align: top;\n",
       "    }\n",
       "\n",
       "    .dataframe thead th {\n",
       "        text-align: right;\n",
       "    }\n",
       "</style>\n",
       "<table border=\"1\" class=\"dataframe\">\n",
       "  <thead>\n",
       "    <tr style=\"text-align: right;\">\n",
       "      <th></th>\n",
       "      <th>state_code</th>\n",
       "      <th>state</th>\n",
       "    </tr>\n",
       "  </thead>\n",
       "  <tbody>\n",
       "    <tr>\n",
       "      <th>0</th>\n",
       "      <td>AK</td>\n",
       "      <td>Alaska</td>\n",
       "    </tr>\n",
       "    <tr>\n",
       "      <th>1</th>\n",
       "      <td>AL</td>\n",
       "      <td>Alabama</td>\n",
       "    </tr>\n",
       "    <tr>\n",
       "      <th>2</th>\n",
       "      <td>AR</td>\n",
       "      <td>Arkansas</td>\n",
       "    </tr>\n",
       "    <tr>\n",
       "      <th>3</th>\n",
       "      <td>AZ</td>\n",
       "      <td>Arizona</td>\n",
       "    </tr>\n",
       "    <tr>\n",
       "      <th>4</th>\n",
       "      <td>CA</td>\n",
       "      <td>California</td>\n",
       "    </tr>\n",
       "  </tbody>\n",
       "</table>\n",
       "</div>"
      ],
      "text/plain": [
       "  state_code       state\n",
       "0         AK      Alaska\n",
       "1         AL     Alabama\n",
       "2         AR    Arkansas\n",
       "3         AZ     Arizona\n",
       "4         CA  California"
      ]
     },
     "execution_count": 18,
     "metadata": {},
     "output_type": "execute_result"
    }
   ],
   "source": [
    "state_gdp[['state_code','state']].head()"
   ]
  },
  {
   "cell_type": "code",
   "execution_count": 19,
   "metadata": {
    "execution": {
     "iopub.execute_input": "2021-09-17T03:21:30.910229Z",
     "iopub.status.busy": "2021-09-17T03:21:30.910229Z",
     "iopub.status.idle": "2021-09-17T03:21:30.925188Z",
     "shell.execute_reply": "2021-09-17T03:21:30.925188Z",
     "shell.execute_reply.started": "2021-09-17T03:21:30.910229Z"
    }
   },
   "outputs": [
    {
     "name": "stdout",
     "output_type": "stream",
     "text": [
      "Index(['state', 'gdp_2009'], dtype='object')\n"
     ]
    },
    {
     "data": {
      "text/html": [
       "<div>\n",
       "<style scoped>\n",
       "    .dataframe tbody tr th:only-of-type {\n",
       "        vertical-align: middle;\n",
       "    }\n",
       "\n",
       "    .dataframe tbody tr th {\n",
       "        vertical-align: top;\n",
       "    }\n",
       "\n",
       "    .dataframe thead th {\n",
       "        text-align: right;\n",
       "    }\n",
       "</style>\n",
       "<table border=\"1\" class=\"dataframe\">\n",
       "  <thead>\n",
       "    <tr style=\"text-align: right;\">\n",
       "      <th></th>\n",
       "      <th>state</th>\n",
       "      <th>gdp_2009</th>\n",
       "    </tr>\n",
       "  </thead>\n",
       "  <tbody>\n",
       "    <tr>\n",
       "      <th>0</th>\n",
       "      <td>Alaska</td>\n",
       "      <td>44215</td>\n",
       "    </tr>\n",
       "    <tr>\n",
       "      <th>1</th>\n",
       "      <td>Alabama</td>\n",
       "      <td>149843</td>\n",
       "    </tr>\n",
       "    <tr>\n",
       "      <th>2</th>\n",
       "      <td>Arkansas</td>\n",
       "      <td>89776</td>\n",
       "    </tr>\n",
       "    <tr>\n",
       "      <th>3</th>\n",
       "      <td>Arizona</td>\n",
       "      <td>221405</td>\n",
       "    </tr>\n",
       "    <tr>\n",
       "      <th>4</th>\n",
       "      <td>California</td>\n",
       "      <td>1667152</td>\n",
       "    </tr>\n",
       "  </tbody>\n",
       "</table>\n",
       "</div>"
      ],
      "text/plain": [
       "        state  gdp_2009\n",
       "0      Alaska     44215\n",
       "1     Alabama    149843\n",
       "2    Arkansas     89776\n",
       "3     Arizona    221405\n",
       "4  California   1667152"
      ]
     },
     "execution_count": 19,
     "metadata": {},
     "output_type": "execute_result"
    }
   ],
   "source": [
    "cols = state_gdp.columns\n",
    "print(cols[1:3])\n",
    "state_gdp[cols[1:3]].head()"
   ]
  },
  {
   "cell_type": "markdown",
   "metadata": {},
   "source": [
    "- Selecting rows\n",
    "    - Rows can be selected using standard numerical slices.\n",
    "    - A function version is also available using iloc[rows] which is identical to the standard slicing syntax.\n",
    "    - Labeled rows can also be selected using the method loc[label] or loc[list of labels] to elect multiple rows using their label.\n",
    "    - Rows can also be selected using logical selection using a Boolean array with the same number of elements as the number of rows as the DataFrame."
   ]
  },
  {
   "cell_type": "code",
   "execution_count": 20,
   "metadata": {
    "execution": {
     "iopub.execute_input": "2021-09-17T03:21:30.926186Z",
     "iopub.status.busy": "2021-09-17T03:21:30.926186Z",
     "iopub.status.idle": "2021-09-17T03:21:30.941146Z",
     "shell.execute_reply": "2021-09-17T03:21:30.941146Z",
     "shell.execute_reply.started": "2021-09-17T03:21:30.926186Z"
    }
   },
   "outputs": [
    {
     "data": {
      "text/html": [
       "<div>\n",
       "<style scoped>\n",
       "    .dataframe tbody tr th:only-of-type {\n",
       "        vertical-align: middle;\n",
       "    }\n",
       "\n",
       "    .dataframe tbody tr th {\n",
       "        vertical-align: top;\n",
       "    }\n",
       "\n",
       "    .dataframe thead th {\n",
       "        text-align: right;\n",
       "    }\n",
       "</style>\n",
       "<table border=\"1\" class=\"dataframe\">\n",
       "  <thead>\n",
       "    <tr style=\"text-align: right;\">\n",
       "      <th></th>\n",
       "      <th>state_code</th>\n",
       "      <th>state</th>\n",
       "      <th>gdp_2009</th>\n",
       "      <th>gdp_2010</th>\n",
       "      <th>gdp_2011</th>\n",
       "      <th>gdp_2012</th>\n",
       "      <th>gdp_growth_2009</th>\n",
       "      <th>gdp_growth_2010</th>\n",
       "      <th>gdp_growth_2011</th>\n",
       "      <th>gdp_growth_2012</th>\n",
       "      <th>region</th>\n",
       "    </tr>\n",
       "  </thead>\n",
       "  <tbody>\n",
       "    <tr>\n",
       "      <th>1</th>\n",
       "      <td>AL</td>\n",
       "      <td>Alabama</td>\n",
       "      <td>149843</td>\n",
       "      <td>153839</td>\n",
       "      <td>155390</td>\n",
       "      <td>157272</td>\n",
       "      <td>-3.9</td>\n",
       "      <td>2.7</td>\n",
       "      <td>1.0</td>\n",
       "      <td>1.2</td>\n",
       "      <td>SE</td>\n",
       "    </tr>\n",
       "    <tr>\n",
       "      <th>2</th>\n",
       "      <td>AR</td>\n",
       "      <td>Arkansas</td>\n",
       "      <td>89776</td>\n",
       "      <td>92075</td>\n",
       "      <td>92684</td>\n",
       "      <td>93892</td>\n",
       "      <td>-2.0</td>\n",
       "      <td>2.6</td>\n",
       "      <td>0.7</td>\n",
       "      <td>1.3</td>\n",
       "      <td>SE</td>\n",
       "    </tr>\n",
       "  </tbody>\n",
       "</table>\n",
       "</div>"
      ],
      "text/plain": [
       "  state_code     state  gdp_2009  gdp_2010  gdp_2011  gdp_2012  \\\n",
       "1         AL   Alabama    149843    153839    155390    157272   \n",
       "2         AR  Arkansas     89776     92075     92684     93892   \n",
       "\n",
       "   gdp_growth_2009  gdp_growth_2010  gdp_growth_2011  gdp_growth_2012 region  \n",
       "1             -3.9              2.7              1.0              1.2     SE  \n",
       "2             -2.0              2.6              0.7              1.3     SE  "
      ]
     },
     "execution_count": 20,
     "metadata": {},
     "output_type": "execute_result"
    }
   ],
   "source": [
    "state_gdp[1:3]"
   ]
  },
  {
   "cell_type": "code",
   "execution_count": 22,
   "metadata": {
    "execution": {
     "iopub.execute_input": "2021-09-17T03:21:30.958102Z",
     "iopub.status.busy": "2021-09-17T03:21:30.958102Z",
     "iopub.status.idle": "2021-09-17T03:21:30.972089Z",
     "shell.execute_reply": "2021-09-17T03:21:30.972089Z",
     "shell.execute_reply.started": "2021-09-17T03:21:30.958102Z"
    }
   },
   "outputs": [
    {
     "data": {
      "text/html": [
       "<div>\n",
       "<style scoped>\n",
       "    .dataframe tbody tr th:only-of-type {\n",
       "        vertical-align: middle;\n",
       "    }\n",
       "\n",
       "    .dataframe tbody tr th {\n",
       "        vertical-align: top;\n",
       "    }\n",
       "\n",
       "    .dataframe thead th {\n",
       "        text-align: right;\n",
       "    }\n",
       "</style>\n",
       "<table border=\"1\" class=\"dataframe\">\n",
       "  <thead>\n",
       "    <tr style=\"text-align: right;\">\n",
       "      <th></th>\n",
       "      <th>state_code</th>\n",
       "      <th>state</th>\n",
       "      <th>gdp_2009</th>\n",
       "      <th>gdp_2010</th>\n",
       "      <th>gdp_2011</th>\n",
       "      <th>gdp_2012</th>\n",
       "      <th>gdp_growth_2009</th>\n",
       "      <th>gdp_growth_2010</th>\n",
       "      <th>gdp_growth_2011</th>\n",
       "      <th>gdp_growth_2012</th>\n",
       "      <th>region</th>\n",
       "    </tr>\n",
       "  </thead>\n",
       "  <tbody>\n",
       "    <tr>\n",
       "      <th>0</th>\n",
       "      <td>AK</td>\n",
       "      <td>Alaska</td>\n",
       "      <td>44215</td>\n",
       "      <td>43472</td>\n",
       "      <td>44232</td>\n",
       "      <td>44732</td>\n",
       "      <td>7.7</td>\n",
       "      <td>-1.7</td>\n",
       "      <td>1.7</td>\n",
       "      <td>1.1</td>\n",
       "      <td>FW</td>\n",
       "    </tr>\n",
       "    <tr>\n",
       "      <th>3</th>\n",
       "      <td>AZ</td>\n",
       "      <td>Arizona</td>\n",
       "      <td>221405</td>\n",
       "      <td>221016</td>\n",
       "      <td>224787</td>\n",
       "      <td>230641</td>\n",
       "      <td>-8.2</td>\n",
       "      <td>-0.2</td>\n",
       "      <td>1.7</td>\n",
       "      <td>2.6</td>\n",
       "      <td>SW</td>\n",
       "    </tr>\n",
       "    <tr>\n",
       "      <th>33</th>\n",
       "      <td>NV</td>\n",
       "      <td>Nevada</td>\n",
       "      <td>110001</td>\n",
       "      <td>109610</td>\n",
       "      <td>111574</td>\n",
       "      <td>113197</td>\n",
       "      <td>-8.2</td>\n",
       "      <td>-0.4</td>\n",
       "      <td>1.8</td>\n",
       "      <td>1.5</td>\n",
       "      <td>FW</td>\n",
       "    </tr>\n",
       "    <tr>\n",
       "      <th>50</th>\n",
       "      <td>WY</td>\n",
       "      <td>Wyoming</td>\n",
       "      <td>32439</td>\n",
       "      <td>32004</td>\n",
       "      <td>31231</td>\n",
       "      <td>31302</td>\n",
       "      <td>3.4</td>\n",
       "      <td>-1.3</td>\n",
       "      <td>-2.4</td>\n",
       "      <td>0.2</td>\n",
       "      <td>RM</td>\n",
       "    </tr>\n",
       "  </tbody>\n",
       "</table>\n",
       "</div>"
      ],
      "text/plain": [
       "   state_code    state  gdp_2009  gdp_2010  gdp_2011  gdp_2012  \\\n",
       "0          AK   Alaska     44215     43472     44232     44732   \n",
       "3          AZ  Arizona    221405    221016    224787    230641   \n",
       "33         NV   Nevada    110001    109610    111574    113197   \n",
       "50         WY  Wyoming     32439     32004     31231     31302   \n",
       "\n",
       "    gdp_growth_2009  gdp_growth_2010  gdp_growth_2011  gdp_growth_2012 region  \n",
       "0               7.7             -1.7              1.7              1.1     FW  \n",
       "3              -8.2             -0.2              1.7              2.6     SW  \n",
       "33             -8.2             -0.4              1.8              1.5     FW  \n",
       "50              3.4             -1.3             -2.4              0.2     RM  "
      ]
     },
     "execution_count": 22,
     "metadata": {},
     "output_type": "execute_result"
    }
   ],
   "source": [
    "state_long_recession = state_gdp['gdp_growth_2010']<0\n",
    "state_gdp[state_long_recession]"
   ]
  },
  {
   "cell_type": "markdown",
   "metadata": {},
   "source": [
    "- Selecting Rows and Columns"
   ]
  },
  {
   "cell_type": "code",
   "execution_count": 23,
   "metadata": {
    "execution": {
     "iopub.execute_input": "2021-09-17T03:21:30.975081Z",
     "iopub.status.busy": "2021-09-17T03:21:30.975081Z",
     "iopub.status.idle": "2021-09-17T03:21:31.066810Z",
     "shell.execute_reply": "2021-09-17T03:21:31.066810Z",
     "shell.execute_reply.started": "2021-09-17T03:21:30.975081Z"
    }
   },
   "outputs": [
    {
     "ename": "TypeError",
     "evalue": "'(slice(1, 3, None), slice(4, 5, None))' is an invalid key",
     "output_type": "error",
     "traceback": [
      "\u001b[1;31m---------------------------------------------------------------------------\u001b[0m",
      "\u001b[1;31mTypeError\u001b[0m                                 Traceback (most recent call last)",
      "\u001b[1;32m<ipython-input-23-2671aa9c99a0>\u001b[0m in \u001b[0;36m<module>\u001b[1;34m\u001b[0m\n\u001b[1;32m----> 1\u001b[1;33m \u001b[0mstate_gdp\u001b[0m\u001b[1;33m[\u001b[0m\u001b[1;36m1\u001b[0m\u001b[1;33m:\u001b[0m\u001b[1;36m3\u001b[0m\u001b[1;33m,\u001b[0m \u001b[1;36m4\u001b[0m\u001b[1;33m:\u001b[0m\u001b[1;36m5\u001b[0m\u001b[1;33m]\u001b[0m\u001b[1;33m\u001b[0m\u001b[1;33m\u001b[0m\u001b[0m\n\u001b[0m",
      "\u001b[1;32m~\\anaconda3\\envs\\main\\lib\\site-packages\\pandas\\core\\frame.py\u001b[0m in \u001b[0;36m__getitem__\u001b[1;34m(self, key)\u001b[0m\n\u001b[0;32m   2798\u001b[0m             \u001b[1;32mif\u001b[0m \u001b[0mself\u001b[0m\u001b[1;33m.\u001b[0m\u001b[0mcolumns\u001b[0m\u001b[1;33m.\u001b[0m\u001b[0mnlevels\u001b[0m \u001b[1;33m>\u001b[0m \u001b[1;36m1\u001b[0m\u001b[1;33m:\u001b[0m\u001b[1;33m\u001b[0m\u001b[1;33m\u001b[0m\u001b[0m\n\u001b[0;32m   2799\u001b[0m                 \u001b[1;32mreturn\u001b[0m \u001b[0mself\u001b[0m\u001b[1;33m.\u001b[0m\u001b[0m_getitem_multilevel\u001b[0m\u001b[1;33m(\u001b[0m\u001b[0mkey\u001b[0m\u001b[1;33m)\u001b[0m\u001b[1;33m\u001b[0m\u001b[1;33m\u001b[0m\u001b[0m\n\u001b[1;32m-> 2800\u001b[1;33m             \u001b[0mindexer\u001b[0m \u001b[1;33m=\u001b[0m \u001b[0mself\u001b[0m\u001b[1;33m.\u001b[0m\u001b[0mcolumns\u001b[0m\u001b[1;33m.\u001b[0m\u001b[0mget_loc\u001b[0m\u001b[1;33m(\u001b[0m\u001b[0mkey\u001b[0m\u001b[1;33m)\u001b[0m\u001b[1;33m\u001b[0m\u001b[1;33m\u001b[0m\u001b[0m\n\u001b[0m\u001b[0;32m   2801\u001b[0m             \u001b[1;32mif\u001b[0m \u001b[0mis_integer\u001b[0m\u001b[1;33m(\u001b[0m\u001b[0mindexer\u001b[0m\u001b[1;33m)\u001b[0m\u001b[1;33m:\u001b[0m\u001b[1;33m\u001b[0m\u001b[1;33m\u001b[0m\u001b[0m\n\u001b[0;32m   2802\u001b[0m                 \u001b[0mindexer\u001b[0m \u001b[1;33m=\u001b[0m \u001b[1;33m[\u001b[0m\u001b[0mindexer\u001b[0m\u001b[1;33m]\u001b[0m\u001b[1;33m\u001b[0m\u001b[1;33m\u001b[0m\u001b[0m\n",
      "\u001b[1;32m~\\anaconda3\\envs\\main\\lib\\site-packages\\pandas\\core\\indexes\\base.py\u001b[0m in \u001b[0;36mget_loc\u001b[1;34m(self, key, method, tolerance)\u001b[0m\n\u001b[0;32m   2644\u001b[0m                 )\n\u001b[0;32m   2645\u001b[0m             \u001b[1;32mtry\u001b[0m\u001b[1;33m:\u001b[0m\u001b[1;33m\u001b[0m\u001b[1;33m\u001b[0m\u001b[0m\n\u001b[1;32m-> 2646\u001b[1;33m                 \u001b[1;32mreturn\u001b[0m \u001b[0mself\u001b[0m\u001b[1;33m.\u001b[0m\u001b[0m_engine\u001b[0m\u001b[1;33m.\u001b[0m\u001b[0mget_loc\u001b[0m\u001b[1;33m(\u001b[0m\u001b[0mkey\u001b[0m\u001b[1;33m)\u001b[0m\u001b[1;33m\u001b[0m\u001b[1;33m\u001b[0m\u001b[0m\n\u001b[0m\u001b[0;32m   2647\u001b[0m             \u001b[1;32mexcept\u001b[0m \u001b[0mKeyError\u001b[0m\u001b[1;33m:\u001b[0m\u001b[1;33m\u001b[0m\u001b[1;33m\u001b[0m\u001b[0m\n\u001b[0;32m   2648\u001b[0m                 \u001b[1;32mreturn\u001b[0m \u001b[0mself\u001b[0m\u001b[1;33m.\u001b[0m\u001b[0m_engine\u001b[0m\u001b[1;33m.\u001b[0m\u001b[0mget_loc\u001b[0m\u001b[1;33m(\u001b[0m\u001b[0mself\u001b[0m\u001b[1;33m.\u001b[0m\u001b[0m_maybe_cast_indexer\u001b[0m\u001b[1;33m(\u001b[0m\u001b[0mkey\u001b[0m\u001b[1;33m)\u001b[0m\u001b[1;33m)\u001b[0m\u001b[1;33m\u001b[0m\u001b[1;33m\u001b[0m\u001b[0m\n",
      "\u001b[1;32mpandas\\_libs\\index.pyx\u001b[0m in \u001b[0;36mpandas._libs.index.IndexEngine.get_loc\u001b[1;34m()\u001b[0m\n",
      "\u001b[1;32mpandas\\_libs\\index.pyx\u001b[0m in \u001b[0;36mpandas._libs.index.IndexEngine.get_loc\u001b[1;34m()\u001b[0m\n",
      "\u001b[1;31mTypeError\u001b[0m: '(slice(1, 3, None), slice(4, 5, None))' is an invalid key"
     ]
    }
   ],
   "source": [
    "state_gdp[1:3, 4:5]"
   ]
  },
  {
   "cell_type": "code",
   "execution_count": null,
   "metadata": {
    "execution": {
     "iopub.status.busy": "2021-09-17T03:21:31.067808Z",
     "iopub.status.idle": "2021-09-17T03:21:31.068805Z"
    }
   },
   "outputs": [],
   "source": [
    "state_gdp.iloc[1:3, 4:5]"
   ]
  },
  {
   "cell_type": "code",
   "execution_count": null,
   "metadata": {},
   "outputs": [],
   "source": [
    "state_gdp['state']"
   ]
  },
  {
   "cell_type": "code",
   "execution_count": null,
   "metadata": {},
   "outputs": [],
   "source": [
    "state_gdp.loc[state_long_recession,'state']"
   ]
  },
  {
   "cell_type": "code",
   "execution_count": null,
   "metadata": {
    "execution": {
     "iopub.status.busy": "2021-09-17T03:21:31.068805Z",
     "iopub.status.idle": "2021-09-17T03:21:31.068805Z"
    }
   },
   "outputs": [],
   "source": [
    "state_gdp.loc[state_long_recession,'state']"
   ]
  },
  {
   "cell_type": "code",
   "execution_count": null,
   "metadata": {
    "execution": {
     "iopub.status.busy": "2021-09-17T03:21:31.069802Z",
     "iopub.status.idle": "2021-09-17T03:21:31.069802Z"
    }
   },
   "outputs": [],
   "source": [
    "state_gdp.loc[state_long_recession, ['state','gdp_growth_2009','gdp_growth_2010']]"
   ]
  },
  {
   "cell_type": "code",
   "execution_count": null,
   "metadata": {
    "execution": {
     "iopub.status.busy": "2021-09-17T03:21:31.070800Z",
     "iopub.status.idle": "2021-09-17T03:21:31.070800Z"
    }
   },
   "outputs": [],
   "source": [
    "state_gdp.iloc[10:15,0] # Slice and scalar"
   ]
  },
  {
   "cell_type": "code",
   "execution_count": null,
   "metadata": {
    "execution": {
     "iopub.status.busy": "2021-09-17T03:21:31.070800Z",
     "iopub.status.idle": "2021-09-17T03:21:31.071797Z"
    }
   },
   "outputs": [],
   "source": [
    "state_gdp.iloc[10:15,:2] # Slice and slice"
   ]
  },
  {
   "cell_type": "markdown",
   "metadata": {},
   "source": [
    "- Adding and deleting columnns\n",
    "    - Columns are added using a dictionary-like syntax (must be pd.Series).\n",
    "    - Columns can be deleted using the del keyword, using pop(column), or by colling drop()"
   ]
  },
  {
   "cell_type": "code",
   "execution_count": null,
   "metadata": {
    "execution": {
     "iopub.status.busy": "2021-09-17T03:21:31.071797Z",
     "iopub.status.idle": "2021-09-17T03:21:31.071797Z"
    }
   },
   "outputs": [],
   "source": [
    "columns = ['state_code','gdp_growth_2011','gdp_growth_2012']\n",
    "\n",
    "state_gdp_copy = state_gdp.copy()\n",
    "state_gdp_copy = state_gdp_copy[columns]\n",
    "state_gdp_dropped = state_gdp_copy.drop(['state_code','gdp_growth_2011'], axis=1)\n",
    "state_gdp_dropped.head()"
   ]
  },
  {
   "cell_type": "code",
   "execution_count": 53,
   "metadata": {
    "execution": {
     "iopub.execute_input": "2021-09-17T04:57:49.529340Z",
     "iopub.status.busy": "2021-09-17T04:57:49.529340Z",
     "iopub.status.idle": "2021-09-17T04:57:49.549273Z",
     "shell.execute_reply": "2021-09-17T04:57:49.549273Z",
     "shell.execute_reply.started": "2021-09-17T04:57:49.529340Z"
    }
   },
   "outputs": [
    {
     "data": {
      "text/html": [
       "<div>\n",
       "<style scoped>\n",
       "    .dataframe tbody tr th:only-of-type {\n",
       "        vertical-align: middle;\n",
       "    }\n",
       "\n",
       "    .dataframe tbody tr th {\n",
       "        vertical-align: top;\n",
       "    }\n",
       "\n",
       "    .dataframe thead th {\n",
       "        text-align: right;\n",
       "    }\n",
       "</style>\n",
       "<table border=\"1\" class=\"dataframe\">\n",
       "  <thead>\n",
       "    <tr style=\"text-align: right;\">\n",
       "      <th></th>\n",
       "      <th>state</th>\n",
       "      <th>gdp_2009</th>\n",
       "      <th>gdp_2010</th>\n",
       "      <th>gdp_2011</th>\n",
       "      <th>gdp_2012</th>\n",
       "      <th>gdp_growth_2009</th>\n",
       "      <th>gdp_growth_2010</th>\n",
       "      <th>gdp_growth_2012</th>\n",
       "      <th>region</th>\n",
       "    </tr>\n",
       "  </thead>\n",
       "  <tbody>\n",
       "    <tr>\n",
       "      <th>0</th>\n",
       "      <td>Alaska</td>\n",
       "      <td>44215</td>\n",
       "      <td>43472</td>\n",
       "      <td>44232</td>\n",
       "      <td>44732</td>\n",
       "      <td>7.7</td>\n",
       "      <td>-1.7</td>\n",
       "      <td>1.1</td>\n",
       "      <td>FW</td>\n",
       "    </tr>\n",
       "    <tr>\n",
       "      <th>1</th>\n",
       "      <td>Alabama</td>\n",
       "      <td>149843</td>\n",
       "      <td>153839</td>\n",
       "      <td>155390</td>\n",
       "      <td>157272</td>\n",
       "      <td>-3.9</td>\n",
       "      <td>2.7</td>\n",
       "      <td>1.2</td>\n",
       "      <td>SE</td>\n",
       "    </tr>\n",
       "    <tr>\n",
       "      <th>2</th>\n",
       "      <td>Arkansas</td>\n",
       "      <td>89776</td>\n",
       "      <td>92075</td>\n",
       "      <td>92684</td>\n",
       "      <td>93892</td>\n",
       "      <td>-2.0</td>\n",
       "      <td>2.6</td>\n",
       "      <td>1.3</td>\n",
       "      <td>SE</td>\n",
       "    </tr>\n",
       "    <tr>\n",
       "      <th>3</th>\n",
       "      <td>Arizona</td>\n",
       "      <td>221405</td>\n",
       "      <td>221016</td>\n",
       "      <td>224787</td>\n",
       "      <td>230641</td>\n",
       "      <td>-8.2</td>\n",
       "      <td>-0.2</td>\n",
       "      <td>2.6</td>\n",
       "      <td>SW</td>\n",
       "    </tr>\n",
       "    <tr>\n",
       "      <th>4</th>\n",
       "      <td>California</td>\n",
       "      <td>1667152</td>\n",
       "      <td>1672473</td>\n",
       "      <td>1692301</td>\n",
       "      <td>1751002</td>\n",
       "      <td>-5.1</td>\n",
       "      <td>0.3</td>\n",
       "      <td>3.5</td>\n",
       "      <td>FW</td>\n",
       "    </tr>\n",
       "    <tr>\n",
       "      <th>5</th>\n",
       "      <td>Colorado</td>\n",
       "      <td>225984</td>\n",
       "      <td>230976</td>\n",
       "      <td>234929</td>\n",
       "      <td>239884</td>\n",
       "      <td>-2.2</td>\n",
       "      <td>2.2</td>\n",
       "      <td>2.1</td>\n",
       "      <td>RM</td>\n",
       "    </tr>\n",
       "    <tr>\n",
       "      <th>6</th>\n",
       "      <td>Connecticut</td>\n",
       "      <td>195237</td>\n",
       "      <td>197613</td>\n",
       "      <td>197452</td>\n",
       "      <td>197202</td>\n",
       "      <td>-3.6</td>\n",
       "      <td>1.2</td>\n",
       "      <td>-0.1</td>\n",
       "      <td>NE</td>\n",
       "    </tr>\n",
       "    <tr>\n",
       "      <th>7</th>\n",
       "      <td>District of Columbia</td>\n",
       "      <td>87172</td>\n",
       "      <td>89968</td>\n",
       "      <td>91442</td>\n",
       "      <td>92106</td>\n",
       "      <td>-0.7</td>\n",
       "      <td>3.2</td>\n",
       "      <td>0.7</td>\n",
       "      <td>MW</td>\n",
       "    </tr>\n",
       "    <tr>\n",
       "      <th>8</th>\n",
       "      <td>Delaware</td>\n",
       "      <td>55352</td>\n",
       "      <td>55496</td>\n",
       "      <td>56004</td>\n",
       "      <td>56110</td>\n",
       "      <td>3.1</td>\n",
       "      <td>0.3</td>\n",
       "      <td>0.2</td>\n",
       "      <td>MW</td>\n",
       "    </tr>\n",
       "    <tr>\n",
       "      <th>9</th>\n",
       "      <td>Florida</td>\n",
       "      <td>648642</td>\n",
       "      <td>650291</td>\n",
       "      <td>656346</td>\n",
       "      <td>672287</td>\n",
       "      <td>-5.9</td>\n",
       "      <td>0.3</td>\n",
       "      <td>2.4</td>\n",
       "      <td>SE</td>\n",
       "    </tr>\n",
       "    <tr>\n",
       "      <th>10</th>\n",
       "      <td>Georgia</td>\n",
       "      <td>353817</td>\n",
       "      <td>358843</td>\n",
       "      <td>366342</td>\n",
       "      <td>374000</td>\n",
       "      <td>-5.4</td>\n",
       "      <td>1.4</td>\n",
       "      <td>2.1</td>\n",
       "      <td>SE</td>\n",
       "    </tr>\n",
       "    <tr>\n",
       "      <th>11</th>\n",
       "      <td>Hawaii</td>\n",
       "      <td>57902</td>\n",
       "      <td>59673</td>\n",
       "      <td>60899</td>\n",
       "      <td>61877</td>\n",
       "      <td>-3.7</td>\n",
       "      <td>3.1</td>\n",
       "      <td>1.6</td>\n",
       "      <td>FW</td>\n",
       "    </tr>\n",
       "    <tr>\n",
       "      <th>12</th>\n",
       "      <td>Iowa</td>\n",
       "      <td>121742</td>\n",
       "      <td>124011</td>\n",
       "      <td>126792</td>\n",
       "      <td>129799</td>\n",
       "      <td>-1.6</td>\n",
       "      <td>1.9</td>\n",
       "      <td>2.4</td>\n",
       "      <td>PL</td>\n",
       "    </tr>\n",
       "    <tr>\n",
       "      <th>13</th>\n",
       "      <td>Idaho</td>\n",
       "      <td>49949</td>\n",
       "      <td>50734</td>\n",
       "      <td>50759</td>\n",
       "      <td>50976</td>\n",
       "      <td>-2.8</td>\n",
       "      <td>1.6</td>\n",
       "      <td>0.4</td>\n",
       "      <td>RM</td>\n",
       "    </tr>\n",
       "    <tr>\n",
       "      <th>14</th>\n",
       "      <td>Illinois</td>\n",
       "      <td>561154</td>\n",
       "      <td>571228</td>\n",
       "      <td>583055</td>\n",
       "      <td>594201</td>\n",
       "      <td>-3.4</td>\n",
       "      <td>1.8</td>\n",
       "      <td>1.9</td>\n",
       "      <td>GL</td>\n",
       "    </tr>\n",
       "    <tr>\n",
       "      <th>15</th>\n",
       "      <td>Indiana</td>\n",
       "      <td>227383</td>\n",
       "      <td>241927</td>\n",
       "      <td>247222</td>\n",
       "      <td>255380</td>\n",
       "      <td>-6.0</td>\n",
       "      <td>6.4</td>\n",
       "      <td>3.3</td>\n",
       "      <td>GL</td>\n",
       "    </tr>\n",
       "    <tr>\n",
       "      <th>16</th>\n",
       "      <td>Kansas</td>\n",
       "      <td>110420</td>\n",
       "      <td>113324</td>\n",
       "      <td>116907</td>\n",
       "      <td>118523</td>\n",
       "      <td>-3.2</td>\n",
       "      <td>2.6</td>\n",
       "      <td>1.4</td>\n",
       "      <td>PL</td>\n",
       "    </tr>\n",
       "    <tr>\n",
       "      <th>17</th>\n",
       "      <td>Kentucky</td>\n",
       "      <td>135180</td>\n",
       "      <td>141977</td>\n",
       "      <td>144779</td>\n",
       "      <td>146829</td>\n",
       "      <td>-3.9</td>\n",
       "      <td>5.0</td>\n",
       "      <td>1.4</td>\n",
       "      <td>SE</td>\n",
       "    </tr>\n",
       "    <tr>\n",
       "      <th>18</th>\n",
       "      <td>Louisiana</td>\n",
       "      <td>189853</td>\n",
       "      <td>200944</td>\n",
       "      <td>195640</td>\n",
       "      <td>198548</td>\n",
       "      <td>3.2</td>\n",
       "      <td>5.8</td>\n",
       "      <td>1.5</td>\n",
       "      <td>SE</td>\n",
       "    </tr>\n",
       "    <tr>\n",
       "      <th>19</th>\n",
       "      <td>Massachusetts</td>\n",
       "      <td>327739</td>\n",
       "      <td>340159</td>\n",
       "      <td>345961</td>\n",
       "      <td>353717</td>\n",
       "      <td>-2.4</td>\n",
       "      <td>3.8</td>\n",
       "      <td>2.2</td>\n",
       "      <td>NE</td>\n",
       "    </tr>\n",
       "    <tr>\n",
       "      <th>20</th>\n",
       "      <td>Maryland</td>\n",
       "      <td>255757</td>\n",
       "      <td>264321</td>\n",
       "      <td>268418</td>\n",
       "      <td>274930</td>\n",
       "      <td>-1.1</td>\n",
       "      <td>3.3</td>\n",
       "      <td>2.4</td>\n",
       "      <td>MW</td>\n",
       "    </tr>\n",
       "    <tr>\n",
       "      <th>21</th>\n",
       "      <td>Maine</td>\n",
       "      <td>44770</td>\n",
       "      <td>45564</td>\n",
       "      <td>45763</td>\n",
       "      <td>45986</td>\n",
       "      <td>-1.8</td>\n",
       "      <td>1.8</td>\n",
       "      <td>0.5</td>\n",
       "      <td>NE</td>\n",
       "    </tr>\n",
       "    <tr>\n",
       "      <th>22</th>\n",
       "      <td>Michigan</td>\n",
       "      <td>314260</td>\n",
       "      <td>329812</td>\n",
       "      <td>341194</td>\n",
       "      <td>348867</td>\n",
       "      <td>-9.1</td>\n",
       "      <td>4.9</td>\n",
       "      <td>2.2</td>\n",
       "      <td>GL</td>\n",
       "    </tr>\n",
       "    <tr>\n",
       "      <th>23</th>\n",
       "      <td>Minnesota</td>\n",
       "      <td>233758</td>\n",
       "      <td>240418</td>\n",
       "      <td>244305</td>\n",
       "      <td>252971</td>\n",
       "      <td>-3.5</td>\n",
       "      <td>2.8</td>\n",
       "      <td>3.5</td>\n",
       "      <td>PL</td>\n",
       "    </tr>\n",
       "    <tr>\n",
       "      <th>24</th>\n",
       "      <td>Missouri</td>\n",
       "      <td>212591</td>\n",
       "      <td>216681</td>\n",
       "      <td>217401</td>\n",
       "      <td>221702</td>\n",
       "      <td>-4.3</td>\n",
       "      <td>1.9</td>\n",
       "      <td>2.0</td>\n",
       "      <td>PL</td>\n",
       "    </tr>\n",
       "    <tr>\n",
       "      <th>25</th>\n",
       "      <td>Mississippi</td>\n",
       "      <td>83702</td>\n",
       "      <td>85363</td>\n",
       "      <td>84402</td>\n",
       "      <td>86396</td>\n",
       "      <td>-3.9</td>\n",
       "      <td>2.0</td>\n",
       "      <td>2.4</td>\n",
       "      <td>SE</td>\n",
       "    </tr>\n",
       "    <tr>\n",
       "      <th>26</th>\n",
       "      <td>Montana</td>\n",
       "      <td>31271</td>\n",
       "      <td>31918</td>\n",
       "      <td>32683</td>\n",
       "      <td>33374</td>\n",
       "      <td>-2.1</td>\n",
       "      <td>2.1</td>\n",
       "      <td>2.1</td>\n",
       "      <td>RM</td>\n",
       "    </tr>\n",
       "    <tr>\n",
       "      <th>27</th>\n",
       "      <td>North Carolina</td>\n",
       "      <td>372219</td>\n",
       "      <td>380693</td>\n",
       "      <td>382655</td>\n",
       "      <td>392905</td>\n",
       "      <td>-1.5</td>\n",
       "      <td>2.3</td>\n",
       "      <td>2.7</td>\n",
       "      <td>SE</td>\n",
       "    </tr>\n",
       "    <tr>\n",
       "      <th>28</th>\n",
       "      <td>North Dakota</td>\n",
       "      <td>29497</td>\n",
       "      <td>31618</td>\n",
       "      <td>34092</td>\n",
       "      <td>38654</td>\n",
       "      <td>3.0</td>\n",
       "      <td>7.2</td>\n",
       "      <td>13.4</td>\n",
       "      <td>PL</td>\n",
       "    </tr>\n",
       "    <tr>\n",
       "      <th>29</th>\n",
       "      <td>Nebraska</td>\n",
       "      <td>77625</td>\n",
       "      <td>80638</td>\n",
       "      <td>82172</td>\n",
       "      <td>83393</td>\n",
       "      <td>-0.1</td>\n",
       "      <td>3.9</td>\n",
       "      <td>1.5</td>\n",
       "      <td>PL</td>\n",
       "    </tr>\n",
       "    <tr>\n",
       "      <th>30</th>\n",
       "      <td>New Hampshire</td>\n",
       "      <td>53475</td>\n",
       "      <td>55242</td>\n",
       "      <td>56443</td>\n",
       "      <td>56735</td>\n",
       "      <td>-1.8</td>\n",
       "      <td>3.3</td>\n",
       "      <td>0.5</td>\n",
       "      <td>NE</td>\n",
       "    </tr>\n",
       "    <tr>\n",
       "      <th>31</th>\n",
       "      <td>New Jersey</td>\n",
       "      <td>424871</td>\n",
       "      <td>431409</td>\n",
       "      <td>432415</td>\n",
       "      <td>438173</td>\n",
       "      <td>-4.3</td>\n",
       "      <td>1.5</td>\n",
       "      <td>1.3</td>\n",
       "      <td>MW</td>\n",
       "    </tr>\n",
       "    <tr>\n",
       "      <th>32</th>\n",
       "      <td>New Mexico</td>\n",
       "      <td>70239</td>\n",
       "      <td>70785</td>\n",
       "      <td>70529</td>\n",
       "      <td>70699</td>\n",
       "      <td>1.7</td>\n",
       "      <td>0.8</td>\n",
       "      <td>0.2</td>\n",
       "      <td>SW</td>\n",
       "    </tr>\n",
       "    <tr>\n",
       "      <th>33</th>\n",
       "      <td>Nevada</td>\n",
       "      <td>110001</td>\n",
       "      <td>109610</td>\n",
       "      <td>111574</td>\n",
       "      <td>113197</td>\n",
       "      <td>-8.2</td>\n",
       "      <td>-0.4</td>\n",
       "      <td>1.5</td>\n",
       "      <td>FW</td>\n",
       "    </tr>\n",
       "    <tr>\n",
       "      <th>34</th>\n",
       "      <td>New York</td>\n",
       "      <td>974078</td>\n",
       "      <td>1013251</td>\n",
       "      <td>1024985</td>\n",
       "      <td>1038541</td>\n",
       "      <td>-1.4</td>\n",
       "      <td>4.0</td>\n",
       "      <td>1.3</td>\n",
       "      <td>MW</td>\n",
       "    </tr>\n",
       "    <tr>\n",
       "      <th>35</th>\n",
       "      <td>Ohio</td>\n",
       "      <td>405483</td>\n",
       "      <td>413991</td>\n",
       "      <td>425913</td>\n",
       "      <td>435104</td>\n",
       "      <td>-5.7</td>\n",
       "      <td>2.1</td>\n",
       "      <td>2.2</td>\n",
       "      <td>GL</td>\n",
       "    </tr>\n",
       "    <tr>\n",
       "      <th>36</th>\n",
       "      <td>Oklahoma</td>\n",
       "      <td>132059</td>\n",
       "      <td>132917</td>\n",
       "      <td>135454</td>\n",
       "      <td>138296</td>\n",
       "      <td>-1.7</td>\n",
       "      <td>0.6</td>\n",
       "      <td>2.1</td>\n",
       "      <td>SW</td>\n",
       "    </tr>\n",
       "    <tr>\n",
       "      <th>37</th>\n",
       "      <td>Oregon</td>\n",
       "      <td>164711</td>\n",
       "      <td>174165</td>\n",
       "      <td>180326</td>\n",
       "      <td>187440</td>\n",
       "      <td>-3.2</td>\n",
       "      <td>5.7</td>\n",
       "      <td>3.9</td>\n",
       "      <td>FW</td>\n",
       "    </tr>\n",
       "    <tr>\n",
       "      <th>38</th>\n",
       "      <td>Pennsylvania</td>\n",
       "      <td>482665</td>\n",
       "      <td>493530</td>\n",
       "      <td>502769</td>\n",
       "      <td>511345</td>\n",
       "      <td>-3.1</td>\n",
       "      <td>2.3</td>\n",
       "      <td>1.7</td>\n",
       "      <td>MW</td>\n",
       "    </tr>\n",
       "    <tr>\n",
       "      <th>39</th>\n",
       "      <td>Rhode Island</td>\n",
       "      <td>42741</td>\n",
       "      <td>43153</td>\n",
       "      <td>43168</td>\n",
       "      <td>43774</td>\n",
       "      <td>-1.6</td>\n",
       "      <td>1.0</td>\n",
       "      <td>1.4</td>\n",
       "      <td>NE</td>\n",
       "    </tr>\n",
       "    <tr>\n",
       "      <th>40</th>\n",
       "      <td>South Carolina</td>\n",
       "      <td>139913</td>\n",
       "      <td>143407</td>\n",
       "      <td>146669</td>\n",
       "      <td>150596</td>\n",
       "      <td>-4.3</td>\n",
       "      <td>2.5</td>\n",
       "      <td>2.7</td>\n",
       "      <td>SE</td>\n",
       "    </tr>\n",
       "    <tr>\n",
       "      <th>41</th>\n",
       "      <td>South Dakota</td>\n",
       "      <td>34354</td>\n",
       "      <td>34371</td>\n",
       "      <td>35898</td>\n",
       "      <td>35985</td>\n",
       "      <td>0.2</td>\n",
       "      <td>0.0</td>\n",
       "      <td>0.2</td>\n",
       "      <td>PL</td>\n",
       "    </tr>\n",
       "    <tr>\n",
       "      <th>42</th>\n",
       "      <td>Tennessee</td>\n",
       "      <td>221902</td>\n",
       "      <td>227360</td>\n",
       "      <td>232891</td>\n",
       "      <td>240523</td>\n",
       "      <td>-3.9</td>\n",
       "      <td>2.5</td>\n",
       "      <td>3.3</td>\n",
       "      <td>SE</td>\n",
       "    </tr>\n",
       "    <tr>\n",
       "      <th>43</th>\n",
       "      <td>Texas</td>\n",
       "      <td>1071959</td>\n",
       "      <td>1116268</td>\n",
       "      <td>1156013</td>\n",
       "      <td>1211692</td>\n",
       "      <td>-0.5</td>\n",
       "      <td>4.1</td>\n",
       "      <td>4.8</td>\n",
       "      <td>SW</td>\n",
       "    </tr>\n",
       "    <tr>\n",
       "      <th>44</th>\n",
       "      <td>Utah</td>\n",
       "      <td>102863</td>\n",
       "      <td>105199</td>\n",
       "      <td>108106</td>\n",
       "      <td>111808</td>\n",
       "      <td>-1.0</td>\n",
       "      <td>2.3</td>\n",
       "      <td>3.4</td>\n",
       "      <td>RM</td>\n",
       "    </tr>\n",
       "    <tr>\n",
       "      <th>45</th>\n",
       "      <td>Virginia</td>\n",
       "      <td>363730</td>\n",
       "      <td>377466</td>\n",
       "      <td>381493</td>\n",
       "      <td>385772</td>\n",
       "      <td>-0.7</td>\n",
       "      <td>3.8</td>\n",
       "      <td>1.1</td>\n",
       "      <td>SE</td>\n",
       "    </tr>\n",
       "    <tr>\n",
       "      <th>46</th>\n",
       "      <td>Vermont</td>\n",
       "      <td>22108</td>\n",
       "      <td>23341</td>\n",
       "      <td>23639</td>\n",
       "      <td>23912</td>\n",
       "      <td>-2.9</td>\n",
       "      <td>5.6</td>\n",
       "      <td>1.2</td>\n",
       "      <td>NE</td>\n",
       "    </tr>\n",
       "    <tr>\n",
       "      <th>47</th>\n",
       "      <td>Washington</td>\n",
       "      <td>300785</td>\n",
       "      <td>307685</td>\n",
       "      <td>313783</td>\n",
       "      <td>325165</td>\n",
       "      <td>-2.4</td>\n",
       "      <td>2.3</td>\n",
       "      <td>3.6</td>\n",
       "      <td>FW</td>\n",
       "    </tr>\n",
       "    <tr>\n",
       "      <th>48</th>\n",
       "      <td>Wisconsin</td>\n",
       "      <td>212592</td>\n",
       "      <td>219080</td>\n",
       "      <td>221874</td>\n",
       "      <td>225094</td>\n",
       "      <td>-2.8</td>\n",
       "      <td>3.1</td>\n",
       "      <td>1.5</td>\n",
       "      <td>GL</td>\n",
       "    </tr>\n",
       "    <tr>\n",
       "      <th>49</th>\n",
       "      <td>West Virginia</td>\n",
       "      <td>51881</td>\n",
       "      <td>53575</td>\n",
       "      <td>54597</td>\n",
       "      <td>56384</td>\n",
       "      <td>0.6</td>\n",
       "      <td>3.3</td>\n",
       "      <td>3.3</td>\n",
       "      <td>SE</td>\n",
       "    </tr>\n",
       "    <tr>\n",
       "      <th>50</th>\n",
       "      <td>Wyoming</td>\n",
       "      <td>32439</td>\n",
       "      <td>32004</td>\n",
       "      <td>31231</td>\n",
       "      <td>31302</td>\n",
       "      <td>3.4</td>\n",
       "      <td>-1.3</td>\n",
       "      <td>0.2</td>\n",
       "      <td>RM</td>\n",
       "    </tr>\n",
       "  </tbody>\n",
       "</table>\n",
       "</div>"
      ],
      "text/plain": [
       "                   state  gdp_2009  gdp_2010  gdp_2011  gdp_2012  \\\n",
       "0                 Alaska     44215     43472     44232     44732   \n",
       "1                Alabama    149843    153839    155390    157272   \n",
       "2               Arkansas     89776     92075     92684     93892   \n",
       "3                Arizona    221405    221016    224787    230641   \n",
       "4             California   1667152   1672473   1692301   1751002   \n",
       "5               Colorado    225984    230976    234929    239884   \n",
       "6            Connecticut    195237    197613    197452    197202   \n",
       "7   District of Columbia     87172     89968     91442     92106   \n",
       "8               Delaware     55352     55496     56004     56110   \n",
       "9                Florida    648642    650291    656346    672287   \n",
       "10               Georgia    353817    358843    366342    374000   \n",
       "11                Hawaii     57902     59673     60899     61877   \n",
       "12                  Iowa    121742    124011    126792    129799   \n",
       "13                 Idaho     49949     50734     50759     50976   \n",
       "14              Illinois    561154    571228    583055    594201   \n",
       "15               Indiana    227383    241927    247222    255380   \n",
       "16                Kansas    110420    113324    116907    118523   \n",
       "17              Kentucky    135180    141977    144779    146829   \n",
       "18             Louisiana    189853    200944    195640    198548   \n",
       "19         Massachusetts    327739    340159    345961    353717   \n",
       "20              Maryland    255757    264321    268418    274930   \n",
       "21                 Maine     44770     45564     45763     45986   \n",
       "22              Michigan    314260    329812    341194    348867   \n",
       "23             Minnesota    233758    240418    244305    252971   \n",
       "24              Missouri    212591    216681    217401    221702   \n",
       "25           Mississippi     83702     85363     84402     86396   \n",
       "26               Montana     31271     31918     32683     33374   \n",
       "27        North Carolina    372219    380693    382655    392905   \n",
       "28          North Dakota     29497     31618     34092     38654   \n",
       "29              Nebraska     77625     80638     82172     83393   \n",
       "30         New Hampshire     53475     55242     56443     56735   \n",
       "31            New Jersey    424871    431409    432415    438173   \n",
       "32            New Mexico     70239     70785     70529     70699   \n",
       "33                Nevada    110001    109610    111574    113197   \n",
       "34              New York    974078   1013251   1024985   1038541   \n",
       "35                  Ohio    405483    413991    425913    435104   \n",
       "36              Oklahoma    132059    132917    135454    138296   \n",
       "37                Oregon    164711    174165    180326    187440   \n",
       "38          Pennsylvania    482665    493530    502769    511345   \n",
       "39          Rhode Island     42741     43153     43168     43774   \n",
       "40        South Carolina    139913    143407    146669    150596   \n",
       "41          South Dakota     34354     34371     35898     35985   \n",
       "42             Tennessee    221902    227360    232891    240523   \n",
       "43                 Texas   1071959   1116268   1156013   1211692   \n",
       "44                  Utah    102863    105199    108106    111808   \n",
       "45              Virginia    363730    377466    381493    385772   \n",
       "46               Vermont     22108     23341     23639     23912   \n",
       "47            Washington    300785    307685    313783    325165   \n",
       "48             Wisconsin    212592    219080    221874    225094   \n",
       "49         West Virginia     51881     53575     54597     56384   \n",
       "50               Wyoming     32439     32004     31231     31302   \n",
       "\n",
       "    gdp_growth_2009  gdp_growth_2010  gdp_growth_2012 region  \n",
       "0               7.7             -1.7              1.1     FW  \n",
       "1              -3.9              2.7              1.2     SE  \n",
       "2              -2.0              2.6              1.3     SE  \n",
       "3              -8.2             -0.2              2.6     SW  \n",
       "4              -5.1              0.3              3.5     FW  \n",
       "5              -2.2              2.2              2.1     RM  \n",
       "6              -3.6              1.2             -0.1     NE  \n",
       "7              -0.7              3.2              0.7     MW  \n",
       "8               3.1              0.3              0.2     MW  \n",
       "9              -5.9              0.3              2.4     SE  \n",
       "10             -5.4              1.4              2.1     SE  \n",
       "11             -3.7              3.1              1.6     FW  \n",
       "12             -1.6              1.9              2.4     PL  \n",
       "13             -2.8              1.6              0.4     RM  \n",
       "14             -3.4              1.8              1.9     GL  \n",
       "15             -6.0              6.4              3.3     GL  \n",
       "16             -3.2              2.6              1.4     PL  \n",
       "17             -3.9              5.0              1.4     SE  \n",
       "18              3.2              5.8              1.5     SE  \n",
       "19             -2.4              3.8              2.2     NE  \n",
       "20             -1.1              3.3              2.4     MW  \n",
       "21             -1.8              1.8              0.5     NE  \n",
       "22             -9.1              4.9              2.2     GL  \n",
       "23             -3.5              2.8              3.5     PL  \n",
       "24             -4.3              1.9              2.0     PL  \n",
       "25             -3.9              2.0              2.4     SE  \n",
       "26             -2.1              2.1              2.1     RM  \n",
       "27             -1.5              2.3              2.7     SE  \n",
       "28              3.0              7.2             13.4     PL  \n",
       "29             -0.1              3.9              1.5     PL  \n",
       "30             -1.8              3.3              0.5     NE  \n",
       "31             -4.3              1.5              1.3     MW  \n",
       "32              1.7              0.8              0.2     SW  \n",
       "33             -8.2             -0.4              1.5     FW  \n",
       "34             -1.4              4.0              1.3     MW  \n",
       "35             -5.7              2.1              2.2     GL  \n",
       "36             -1.7              0.6              2.1     SW  \n",
       "37             -3.2              5.7              3.9     FW  \n",
       "38             -3.1              2.3              1.7     MW  \n",
       "39             -1.6              1.0              1.4     NE  \n",
       "40             -4.3              2.5              2.7     SE  \n",
       "41              0.2              0.0              0.2     PL  \n",
       "42             -3.9              2.5              3.3     SE  \n",
       "43             -0.5              4.1              4.8     SW  \n",
       "44             -1.0              2.3              3.4     RM  \n",
       "45             -0.7              3.8              1.1     SE  \n",
       "46             -2.9              5.6              1.2     NE  \n",
       "47             -2.4              2.3              3.6     FW  \n",
       "48             -2.8              3.1              1.5     GL  \n",
       "49              0.6              3.3              3.3     SE  \n",
       "50              3.4             -1.3              0.2     RM  "
      ]
     },
     "execution_count": 53,
     "metadata": {},
     "output_type": "execute_result"
    }
   ],
   "source": [
    "state_gdp_copy = state_gdp.copy()\n",
    "state_gdp_copy=state_gdp_copy.drop(['state_code','gdp_growth_2011'], axis=1)\n",
    "state_gdp_copy"
   ]
  },
  {
   "cell_type": "markdown",
   "metadata": {},
   "source": [
    "1.2.2 Notable Properties and Methods"
   ]
  },
  {
   "cell_type": "markdown",
   "metadata": {},
   "source": [
    "- values and index\n",
    "- fillna\n",
    "- sort, sort_index"
   ]
  },
  {
   "cell_type": "code",
   "execution_count": 10,
   "metadata": {
    "tags": []
   },
   "outputs": [
    {
     "data": {
      "text/html": [
       "<div>\n",
       "<style scoped>\n",
       "    .dataframe tbody tr th:only-of-type {\n",
       "        vertical-align: middle;\n",
       "    }\n",
       "\n",
       "    .dataframe tbody tr th {\n",
       "        vertical-align: top;\n",
       "    }\n",
       "\n",
       "    .dataframe thead th {\n",
       "        text-align: right;\n",
       "    }\n",
       "</style>\n",
       "<table border=\"1\" class=\"dataframe\">\n",
       "  <thead>\n",
       "    <tr style=\"text-align: right;\">\n",
       "      <th></th>\n",
       "      <th>one</th>\n",
       "      <th>two</th>\n",
       "    </tr>\n",
       "  </thead>\n",
       "  <tbody>\n",
       "    <tr>\n",
       "      <th>0</th>\n",
       "      <td>1</td>\n",
       "      <td>3</td>\n",
       "    </tr>\n",
       "    <tr>\n",
       "      <th>1</th>\n",
       "      <td>1</td>\n",
       "      <td>2</td>\n",
       "    </tr>\n",
       "    <tr>\n",
       "      <th>2</th>\n",
       "      <td>3</td>\n",
       "      <td>2</td>\n",
       "    </tr>\n",
       "    <tr>\n",
       "      <th>3</th>\n",
       "      <td>2</td>\n",
       "      <td>1</td>\n",
       "    </tr>\n",
       "  </tbody>\n",
       "</table>\n",
       "</div>"
      ],
      "text/plain": [
       "   one  two\n",
       "0    1    3\n",
       "1    1    2\n",
       "2    3    2\n",
       "3    2    1"
      ]
     },
     "execution_count": 10,
     "metadata": {},
     "output_type": "execute_result"
    }
   ],
   "source": [
    "df = pd.DataFrame(np.array([[1, 3],[1, 2],[3, 2],[2,1]]), columns=['one','two'])\n",
    "df"
   ]
  },
  {
   "cell_type": "code",
   "execution_count": 11,
   "metadata": {
    "tags": []
   },
   "outputs": [
    {
     "data": {
      "text/html": [
       "<div>\n",
       "<style scoped>\n",
       "    .dataframe tbody tr th:only-of-type {\n",
       "        vertical-align: middle;\n",
       "    }\n",
       "\n",
       "    .dataframe tbody tr th {\n",
       "        vertical-align: top;\n",
       "    }\n",
       "\n",
       "    .dataframe thead th {\n",
       "        text-align: right;\n",
       "    }\n",
       "</style>\n",
       "<table border=\"1\" class=\"dataframe\">\n",
       "  <thead>\n",
       "    <tr style=\"text-align: right;\">\n",
       "      <th></th>\n",
       "      <th>one</th>\n",
       "      <th>two</th>\n",
       "    </tr>\n",
       "  </thead>\n",
       "  <tbody>\n",
       "    <tr>\n",
       "      <th>0</th>\n",
       "      <td>1</td>\n",
       "      <td>3</td>\n",
       "    </tr>\n",
       "    <tr>\n",
       "      <th>1</th>\n",
       "      <td>1</td>\n",
       "      <td>2</td>\n",
       "    </tr>\n",
       "    <tr>\n",
       "      <th>3</th>\n",
       "      <td>2</td>\n",
       "      <td>1</td>\n",
       "    </tr>\n",
       "    <tr>\n",
       "      <th>2</th>\n",
       "      <td>3</td>\n",
       "      <td>2</td>\n",
       "    </tr>\n",
       "  </tbody>\n",
       "</table>\n",
       "</div>"
      ],
      "text/plain": [
       "   one  two\n",
       "0    1    3\n",
       "1    1    2\n",
       "3    2    1\n",
       "2    3    2"
      ]
     },
     "execution_count": 11,
     "metadata": {},
     "output_type": "execute_result"
    }
   ],
   "source": [
    "df.sort_values(by='one')"
   ]
  },
  {
   "cell_type": "code",
   "execution_count": 12,
   "metadata": {
    "tags": []
   },
   "outputs": [
    {
     "data": {
      "text/html": [
       "<div>\n",
       "<style scoped>\n",
       "    .dataframe tbody tr th:only-of-type {\n",
       "        vertical-align: middle;\n",
       "    }\n",
       "\n",
       "    .dataframe tbody tr th {\n",
       "        vertical-align: top;\n",
       "    }\n",
       "\n",
       "    .dataframe thead th {\n",
       "        text-align: right;\n",
       "    }\n",
       "</style>\n",
       "<table border=\"1\" class=\"dataframe\">\n",
       "  <thead>\n",
       "    <tr style=\"text-align: right;\">\n",
       "      <th></th>\n",
       "      <th>one</th>\n",
       "      <th>two</th>\n",
       "    </tr>\n",
       "  </thead>\n",
       "  <tbody>\n",
       "    <tr>\n",
       "      <th>1</th>\n",
       "      <td>1</td>\n",
       "      <td>2</td>\n",
       "    </tr>\n",
       "    <tr>\n",
       "      <th>0</th>\n",
       "      <td>1</td>\n",
       "      <td>3</td>\n",
       "    </tr>\n",
       "    <tr>\n",
       "      <th>3</th>\n",
       "      <td>2</td>\n",
       "      <td>1</td>\n",
       "    </tr>\n",
       "    <tr>\n",
       "      <th>2</th>\n",
       "      <td>3</td>\n",
       "      <td>2</td>\n",
       "    </tr>\n",
       "  </tbody>\n",
       "</table>\n",
       "</div>"
      ],
      "text/plain": [
       "   one  two\n",
       "1    1    2\n",
       "0    1    3\n",
       "3    2    1\n",
       "2    3    2"
      ]
     },
     "execution_count": 12,
     "metadata": {},
     "output_type": "execute_result"
    }
   ],
   "source": [
    "df.sort_values(by=['one','two'])"
   ]
  },
  {
   "cell_type": "code",
   "execution_count": 13,
   "metadata": {
    "tags": []
   },
   "outputs": [
    {
     "data": {
      "text/html": [
       "<div>\n",
       "<style scoped>\n",
       "    .dataframe tbody tr th:only-of-type {\n",
       "        vertical-align: middle;\n",
       "    }\n",
       "\n",
       "    .dataframe tbody tr th {\n",
       "        vertical-align: top;\n",
       "    }\n",
       "\n",
       "    .dataframe thead th {\n",
       "        text-align: right;\n",
       "    }\n",
       "</style>\n",
       "<table border=\"1\" class=\"dataframe\">\n",
       "  <thead>\n",
       "    <tr style=\"text-align: right;\">\n",
       "      <th></th>\n",
       "      <th>one</th>\n",
       "      <th>two</th>\n",
       "    </tr>\n",
       "  </thead>\n",
       "  <tbody>\n",
       "    <tr>\n",
       "      <th>2</th>\n",
       "      <td>3</td>\n",
       "      <td>2</td>\n",
       "    </tr>\n",
       "    <tr>\n",
       "      <th>3</th>\n",
       "      <td>2</td>\n",
       "      <td>1</td>\n",
       "    </tr>\n",
       "    <tr>\n",
       "      <th>1</th>\n",
       "      <td>1</td>\n",
       "      <td>2</td>\n",
       "    </tr>\n",
       "    <tr>\n",
       "      <th>0</th>\n",
       "      <td>1</td>\n",
       "      <td>3</td>\n",
       "    </tr>\n",
       "  </tbody>\n",
       "</table>\n",
       "</div>"
      ],
      "text/plain": [
       "   one  two\n",
       "2    3    2\n",
       "3    2    1\n",
       "1    1    2\n",
       "0    1    3"
      ]
     },
     "execution_count": 13,
     "metadata": {},
     "output_type": "execute_result"
    }
   ],
   "source": [
    "df.sort_values(by=['one','two'], ascending=[0,1])"
   ]
  },
  {
   "cell_type": "markdown",
   "metadata": {},
   "source": [
    "- concat and append"
   ]
  },
  {
   "cell_type": "code",
   "execution_count": 14,
   "metadata": {
    "tags": []
   },
   "outputs": [
    {
     "data": {
      "text/html": [
       "<div>\n",
       "<style scoped>\n",
       "    .dataframe tbody tr th:only-of-type {\n",
       "        vertical-align: middle;\n",
       "    }\n",
       "\n",
       "    .dataframe tbody tr th {\n",
       "        vertical-align: top;\n",
       "    }\n",
       "\n",
       "    .dataframe thead th {\n",
       "        text-align: right;\n",
       "    }\n",
       "</style>\n",
       "<table border=\"1\" class=\"dataframe\">\n",
       "  <thead>\n",
       "    <tr style=\"text-align: right;\">\n",
       "      <th></th>\n",
       "      <th>one</th>\n",
       "      <th>two</th>\n",
       "    </tr>\n",
       "  </thead>\n",
       "  <tbody>\n",
       "    <tr>\n",
       "      <th>a</th>\n",
       "      <td>1.0</td>\n",
       "      <td>NaN</td>\n",
       "    </tr>\n",
       "    <tr>\n",
       "      <th>b</th>\n",
       "      <td>2.0</td>\n",
       "      <td>NaN</td>\n",
       "    </tr>\n",
       "    <tr>\n",
       "      <th>c</th>\n",
       "      <td>3.0</td>\n",
       "      <td>4.0</td>\n",
       "    </tr>\n",
       "    <tr>\n",
       "      <th>d</th>\n",
       "      <td>NaN</td>\n",
       "      <td>5.0</td>\n",
       "    </tr>\n",
       "    <tr>\n",
       "      <th>e</th>\n",
       "      <td>NaN</td>\n",
       "      <td>6.0</td>\n",
       "    </tr>\n",
       "  </tbody>\n",
       "</table>\n",
       "</div>"
      ],
      "text/plain": [
       "   one  two\n",
       "a  1.0  NaN\n",
       "b  2.0  NaN\n",
       "c  3.0  4.0\n",
       "d  NaN  5.0\n",
       "e  NaN  6.0"
      ]
     },
     "execution_count": 14,
     "metadata": {},
     "output_type": "execute_result"
    }
   ],
   "source": [
    "df1 = pd.DataFrame([1,2,3],index=['a','b','c'],columns=['one'])\n",
    "df2 = pd.DataFrame([4,5,6],index=['c','d','e'],columns=['two'])\n",
    "pd.concat((df1,df2), axis=1)"
   ]
  },
  {
   "cell_type": "code",
   "execution_count": 15,
   "metadata": {
    "tags": []
   },
   "outputs": [
    {
     "data": {
      "text/html": [
       "<div>\n",
       "<style scoped>\n",
       "    .dataframe tbody tr th:only-of-type {\n",
       "        vertical-align: middle;\n",
       "    }\n",
       "\n",
       "    .dataframe tbody tr th {\n",
       "        vertical-align: top;\n",
       "    }\n",
       "\n",
       "    .dataframe thead th {\n",
       "        text-align: right;\n",
       "    }\n",
       "</style>\n",
       "<table border=\"1\" class=\"dataframe\">\n",
       "  <thead>\n",
       "    <tr style=\"text-align: right;\">\n",
       "      <th></th>\n",
       "      <th>one</th>\n",
       "      <th>two</th>\n",
       "    </tr>\n",
       "  </thead>\n",
       "  <tbody>\n",
       "    <tr>\n",
       "      <th>c</th>\n",
       "      <td>3</td>\n",
       "      <td>4</td>\n",
       "    </tr>\n",
       "  </tbody>\n",
       "</table>\n",
       "</div>"
      ],
      "text/plain": [
       "   one  two\n",
       "c    3    4"
      ]
     },
     "execution_count": 15,
     "metadata": {},
     "output_type": "execute_result"
    }
   ],
   "source": [
    "pd.concat((df1,df2), axis=1, join='inner')"
   ]
  },
  {
   "cell_type": "markdown",
   "metadata": {},
   "source": [
    "- plot"
   ]
  },
  {
   "cell_type": "code",
   "execution_count": 16,
   "metadata": {
    "tags": []
   },
   "outputs": [
    {
     "data": {
      "text/plain": [
       "<matplotlib.axes._subplots.AxesSubplot at 0x17361b5b108>"
      ]
     },
     "execution_count": 16,
     "metadata": {},
     "output_type": "execute_result"
    },
    {
     "data": {
      "image/png": "[encoded data removed]",
      "text/plain": [
       "<Figure size 432x288 with 1 Axes>"
      ]
     },
     "metadata": {
      "needs_background": "light"
     },
     "output_type": "display_data"
    }
   ],
   "source": [
    "columns = ['gdp_growth_2011','gdp_growth_2012']\n",
    "\n",
    "state_gdp[columns].plot()"
   ]
  },
  {
   "cell_type": "code",
   "execution_count": 17,
   "metadata": {
    "tags": []
   },
   "outputs": [
    {
     "data": {
      "text/plain": [
       "<matplotlib.axes._subplots.AxesSubplot at 0x17361d21b88>"
      ]
     },
     "execution_count": 17,
     "metadata": {},
     "output_type": "execute_result"
    },
    {
     "data": {
      "image/png": "[encoded data removed]",
      "text/plain": [
       "<Figure size 432x288 with 1 Axes>"
      ]
     },
     "metadata": {
      "needs_background": "light"
     },
     "output_type": "display_data"
    }
   ],
   "source": [
    "state_gdp['gdp_2010'].plot()"
   ]
  },
  {
   "cell_type": "code",
   "execution_count": null,
   "metadata": {},
   "outputs": [],
   "source": []
  }
 ],
 "metadata": {
  "kernelspec": {
   "display_name": "Python 3",
   "language": "python",
   "name": "python3"
  },
  "language_info": {
   "codemirror_mode": {
    "name": "ipython",
    "version": 3
   },
   "file_extension": ".py",
   "mimetype": "text/x-python",
   "name": "python",
   "nbconvert_exporter": "python",
   "pygments_lexer": "ipython3",
   "version": "3.7.10"
  }
 },
 "nbformat": 4,
 "nbformat_minor": 4
}
