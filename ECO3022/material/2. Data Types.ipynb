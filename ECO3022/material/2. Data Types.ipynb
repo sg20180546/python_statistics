{
 "cells": [
  {
   "cell_type": "markdown",
   "metadata": {},
   "source": [
    "# Data Types\n",
    "\n",
    "- Before using Python for analyzing data, we need to understand some basics about Python data types.\n",
    "- Built in data types in Python\n",
    "    - Variable Names(composed of numbers, letters, and underscores(-))\n",
    "    - Numeric\n",
    "    - Boolean\n",
    "    - Strings\n",
    "    - Lists\n",
    "    - Tuples\n",
    "    - Dictionary\n",
    "    - Range"
   ]
  },
  {
   "cell_type": "markdown",
   "metadata": {},
   "source": [
    "## 1. Numeric\n",
    "    - Numbers in Python can be either integers, floats or complex.\n",
    "    \n",
    "#### 1.1 Float (floating point)\n",
    "\n",
    "- The most important data type for numerical analysis. \n",
    "- To input a floating data type, it is necessary to include a \".\"in the expression."
   ]
  },
  {
   "cell_type": "code",
   "execution_count": 1,
   "metadata": {
    "execution": {
     "iopub.execute_input": "2021-09-08T04:42:12.766538Z",
     "iopub.status.busy": "2021-09-08T04:42:12.766538Z",
     "iopub.status.idle": "2021-09-08T04:42:12.771525Z",
     "shell.execute_reply": "2021-09-08T04:42:12.771525Z",
     "shell.execute_reply.started": "2021-09-08T04:42:12.766538Z"
    }
   },
   "outputs": [
    {
     "name": "stdout",
     "output_type": "stream",
     "text": [
      "<class 'float'>\n"
     ]
    },
    {
     "data": {
      "text/plain": [
       "float"
      ]
     },
     "execution_count": 1,
     "metadata": {},
     "output_type": "execute_result"
    }
   ],
   "source": [
    "x = 1\n",
    "type(x)\n",
    "x = 1.\n",
    "print(type(x))\n",
    "x = float(1)\n",
    "type(x)"
   ]
  },
  {
   "cell_type": "markdown",
   "metadata": {},
   "source": [
    "#### 1.2 Int (integer)\n",
    "\n",
    "- Floats are used to represent portions, while ints are used to represent integers.\n",
    "- Integers can be entered by excluding \".\", or explicitly using the int() function.\n",
    "- The int() function can also be used to convert a float to an integer by round towards 0."
   ]
  },
  {
   "cell_type": "code",
   "execution_count": 2,
   "metadata": {
    "execution": {
     "iopub.status.idle": "2021-09-08T03:05:45.880805Z",
     "shell.execute_reply": "2021-09-08T03:05:45.880805Z",
     "shell.execute_reply.started": "2021-09-08T03:05:45.865824Z"
    }
   },
   "outputs": [
    {
     "data": {
      "text/plain": [
       "1"
      ]
     },
     "execution_count": 2,
     "metadata": {},
     "output_type": "execute_result"
    }
   ],
   "source": [
    "x = 1\n",
    "x"
   ]
  },
  {
   "cell_type": "code",
   "execution_count": 3,
   "metadata": {
    "execution": {
     "iopub.execute_input": "2021-09-08T03:05:45.881782Z",
     "iopub.status.busy": "2021-09-08T03:05:45.881782Z",
     "iopub.status.idle": "2021-09-08T03:05:45.894777Z",
     "shell.execute_reply": "2021-09-08T03:05:45.894777Z",
     "shell.execute_reply.started": "2021-09-08T03:05:45.881782Z"
    }
   },
   "outputs": [
    {
     "data": {
      "text/plain": [
       "1"
      ]
     },
     "execution_count": 3,
     "metadata": {},
     "output_type": "execute_result"
    }
   ],
   "source": [
    "print(type(x))\n",
    "x = int(1.4)\n",
    "x"
   ]
  },
  {
   "cell_type": "markdown",
   "metadata": {},
   "source": [
    "#### 1.3 Complex"
   ]
  },
  {
   "cell_type": "code",
   "execution_count": 4,
   "metadata": {
    "execution": {
     "iopub.execute_input": "2021-09-08T03:05:45.896770Z",
     "iopub.status.busy": "2021-09-08T03:05:45.896770Z",
     "iopub.status.idle": "2021-09-08T03:05:45.906743Z",
     "shell.execute_reply": "2021-09-08T03:05:45.906743Z",
     "shell.execute_reply.started": "2021-09-08T03:05:45.896770Z"
    }
   },
   "outputs": [
    {
     "name": "stdout",
     "output_type": "stream",
     "text": [
      "<class 'float'>\n",
      "<class 'complex'>\n"
     ]
    }
   ],
   "source": [
    "x = 1.\n",
    "print(type(x))\n",
    "x=2+1j\n",
    "print(type(x))"
   ]
  },
  {
   "cell_type": "code",
   "execution_count": 5,
   "metadata": {
    "execution": {
     "iopub.execute_input": "2021-09-08T03:05:45.907734Z",
     "iopub.status.busy": "2021-09-08T03:05:45.907734Z",
     "iopub.status.idle": "2021-09-08T03:05:45.916721Z",
     "shell.execute_reply": "2021-09-08T03:05:45.916721Z",
     "shell.execute_reply.started": "2021-09-08T03:05:45.907734Z"
    }
   },
   "outputs": [
    {
     "data": {
      "text/plain": [
       "(-1+0j)"
      ]
     },
     "execution_count": 5,
     "metadata": {},
     "output_type": "execute_result"
    }
   ],
   "source": [
    "(1j)**2"
   ]
  },
  {
   "cell_type": "markdown",
   "metadata": {},
   "source": [
    "## 2. Bool (Boolean value)\n",
    "- The Boolean type is used to represent true and false.\n",
    "- They are important for program flow control and are typically created as a result of logical operations."
   ]
  },
  {
   "cell_type": "code",
   "execution_count": 6,
   "metadata": {
    "execution": {
     "iopub.execute_input": "2021-09-08T03:05:45.917706Z",
     "iopub.status.busy": "2021-09-08T03:05:45.917706Z",
     "iopub.status.idle": "2021-09-08T03:05:45.929361Z",
     "shell.execute_reply": "2021-09-08T03:05:45.929361Z",
     "shell.execute_reply.started": "2021-09-08T03:05:45.917706Z"
    }
   },
   "outputs": [
    {
     "data": {
      "text/plain": [
       "bool"
      ]
     },
     "execution_count": 6,
     "metadata": {},
     "output_type": "execute_result"
    }
   ],
   "source": [
    "x = True\n",
    "type(x)"
   ]
  },
  {
   "cell_type": "code",
   "execution_count": 7,
   "metadata": {
    "execution": {
     "iopub.execute_input": "2021-09-08T04:46:37.511420Z",
     "iopub.status.busy": "2021-09-08T04:46:37.511420Z",
     "iopub.status.idle": "2021-09-08T04:46:37.516434Z",
     "shell.execute_reply": "2021-09-08T04:46:37.516434Z",
     "shell.execute_reply.started": "2021-09-08T04:46:37.511420Z"
    }
   },
   "outputs": [
    {
     "data": {
      "text/plain": [
       "False"
      ]
     },
     "execution_count": 7,
     "metadata": {},
     "output_type": "execute_result"
    }
   ],
   "source": [
    "2 > 3"
   ]
  },
  {
   "cell_type": "code",
   "execution_count": 8,
   "metadata": {
    "execution": {
     "iopub.execute_input": "2021-09-08T03:05:45.943951Z",
     "iopub.status.busy": "2021-09-08T03:05:45.943951Z",
     "iopub.status.idle": "2021-09-08T03:05:45.952952Z",
     "shell.execute_reply": "2021-09-08T03:05:45.952952Z",
     "shell.execute_reply.started": "2021-09-08T03:05:45.943951Z"
    }
   },
   "outputs": [
    {
     "data": {
      "text/plain": [
       "True"
      ]
     },
     "execution_count": 8,
     "metadata": {},
     "output_type": "execute_result"
    }
   ],
   "source": [
    "3 > 2"
   ]
  },
  {
   "cell_type": "code",
   "execution_count": 9,
   "metadata": {
    "execution": {
     "iopub.execute_input": "2021-09-08T03:05:45.953924Z",
     "iopub.status.busy": "2021-09-08T03:05:45.953924Z",
     "iopub.status.idle": "2021-09-08T03:05:45.964921Z",
     "shell.execute_reply": "2021-09-08T03:05:45.964921Z",
     "shell.execute_reply.started": "2021-09-08T03:05:45.953924Z"
    }
   },
   "outputs": [
    {
     "data": {
      "text/plain": [
       "bool"
      ]
     },
     "execution_count": 9,
     "metadata": {},
     "output_type": "execute_result"
    }
   ],
   "source": [
    "type(3>2)"
   ]
  },
  {
   "cell_type": "markdown",
   "metadata": {},
   "source": [
    "## 3. Str (strings)\n",
    "\n",
    "- Even though strings are not usually important in numerical analysis, they are frequently encountered when dealing with data files.\n",
    "- Strings are delimited using single quotes ('') or double quotes (\"\") but not using combination of the two delimiters (i.e., do not use '\") in a single string."
   ]
  },
  {
   "cell_type": "code",
   "execution_count": 10,
   "metadata": {
    "execution": {
     "iopub.execute_input": "2021-09-08T04:50:24.721358Z",
     "iopub.status.busy": "2021-09-08T04:50:24.721358Z",
     "iopub.status.idle": "2021-09-08T04:50:24.725348Z",
     "shell.execute_reply": "2021-09-08T04:50:24.725348Z",
     "shell.execute_reply.started": "2021-09-08T04:50:24.721358Z"
    }
   },
   "outputs": [
    {
     "name": "stdout",
     "output_type": "stream",
     "text": [
      "sogang university\n",
      "<class 'str'>\n"
     ]
    }
   ],
   "source": [
    "x = 'sogang university'\n",
    "print(x)\n",
    "print(type(x))"
   ]
  },
  {
   "cell_type": "markdown",
   "metadata": {},
   "source": [
    "#### 3.1 Slicing strings\n",
    "\n",
    "- Substrings within a string can be accessed using slicing. \n",
    "- Slicing uses [] to contatin the indices of the characters in a string, where the first index is 0, and the last is n-1.\n",
    "    \n",
    "<img src=\"./img/4.png\" width=\"600\" height=\"600\">"
   ]
  },
  {
   "cell_type": "code",
   "execution_count": 11,
   "metadata": {
    "execution": {
     "iopub.execute_input": "2021-09-08T03:37:46.697629Z",
     "iopub.status.busy": "2021-09-08T03:37:46.696605Z",
     "iopub.status.idle": "2021-09-08T03:37:46.701593Z",
     "shell.execute_reply": "2021-09-08T03:37:46.701593Z",
     "shell.execute_reply.started": "2021-09-08T03:37:46.697629Z"
    }
   },
   "outputs": [
    {
     "name": "stdout",
     "output_type": "stream",
     "text": [
      "P\n",
      "i\n",
      " \n",
      "Python str\n"
     ]
    }
   ],
   "source": [
    "text = 'Python strings are sliceable.'\n",
    "print(text[0])\n",
    "print(text[10])\n",
    "print(text[6])\n",
    "print(text[:10])"
   ]
  },
  {
   "cell_type": "code",
   "execution_count": 12,
   "metadata": {
    "execution": {
     "iopub.execute_input": "2021-09-08T03:38:23.618990Z",
     "iopub.status.busy": "2021-09-08T03:38:23.618990Z",
     "iopub.status.idle": "2021-09-08T03:38:23.622980Z",
     "shell.execute_reply": "2021-09-08T03:38:23.622980Z",
     "shell.execute_reply.started": "2021-09-08T03:38:23.618990Z"
    }
   },
   "outputs": [
    {
     "data": {
      "text/plain": [
       "'to t'"
      ]
     },
     "execution_count": 12,
     "metadata": {},
     "output_type": "execute_result"
    }
   ],
   "source": [
    "text[2:10:2]"
   ]
  },
  {
   "cell_type": "markdown",
   "metadata": {},
   "source": [
    "## 4. List(mutable)\n",
    "\n",
    "- Lists are a built-in container data type which hold other data.\n",
    "- A list is a collection of other objects - numerics, strings, or even other lists. "
   ]
  },
  {
   "cell_type": "code",
   "execution_count": 13,
   "metadata": {
    "execution": {
     "iopub.execute_input": "2021-09-08T05:01:57.506533Z",
     "iopub.status.busy": "2021-09-08T05:01:57.506533Z",
     "iopub.status.idle": "2021-09-08T05:01:57.510522Z",
     "shell.execute_reply": "2021-09-08T05:01:57.510522Z",
     "shell.execute_reply.started": "2021-09-08T05:01:57.506533Z"
    }
   },
   "outputs": [
    {
     "name": "stdout",
     "output_type": "stream",
     "text": [
      "<class 'list'>\n",
      "[1, 2, 3, 4]\n"
     ]
    }
   ],
   "source": [
    "x = []\n",
    "print(type(x))\n",
    "x=[1,2,3,4]\n",
    "print(x)\n",
    "x = [[1,2,3,4,],5,6,7,8]\n",
    "x = [[1,2,3,4,],[5,6,7,8]]"
   ]
  },
  {
   "cell_type": "markdown",
   "metadata": {},
   "source": [
    "#### 4.1  Slicing lists\n",
    "\n",
    "- Lists, like strings, can be sliced.\n",
    "- A list is a collection of other objects - numerics, strings, or even other lists. \n",
    "\n",
    "<img src=\"./img/5.png\" width=\"600\" height=\"600\">"
   ]
  },
  {
   "cell_type": "code",
   "execution_count": 14,
   "metadata": {
    "execution": {
     "iopub.execute_input": "2021-09-08T03:05:46.002821Z",
     "iopub.status.busy": "2021-09-08T03:05:46.002821Z",
     "iopub.status.idle": "2021-09-08T03:05:46.013790Z",
     "shell.execute_reply": "2021-09-08T03:05:46.013790Z",
     "shell.execute_reply.started": "2021-09-08T03:05:46.002821Z"
    }
   },
   "outputs": [
    {
     "name": "stdout",
     "output_type": "stream",
     "text": [
      "[4, 5, 6, 7, 8, 9]\n",
      "[0, 1, 2, 3]\n",
      "[0, 1, 2, 3, 4, 5, 6, 7, 8]\n",
      "[9, 8, 7, 6, 5, 4, 3, 2, 1, 0]\n"
     ]
    }
   ],
   "source": [
    "x = [0,1,2,3,4,5,6,7,8,9]\n",
    "print(x[4:])\n",
    "print(x[:4])\n",
    "print(x[-10:-1])\n",
    "print(x[::-1])"
   ]
  },
  {
   "cell_type": "markdown",
   "metadata": {},
   "source": [
    "#### 4.2 List Functions\n",
    "\n",
    "<img src=\"./img/6.png\" width=\"600\" height=\"600\">"
   ]
  },
  {
   "cell_type": "code",
   "execution_count": 15,
   "metadata": {
    "execution": {
     "iopub.execute_input": "2021-09-08T05:05:01.518447Z",
     "iopub.status.busy": "2021-09-08T05:05:01.518447Z",
     "iopub.status.idle": "2021-09-08T05:05:01.523434Z",
     "shell.execute_reply": "2021-09-08T05:05:01.523434Z",
     "shell.execute_reply.started": "2021-09-08T05:05:01.518447Z"
    }
   },
   "outputs": [
    {
     "data": {
      "text/plain": [
       "[0, 1, 2, 3, 4, 5, 6, 7, 8, 9, 0]"
      ]
     },
     "execution_count": 15,
     "metadata": {},
     "output_type": "execute_result"
    }
   ],
   "source": [
    "x = [0,1,2,3,4,5,6,7,8,9]\n",
    "x.append(0)\n",
    "x"
   ]
  },
  {
   "cell_type": "code",
   "execution_count": 16,
   "metadata": {
    "execution": {
     "iopub.execute_input": "2021-09-08T03:05:46.028773Z",
     "iopub.status.busy": "2021-09-08T03:05:46.028773Z",
     "iopub.status.idle": "2021-09-08T03:05:46.040720Z",
     "shell.execute_reply": "2021-09-08T03:05:46.040720Z",
     "shell.execute_reply.started": "2021-09-08T03:05:46.028773Z"
    }
   },
   "outputs": [
    {
     "data": {
      "text/plain": [
       "[0, 1, 2, 3, 4, 5, 6, 7, 8, 9, 0, 11, 12, 13]"
      ]
     },
     "execution_count": 16,
     "metadata": {},
     "output_type": "execute_result"
    }
   ],
   "source": [
    "x.extend([11,12,13])\n",
    "x"
   ]
  },
  {
   "cell_type": "code",
   "execution_count": 17,
   "metadata": {
    "execution": {
     "iopub.execute_input": "2021-09-08T05:05:04.517281Z",
     "iopub.status.busy": "2021-09-08T05:05:04.517281Z",
     "iopub.status.idle": "2021-09-08T05:05:04.521270Z",
     "shell.execute_reply": "2021-09-08T05:05:04.521270Z",
     "shell.execute_reply.started": "2021-09-08T05:05:04.517281Z"
    }
   },
   "outputs": [
    {
     "data": {
      "text/plain": [
       "1"
      ]
     },
     "execution_count": 17,
     "metadata": {},
     "output_type": "execute_result"
    }
   ],
   "source": [
    "x.pop(1)"
   ]
  },
  {
   "cell_type": "code",
   "execution_count": 18,
   "metadata": {
    "execution": {
     "iopub.execute_input": "2021-09-08T05:05:08.522089Z",
     "iopub.status.busy": "2021-09-08T05:05:08.522089Z",
     "iopub.status.idle": "2021-09-08T05:05:08.527075Z",
     "shell.execute_reply": "2021-09-08T05:05:08.527075Z",
     "shell.execute_reply.started": "2021-09-08T05:05:08.522089Z"
    }
   },
   "outputs": [
    {
     "data": {
      "text/plain": [
       "[0, 2, 3, 4, 5, 6, 7, 8, 9, 0, 11, 12, 13]"
      ]
     },
     "execution_count": 18,
     "metadata": {},
     "output_type": "execute_result"
    }
   ],
   "source": [
    "x"
   ]
  },
  {
   "cell_type": "code",
   "execution_count": 19,
   "metadata": {
    "execution": {
     "iopub.execute_input": "2021-09-08T03:05:46.069871Z",
     "iopub.status.busy": "2021-09-08T03:05:46.069871Z",
     "iopub.status.idle": "2021-09-08T03:05:46.082864Z",
     "shell.execute_reply": "2021-09-08T03:05:46.082864Z",
     "shell.execute_reply.started": "2021-09-08T03:05:46.069871Z"
    }
   },
   "outputs": [
    {
     "data": {
      "text/plain": [
       "[2, 3, 4, 5, 6, 7, 8, 9, 0, 11, 12, 13]"
      ]
     },
     "execution_count": 19,
     "metadata": {},
     "output_type": "execute_result"
    }
   ],
   "source": [
    "x.remove(0)\n",
    "x"
   ]
  },
  {
   "cell_type": "markdown",
   "metadata": {},
   "source": [
    "## 5. Tuples\n",
    "\n",
    "- A tuple is virtually identical to a list with one important difference - tuples are immutable.\n",
    "- In other words, it is impossible to add, remove, or replace elements in a tuple.\n",
    "- Tuples are constructed using parentheses (()) in place of the square brackets ([]) used to create lists"
   ]
  },
  {
   "cell_type": "code",
   "execution_count": 20,
   "metadata": {
    "execution": {
     "iopub.execute_input": "2021-09-08T05:08:46.505692Z",
     "iopub.status.busy": "2021-09-08T05:08:46.505692Z",
     "iopub.status.idle": "2021-09-08T05:08:46.508684Z",
     "shell.execute_reply": "2021-09-08T05:08:46.508684Z",
     "shell.execute_reply.started": "2021-09-08T05:08:46.505692Z"
    }
   },
   "outputs": [],
   "source": [
    "x = ('str', 1)"
   ]
  },
  {
   "cell_type": "code",
   "execution_count": 21,
   "metadata": {
    "execution": {
     "iopub.execute_input": "2021-09-08T03:05:46.083834Z",
     "iopub.status.busy": "2021-09-08T03:05:46.083834Z",
     "iopub.status.idle": "2021-09-08T03:05:46.101787Z",
     "shell.execute_reply": "2021-09-08T03:05:46.100791Z",
     "shell.execute_reply.started": "2021-09-08T03:05:46.083834Z"
    }
   },
   "outputs": [
    {
     "data": {
      "text/plain": [
       "tuple"
      ]
     },
     "execution_count": 21,
     "metadata": {},
     "output_type": "execute_result"
    }
   ],
   "source": [
    "x = []\n",
    "x = ()\n",
    "x =(0,1,2,3,4,5,6,7,8,9)\n",
    "type(x)"
   ]
  },
  {
   "cell_type": "code",
   "execution_count": 22,
   "metadata": {
    "execution": {
     "iopub.execute_input": "2021-09-08T03:05:46.101787Z",
     "iopub.status.busy": "2021-09-08T03:05:46.101787Z",
     "iopub.status.idle": "2021-09-08T03:05:46.112757Z",
     "shell.execute_reply": "2021-09-08T03:05:46.112757Z",
     "shell.execute_reply.started": "2021-09-08T03:05:46.101787Z"
    }
   },
   "outputs": [
    {
     "data": {
      "text/plain": [
       "0"
      ]
     },
     "execution_count": 22,
     "metadata": {},
     "output_type": "execute_result"
    }
   ],
   "source": [
    "x[0]"
   ]
  },
  {
   "cell_type": "code",
   "execution_count": 23,
   "metadata": {
    "execution": {
     "iopub.execute_input": "2021-09-08T03:05:46.113754Z",
     "iopub.status.busy": "2021-09-08T03:05:46.113754Z",
     "iopub.status.idle": "2021-09-08T03:05:46.125723Z",
     "shell.execute_reply": "2021-09-08T03:05:46.125723Z",
     "shell.execute_reply.started": "2021-09-08T03:05:46.113754Z"
    }
   },
   "outputs": [
    {
     "data": {
      "text/plain": [
       "(0, 1, 2, 3, 4)"
      ]
     },
     "execution_count": 23,
     "metadata": {},
     "output_type": "execute_result"
    }
   ],
   "source": [
    "x[-10:-5]"
   ]
  },
  {
   "cell_type": "code",
   "execution_count": 24,
   "metadata": {
    "execution": {
     "iopub.execute_input": "2021-09-08T03:05:46.127717Z",
     "iopub.status.busy": "2021-09-08T03:05:46.126722Z",
     "iopub.status.idle": "2021-09-08T03:05:46.137691Z",
     "shell.execute_reply": "2021-09-08T03:05:46.137691Z",
     "shell.execute_reply.started": "2021-09-08T03:05:46.127717Z"
    }
   },
   "outputs": [
    {
     "data": {
      "text/plain": [
       "([1, -10], [3, 4])"
      ]
     },
     "execution_count": 24,
     "metadata": {},
     "output_type": "execute_result"
    }
   ],
   "source": [
    "x= ([1,2],[3,4])\n",
    "x[0][1] = -10\n",
    "x"
   ]
  },
  {
   "cell_type": "markdown",
   "metadata": {},
   "source": [
    "## 6. Dicts (Dictionary)\n",
    "\n",
    "\n",
    "- A dictionary is a data type where each value is mapped to a key.\n",
    "- Dictionaries in python are composed of keys and values.\n",
    "- Values are accessed using keys.\n",
    "- Values associated with an existing key can be updated by making an assignment to the key in the dictionary.\n",
    "- New key-value pairs can be added by defining a new key and assigning a value to it.\n",
    "- Key-value pairs can be deleted using the reserved keyword del."
   ]
  },
  {
   "cell_type": "code",
   "execution_count": 25,
   "metadata": {
    "execution": {
     "iopub.execute_input": "2021-09-08T05:11:58.998092Z",
     "iopub.status.busy": "2021-09-08T05:11:58.998092Z",
     "iopub.status.idle": "2021-09-08T05:12:01.013588Z",
     "shell.execute_reply": "2021-09-08T05:12:01.013588Z",
     "shell.execute_reply.started": "2021-09-08T05:11:58.998092Z"
    }
   },
   "outputs": [],
   "source": [
    "import statsmodels.api as sm\n",
    "\n",
    "y = [1,2,3,4,5]\n",
    "ols = sm.OLS(y,y)"
   ]
  },
  {
   "cell_type": "code",
   "execution_count": 26,
   "metadata": {
    "execution": {
     "iopub.execute_input": "2021-09-08T05:14:52.520243Z",
     "iopub.status.busy": "2021-09-08T05:14:52.519245Z",
     "iopub.status.idle": "2021-09-08T05:14:52.523235Z",
     "shell.execute_reply": "2021-09-08T05:14:52.523235Z",
     "shell.execute_reply.started": "2021-09-08T05:14:52.520243Z"
    }
   },
   "outputs": [
    {
     "data": {
      "text/plain": [
       "{'Kim': 34, 'Park': 78, 'Xiao': 56}"
      ]
     },
     "execution_count": 26,
     "metadata": {},
     "output_type": "execute_result"
    }
   ],
   "source": [
    "data = {'Kim': 34, 'Park' : 78, 'Xiao': 56}\n",
    "data"
   ]
  },
  {
   "cell_type": "code",
   "execution_count": 27,
   "metadata": {
    "execution": {
     "iopub.execute_input": "2021-09-08T05:14:52.524232Z",
     "iopub.status.busy": "2021-09-08T05:14:52.524232Z",
     "iopub.status.idle": "2021-09-08T05:14:52.535238Z",
     "shell.execute_reply": "2021-09-08T05:14:52.535238Z",
     "shell.execute_reply.started": "2021-09-08T05:14:52.524232Z"
    }
   },
   "outputs": [
    {
     "data": {
      "text/plain": [
       "34"
      ]
     },
     "execution_count": 27,
     "metadata": {},
     "output_type": "execute_result"
    }
   ],
   "source": [
    "data['Kim']"
   ]
  },
  {
   "cell_type": "code",
   "execution_count": 28,
   "metadata": {
    "execution": {
     "iopub.execute_input": "2021-09-08T05:14:53.525834Z",
     "iopub.status.busy": "2021-09-08T05:14:53.525834Z",
     "iopub.status.idle": "2021-09-08T05:14:53.530820Z",
     "shell.execute_reply": "2021-09-08T05:14:53.530820Z",
     "shell.execute_reply.started": "2021-09-08T05:14:53.525834Z"
    }
   },
   "outputs": [
    {
     "data": {
      "text/plain": [
       "{'Kim': 56, 'Park': 78, 'Xiao': 56}"
      ]
     },
     "execution_count": 28,
     "metadata": {},
     "output_type": "execute_result"
    }
   ],
   "source": [
    "data['Kim'] = 56\n",
    "data"
   ]
  },
  {
   "cell_type": "code",
   "execution_count": 29,
   "metadata": {
    "execution": {
     "iopub.execute_input": "2021-09-08T05:14:53.531825Z",
     "iopub.status.busy": "2021-09-08T05:14:53.531825Z",
     "iopub.status.idle": "2021-09-08T05:14:53.542788Z",
     "shell.execute_reply": "2021-09-08T05:14:53.542788Z",
     "shell.execute_reply.started": "2021-09-08T05:14:53.531825Z"
    }
   },
   "outputs": [
    {
     "data": {
      "text/plain": [
       "{'Kim': 56, 'Park': 78, 'Xiao': 56, 'Lee': 47}"
      ]
     },
     "execution_count": 29,
     "metadata": {},
     "output_type": "execute_result"
    }
   ],
   "source": [
    "data['Lee'] = 47\n",
    "data"
   ]
  },
  {
   "cell_type": "code",
   "execution_count": 30,
   "metadata": {
    "execution": {
     "iopub.execute_input": "2021-09-08T05:15:13.510025Z",
     "iopub.status.busy": "2021-09-08T05:15:13.510025Z",
     "iopub.status.idle": "2021-09-08T05:15:13.517007Z",
     "shell.execute_reply": "2021-09-08T05:15:13.517007Z",
     "shell.execute_reply.started": "2021-09-08T05:15:13.510025Z"
    }
   },
   "outputs": [
    {
     "data": {
      "text/plain": [
       "{'Kim': 56, 'Park': 78, 'Xiao': 56}"
      ]
     },
     "execution_count": 30,
     "metadata": {},
     "output_type": "execute_result"
    }
   ],
   "source": [
    "del data['Lee']\n",
    "data"
   ]
  },
  {
   "cell_type": "markdown",
   "metadata": {},
   "source": [
    "## Exercises\n",
    "\n",
    "1. Enter the following into Python, assiging each to a unique variable name:\n",
    "    - 4\n",
    "    - 3.1415\n",
    "    - 1.0\n",
    "    - 2+4j\n",
    "    - 'Hello'\n",
    "    - 'World'\n",
    "    \n",
    "2. What is the type of each variable?\n",
    "\n",
    "3. Input the variable \n",
    "ex = 'Python is an interesting and useful language for numerical computing!' \\\n",
    "Extract the strings below \n",
    "    - Python\n",
    "    - !\n",
    "    - computing\n",
    "    - !gnitupmoc laciremun rof egaugnal lufesu dna gnitseretni na si nohtyP' (Reversed)\n",
    "    \n",
    "4. Construct a nested list to hold the arry\n",
    "$$\\begin{Bmatrix} 1 & 0.5 \\\\ 0.5 & 1 \\end{Bmatrix}$$\n",
    "so that item[i][j] corresponds to the position in the arrray\n",
    "\n",
    "5. Assign the array you just created first to x, and then assign y=x. Change y[0][0] to 1.61. What happens to x?"
   ]
  }
 ],
 "metadata": {
  "kernelspec": {
   "display_name": "Python 3 (ipykernel)",
   "language": "python",
   "name": "python3"
  },
  "language_info": {
   "codemirror_mode": {
    "name": "ipython",
    "version": 3
   },
   "file_extension": ".py",
   "mimetype": "text/x-python",
   "name": "python",
   "nbconvert_exporter": "python",
   "pygments_lexer": "ipython3",
   "version": "3.8.10"
  }
 },
 "nbformat": 4,
 "nbformat_minor": 4
}
