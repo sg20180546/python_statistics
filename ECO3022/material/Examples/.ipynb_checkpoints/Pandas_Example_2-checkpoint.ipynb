{
 "cells": [
  {
   "cell_type": "markdown",
   "metadata": {},
   "source": [
    "# Example 2.\n",
    "\n",
    "- 문제: 총 30명의 투자자, 그리고 그들의 주식 거래에 대한 기록이 담긴 데이터가 있습니다. 30명의 투자자들을 총투자손익액을 내림차순으로 정렬해, 막대 그래프로 그리세요.\n",
    "\n",
    "- 데이터(ex3_data.csv) 설명\n",
    "    - 각 증권거래 계좌의 주식종목별 보유기간을 정리한 데이터\n",
    "    - columns\n",
    "        - (1) id: 계좌식별 id\n",
    "        - (2) code: 보유주식 코드 ('A' + 코드 6자리)\n",
    "        - (3) buy_date: 매수일\n",
    "        - (4) hold_days: 주식 보유기간\n",
    "        \n",
    "- 유의사항\n",
    "    - (1) 투자자별 총투자손익액은 다음과 같이 구해진다.\n",
    "        - 1. 보유종목별 투자손익액을 구한다: 매도일 종가(close price) - 매수일 종가\n",
    "        - 2. 보유종목별 투자손익액을 합산한다.\n",
    "        - 모든 주식은 1주만 거래했다고 가정한다.\n",
    "    - (2) 보유기간은 **거래일 기준**입니다.\n",
    "        - 매도일이 2020년 12월 31일을 초과하는 경우에는 2020년 12월 31일에 매도한 것으로 처리합니다.\n",
    "    - (3) 검색이 되지 않는 주식종목이 존재하는 경우 합산에서 제외합니다. "
   ]
  },
  {
   "cell_type": "code",
   "execution_count": null,
   "metadata": {},
   "outputs": [],
   "source": []
  }
 ],
 "metadata": {
  "kernelspec": {
   "display_name": "Python 3",
   "language": "python",
   "name": "python3"
  },
  "language_info": {
   "codemirror_mode": {
    "name": "ipython",
    "version": 3
   },
   "file_extension": ".py",
   "mimetype": "text/x-python",
   "name": "python",
   "nbconvert_exporter": "python",
   "pygments_lexer": "ipython3",
   "version": "3.7.10"
  }
 },
 "nbformat": 4,
 "nbformat_minor": 4
}
