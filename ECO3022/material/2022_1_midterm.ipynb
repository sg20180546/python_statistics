{
 "cells": [
  {
   "cell_type": "markdown",
   "id": "d8fb5c50-1106-497f-8e42-7a25f56ec770",
   "metadata": {},
   "source": [
    "# 2022년 1학기 금융시장의 빅데이터 분석 중간고사(담당교수: 박석진)"
   ]
  },
  {
   "cell_type": "markdown",
   "id": "5943d73a-5440-4458-9eed-458ccde9f12c",
   "metadata": {},
   "source": [
    "첨부된 midterm_data.csv를 이용해 문제를 푸세요."
   ]
  },
  {
   "cell_type": "markdown",
   "id": "90848848-c842-4a38-b083-a246a72ae281",
   "metadata": {
    "tags": []
   },
   "source": [
    "### 상황 설명\n",
    "\n",
    "- 경기 순환(Business Cycle)이란, 거시적인 경제 활동 수준이 주기적으로 상승과 하강을 일컫는 말입니다.\n",
    "- 여러분들은 펀드매니저로써, 이러한 경제 활동의 주기적인 변동을 포트폴리오 구성에 반영할 것인지 결정해야합니다.\n",
    "- 경기 순환을 고려한 포트폴리오 구성이 유용한지 판단하기 위해, 여러분들은 간단한 실증분석을 진행합니다.\n",
    "- 문제 풀이에 있어, 1년은 252일로 계산하며 무위험자산의 연간 수익률(annual risk free rate)은 1.5%로 계산합니다."
   ]
  },
  {
   "cell_type": "markdown",
   "id": "ee331a8c-a045-4b05-b842-3a94157614fe",
   "metadata": {},
   "source": [
    "#### 데이터 설명\n",
    "- midterm_data.csv는 2000.1부터 2020.12까지 여러 금융자산들의 일별 가격변화율(daily return)을 기록한 데이터며, 자산의 목록은 다음과 같습니다.\n",
    "    - Spain 10Y: 스페인 국채 10년물\n",
    "    - KOSPI: KOSPI 주가지수\n",
    "    - SPY: S&P500 주가지수\n",
    "    - crudeOilFutures: 원유 선물\n",
    "    - naturalGasFutures: 천연가스 선물\n",
    "    - goldFutures: 금 선물\n",
    "    - copperFutures: 구리 선물\n",
    "\n",
    "- business_cycle_label은 일자별로 경기가 확장기인지(1), 또는 후퇴기(0)인지를 기록한 데이터며 아래의 그림은 이를 시각화해서 보여줍니다.\n",
    "<img src=\"./img/1.jpg\" width=\"600\" height=\"600\">"
   ]
  },
  {
   "cell_type": "markdown",
   "id": "12394eed-5304-466e-a7f7-dd8ea1bbc703",
   "metadata": {},
   "source": [
    "(1) business_cycle_label.csv를 이용해 midterm_data.csv로 다음의 세 가지 pandas dataframe들을 생성하시오 (5점)\n",
    "\n",
    "- df_up: 경기 확장기에만 해당하는 데이터\n",
    "- df_down: 경기 후퇴기에만 해당하는 데이터\n",
    "- df: 전체 데이터"
   ]
  },
  {
   "cell_type": "markdown",
   "id": "57d1e46f-5ae2-4727-ab7f-9a7623907558",
   "metadata": {},
   "source": [
    "(2) (1)에서 생성한 각 dataframe에 대해, 무위험자산을 배제하고 자산의 가중치들을 무작위로 부여한 random portfolio를 5,000개 생성해 이를 ($\\mu, \\sigma$) 공간에 표시하시오. (10점)"
   ]
  },
  {
   "cell_type": "markdown",
   "id": "efdad28a-5b5b-4bb5-b748-3fc5ce45fef6",
   "metadata": {},
   "source": [
    "(3) 모든 dataframe에 대해 무위험자산을 포함한 efficient frontier를 도출한 다음 이를 하나의 ($\\mu, \\sigma$) 공간에 표시하고, 서로의 annualized Sharpe Ratio를 비교하시오. (10점)"
   ]
  },
  {
   "cell_type": "markdown",
   "id": "cc091bea-ece3-405f-b575-bf78cdfebb63",
   "metadata": {},
   "source": [
    "(4) (3)번의 결과를 고려할 때, 경기 순환을 고려한 포트폴리오 운용이 실효성이 있는가? 그 근거는 무엇인가?  (10점)"
   ]
  },
  {
   "cell_type": "markdown",
   "id": "445d5424-090a-4663-a417-5a2dc9b43f9d",
   "metadata": {},
   "source": [
    "(5) 경기 순환의 국면별 tangency portfolio를 고려할 때, 경기가 확장/후퇴 할때 어떤 자산을 보유하고 있는게 좋은가? (5점)"
   ]
  }
 ],
 "metadata": {
  "kernelspec": {
   "display_name": "Python 3 (ipykernel)",
   "language": "python",
   "name": "python3"
  },
  "language_info": {
   "codemirror_mode": {
    "name": "ipython",
    "version": 3
   },
   "file_extension": ".py",
   "mimetype": "text/x-python",
   "name": "python",
   "nbconvert_exporter": "python",
   "pygments_lexer": "ipython3",
   "version": "3.8.10"
  }
 },
 "nbformat": 4,
 "nbformat_minor": 5
}
