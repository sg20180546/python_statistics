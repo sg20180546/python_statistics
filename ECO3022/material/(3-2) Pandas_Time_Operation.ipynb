{
 "cells": [
  {
   "cell_type": "markdown",
   "metadata": {},
   "source": [
    "- Most financial data are time series.\n",
    "\n",
    "- In other words, they are related to time."
   ]
  },
  {
   "cell_type": "code",
   "execution_count": 2,
   "metadata": {
    "tags": []
   },
   "outputs": [
    {
     "data": {
      "text/html": [
       "<div>\n",
       "<style scoped>\n",
       "    .dataframe tbody tr th:only-of-type {\n",
       "        vertical-align: middle;\n",
       "    }\n",
       "\n",
       "    .dataframe tbody tr th {\n",
       "        vertical-align: top;\n",
       "    }\n",
       "\n",
       "    .dataframe thead th {\n",
       "        text-align: right;\n",
       "    }\n",
       "</style>\n",
       "<table border=\"1\" class=\"dataframe\">\n",
       "  <thead>\n",
       "    <tr style=\"text-align: right;\">\n",
       "      <th></th>\n",
       "      <th>Unnamed: 0</th>\n",
       "      <th>price</th>\n",
       "      <th>volume</th>\n",
       "      <th>buy</th>\n",
       "      <th>sell</th>\n",
       "    </tr>\n",
       "  </thead>\n",
       "  <tbody>\n",
       "    <tr>\n",
       "      <th>0</th>\n",
       "      <td>2018-11-21 09:00:04.278571</td>\n",
       "      <td>266.200012</td>\n",
       "      <td>1.0</td>\n",
       "      <td>0.0</td>\n",
       "      <td>1.0</td>\n",
       "    </tr>\n",
       "    <tr>\n",
       "      <th>1</th>\n",
       "      <td>2018-11-21 09:00:08.557143</td>\n",
       "      <td>266.200012</td>\n",
       "      <td>1.0</td>\n",
       "      <td>0.0</td>\n",
       "      <td>1.0</td>\n",
       "    </tr>\n",
       "    <tr>\n",
       "      <th>2</th>\n",
       "      <td>2018-11-21 09:00:12.835714</td>\n",
       "      <td>266.250000</td>\n",
       "      <td>21.0</td>\n",
       "      <td>21.0</td>\n",
       "      <td>0.0</td>\n",
       "    </tr>\n",
       "    <tr>\n",
       "      <th>3</th>\n",
       "      <td>2018-11-21 09:00:17.114286</td>\n",
       "      <td>266.299988</td>\n",
       "      <td>1.0</td>\n",
       "      <td>1.0</td>\n",
       "      <td>0.0</td>\n",
       "    </tr>\n",
       "    <tr>\n",
       "      <th>4</th>\n",
       "      <td>2018-11-21 09:00:21.392857</td>\n",
       "      <td>266.350006</td>\n",
       "      <td>2.0</td>\n",
       "      <td>2.0</td>\n",
       "      <td>0.0</td>\n",
       "    </tr>\n",
       "  </tbody>\n",
       "</table>\n",
       "</div>"
      ],
      "text/plain": [
       "                   Unnamed: 0       price  volume   buy  sell\n",
       "0  2018-11-21 09:00:04.278571  266.200012     1.0   0.0   1.0\n",
       "1  2018-11-21 09:00:08.557143  266.200012     1.0   0.0   1.0\n",
       "2  2018-11-21 09:00:12.835714  266.250000    21.0  21.0   0.0\n",
       "3  2018-11-21 09:00:17.114286  266.299988     1.0   1.0   0.0\n",
       "4  2018-11-21 09:00:21.392857  266.350006     2.0   2.0   0.0"
      ]
     },
     "execution_count": 2,
     "metadata": {},
     "output_type": "execute_result"
    }
   ],
   "source": [
    "import pandas as pd\n",
    "\n",
    "df = pd.read_csv('data/test.csv')\n",
    "df.head()"
   ]
  },
  {
   "cell_type": "markdown",
   "metadata": {},
   "source": [
    "#### [Datetime](https://docs.python.org/3/library/datetime.html)\n",
    "\n",
    "- datetime object : The time of a specific moment.\n",
    "\n",
    "- Timedelta object : The interval between two datetime obects."
   ]
  },
  {
   "cell_type": "code",
   "execution_count": 1,
   "metadata": {
    "tags": []
   },
   "outputs": [
    {
     "name": "stdout",
     "output_type": "stream",
     "text": [
      "2022-03-24 17:04:23.778546\n",
      "<class 'datetime.datetime'>\n",
      "2021-07-20 00:00:00\n",
      "2021-07-20 20:31:10.000333\n"
     ]
    }
   ],
   "source": [
    "from datetime import datetime as dt\n",
    "from datetime import timedelta as td\n",
    "\n",
    "#datetime\n",
    "print(dt.now())\n",
    "print(type(dt.now()))\n",
    "print(dt(2021, 7, 20))\n",
    "print(dt(2021, 7, 20, 20, 31, 10, 333))"
   ]
  },
  {
   "cell_type": "code",
   "execution_count": 3,
   "metadata": {
    "execution": {
     "iopub.execute_input": "2021-09-13T11:35:34.421955Z",
     "iopub.status.busy": "2021-09-13T11:35:34.421955Z",
     "iopub.status.idle": "2021-09-13T11:35:34.435918Z",
     "shell.execute_reply": "2021-09-13T11:35:34.435918Z",
     "shell.execute_reply.started": "2021-09-13T11:35:34.421955Z"
    }
   },
   "outputs": [
    {
     "name": "stdout",
     "output_type": "stream",
     "text": [
      "200 days, 0:00:00\n",
      "<class 'datetime.timedelta'>\n"
     ]
    }
   ],
   "source": [
    "#timedelta\n",
    "delta = dt(2021, 7, 20) - dt(2021, 1, 1)\n",
    "print(delta)\n",
    "print(type(delta))"
   ]
  },
  {
   "cell_type": "code",
   "execution_count": 4,
   "metadata": {
    "execution": {
     "iopub.execute_input": "2021-09-13T11:35:34.436915Z",
     "iopub.status.busy": "2021-09-13T11:35:34.436915Z",
     "iopub.status.idle": "2021-09-13T11:35:34.450877Z",
     "shell.execute_reply": "2021-09-13T11:35:34.450877Z",
     "shell.execute_reply.started": "2021-09-13T11:35:34.436915Z"
    }
   },
   "outputs": [
    {
     "data": {
      "text/plain": [
       "datetime.datetime(2021, 7, 20, 0, 0)"
      ]
     },
     "execution_count": 4,
     "metadata": {},
     "output_type": "execute_result"
    }
   ],
   "source": [
    "dt(2021, 1,1) + td(200)"
   ]
  },
  {
   "cell_type": "markdown",
   "metadata": {},
   "source": [
    "### Strings $\\rightarrow$ Datetime object (Strings $\\leftarrow$ Datetime object)\n",
    "    - strftime, strptime, parse, pd.to_datetime\n"
   ]
  },
  {
   "cell_type": "code",
   "execution_count": 5,
   "metadata": {
    "tags": []
   },
   "outputs": [
    {
     "data": {
      "text/plain": [
       "datetime.datetime(2021, 1, 1, 0, 0)"
      ]
     },
     "execution_count": 5,
     "metadata": {},
     "output_type": "execute_result"
    }
   ],
   "source": [
    "date = dt(2021, 1, 1)\n",
    "date"
   ]
  },
  {
   "cell_type": "code",
   "execution_count": 5,
   "metadata": {
    "execution": {
     "iopub.execute_input": "2021-09-17T05:25:45.519745Z",
     "iopub.status.busy": "2021-09-17T05:25:45.519745Z",
     "iopub.status.idle": "2021-09-17T05:25:45.528721Z",
     "shell.execute_reply": "2021-09-17T05:25:45.527724Z",
     "shell.execute_reply.started": "2021-09-17T05:25:45.519745Z"
    }
   },
   "outputs": [
    {
     "ename": "TypeError",
     "evalue": "strftime() missing required argument 'format' (pos 1)",
     "output_type": "error",
     "traceback": [
      "\u001b[1;31m---------------------------------------------------------------------------\u001b[0m",
      "\u001b[1;31mTypeError\u001b[0m                                 Traceback (most recent call last)",
      "\u001b[1;32m<ipython-input-5-46bc44ab9188>\u001b[0m in \u001b[0;36m<module>\u001b[1;34m\u001b[0m\n\u001b[1;32m----> 1\u001b[1;33m \u001b[0mdate\u001b[0m\u001b[1;33m.\u001b[0m\u001b[0mstrftime\u001b[0m\u001b[1;33m(\u001b[0m\u001b[1;33m)\u001b[0m\u001b[1;33m\u001b[0m\u001b[1;33m\u001b[0m\u001b[0m\n\u001b[0m",
      "\u001b[1;31mTypeError\u001b[0m: strftime() missing required argument 'format' (pos 1)"
     ]
    }
   ],
   "source": [
    "date.strftime()"
   ]
  },
  {
   "cell_type": "code",
   "execution_count": 8,
   "metadata": {
    "tags": []
   },
   "outputs": [
    {
     "data": {
      "text/plain": [
       "'2021.01.01'"
      ]
     },
     "execution_count": 8,
     "metadata": {},
     "output_type": "execute_result"
    }
   ],
   "source": [
    "text = date.strftime('%Y.%m.%d')\n",
    "text"
   ]
  },
  {
   "cell_type": "code",
   "execution_count": 9,
   "metadata": {
    "tags": []
   },
   "outputs": [
    {
     "ename": "TypeError",
     "evalue": "strptime() takes exactly 2 arguments (1 given)",
     "output_type": "error",
     "traceback": [
      "\u001b[1;31m---------------------------------------------------------------------------\u001b[0m",
      "\u001b[1;31mTypeError\u001b[0m                                 Traceback (most recent call last)",
      "\u001b[1;32m<ipython-input-9-8b912572d9a1>\u001b[0m in \u001b[0;36m<module>\u001b[1;34m\u001b[0m\n\u001b[1;32m----> 1\u001b[1;33m \u001b[0mdt\u001b[0m\u001b[1;33m.\u001b[0m\u001b[0mstrptime\u001b[0m\u001b[1;33m(\u001b[0m\u001b[0mtext\u001b[0m\u001b[1;33m)\u001b[0m\u001b[1;33m\u001b[0m\u001b[1;33m\u001b[0m\u001b[0m\n\u001b[0m",
      "\u001b[1;31mTypeError\u001b[0m: strptime() takes exactly 2 arguments (1 given)"
     ]
    }
   ],
   "source": [
    "dt.strptime(text)"
   ]
  },
  {
   "cell_type": "code",
   "execution_count": 10,
   "metadata": {
    "tags": []
   },
   "outputs": [
    {
     "data": {
      "text/plain": [
       "datetime.datetime(2021, 1, 1, 0, 0)"
      ]
     },
     "execution_count": 10,
     "metadata": {},
     "output_type": "execute_result"
    }
   ],
   "source": [
    "dt.strptime(text, '%Y.%m.%d')"
   ]
  },
  {
   "cell_type": "code",
   "execution_count": 13,
   "metadata": {
    "execution": {
     "iopub.execute_input": "2021-09-17T05:28:20.529942Z",
     "iopub.status.busy": "2021-09-17T05:28:20.529942Z",
     "iopub.status.idle": "2021-09-17T05:28:20.535926Z",
     "shell.execute_reply": "2021-09-17T05:28:20.535926Z",
     "shell.execute_reply.started": "2021-09-17T05:28:20.529942Z"
    }
   },
   "outputs": [
    {
     "name": "stdout",
     "output_type": "stream",
     "text": [
      "2018-09-01 00:00:00\n",
      "2015-01-21 23:00:00\n"
     ]
    },
    {
     "name": "stderr",
     "output_type": "stream",
     "text": [
      "C:\\Users\\Park\\anaconda3\\envs\\main\\lib\\site-packages\\dateutil\\parser\\_parser.py:1218: UnknownTimezoneWarning: tzname M identified but not understood.  Pass `tzinfos` argument in order to correctly return a timezone-aware datetime.  In a future version, this will raise an exception.\n",
      "  category=UnknownTimezoneWarning)\n"
     ]
    }
   ],
   "source": [
    "from dateutil.parser import parse\n",
    "\n",
    "print(parse('2018-09-01'))\n",
    "print(parse('Jan. 21, 2015  11:00 P.M'))"
   ]
  },
  {
   "cell_type": "code",
   "execution_count": 11,
   "metadata": {
    "tags": []
   },
   "outputs": [
    {
     "data": {
      "text/plain": [
       "0         2018-11-21 09:00:04.278571\n",
       "1         2018-11-21 09:00:08.557143\n",
       "2         2018-11-21 09:00:12.835714\n",
       "3         2018-11-21 09:00:17.114286\n",
       "4         2018-11-21 09:00:21.392857\n",
       "                     ...            \n",
       "865025    2018-12-28 15:35:56.900000\n",
       "865026    2018-12-28 15:35:27.950000\n",
       "865027    2018-12-28 15:35:57.900000\n",
       "865028    2018-12-28 15:35:28.950000\n",
       "865029    2018-12-28 15:35:58.900000\n",
       "Name: Unnamed: 0, Length: 865030, dtype: object"
      ]
     },
     "execution_count": 11,
     "metadata": {},
     "output_type": "execute_result"
    }
   ],
   "source": [
    "df.iloc[:,0]"
   ]
  },
  {
   "cell_type": "code",
   "execution_count": 15,
   "metadata": {
    "execution": {
     "iopub.execute_input": "2021-09-17T05:30:00.519731Z",
     "iopub.status.busy": "2021-09-17T05:30:00.519731Z",
     "iopub.status.idle": "2021-09-17T05:30:00.554637Z",
     "shell.execute_reply": "2021-09-17T05:30:00.554637Z",
     "shell.execute_reply.started": "2021-09-17T05:30:00.519731Z"
    }
   },
   "outputs": [
    {
     "data": {
      "text/plain": [
       "str"
      ]
     },
     "execution_count": 15,
     "metadata": {},
     "output_type": "execute_result"
    }
   ],
   "source": [
    "type(df.iloc[:,0][0])"
   ]
  },
  {
   "cell_type": "code",
   "execution_count": 12,
   "metadata": {
    "tags": []
   },
   "outputs": [
    {
     "data": {
      "text/plain": [
       "0        2018-11-21 09:00:04.278571\n",
       "1        2018-11-21 09:00:08.557143\n",
       "2        2018-11-21 09:00:12.835714\n",
       "3        2018-11-21 09:00:17.114286\n",
       "4        2018-11-21 09:00:21.392857\n",
       "                    ...            \n",
       "865025   2018-12-28 15:35:56.900000\n",
       "865026   2018-12-28 15:35:27.950000\n",
       "865027   2018-12-28 15:35:57.900000\n",
       "865028   2018-12-28 15:35:28.950000\n",
       "865029   2018-12-28 15:35:58.900000\n",
       "Name: Unnamed: 0, Length: 865030, dtype: datetime64[ns]"
      ]
     },
     "execution_count": 12,
     "metadata": {},
     "output_type": "execute_result"
    }
   ],
   "source": [
    "pd.to_datetime(df.iloc[:,0])"
   ]
  },
  {
   "cell_type": "markdown",
   "metadata": {},
   "source": [
    "## Exercise\n",
    "\n",
    "- When performing analysis using actual financial data, errors often occur due to time."
   ]
  },
  {
   "cell_type": "code",
   "execution_count": 13,
   "metadata": {
    "tags": []
   },
   "outputs": [
    {
     "data": {
      "text/html": [
       "<div>\n",
       "<style scoped>\n",
       "    .dataframe tbody tr th:only-of-type {\n",
       "        vertical-align: middle;\n",
       "    }\n",
       "\n",
       "    .dataframe tbody tr th {\n",
       "        vertical-align: top;\n",
       "    }\n",
       "\n",
       "    .dataframe thead th {\n",
       "        text-align: right;\n",
       "    }\n",
       "</style>\n",
       "<table border=\"1\" class=\"dataframe\">\n",
       "  <thead>\n",
       "    <tr style=\"text-align: right;\">\n",
       "      <th></th>\n",
       "      <th>price</th>\n",
       "      <th>volume</th>\n",
       "      <th>buy</th>\n",
       "      <th>sell</th>\n",
       "    </tr>\n",
       "  </thead>\n",
       "  <tbody>\n",
       "    <tr>\n",
       "      <th>2018-11-21 09:00:04.278571</th>\n",
       "      <td>266.200012</td>\n",
       "      <td>1.0</td>\n",
       "      <td>0.0</td>\n",
       "      <td>1.0</td>\n",
       "    </tr>\n",
       "    <tr>\n",
       "      <th>2018-11-21 09:00:08.557143</th>\n",
       "      <td>266.200012</td>\n",
       "      <td>1.0</td>\n",
       "      <td>0.0</td>\n",
       "      <td>1.0</td>\n",
       "    </tr>\n",
       "    <tr>\n",
       "      <th>2018-11-21 09:00:12.835714</th>\n",
       "      <td>266.250000</td>\n",
       "      <td>21.0</td>\n",
       "      <td>21.0</td>\n",
       "      <td>0.0</td>\n",
       "    </tr>\n",
       "    <tr>\n",
       "      <th>2018-11-21 09:00:17.114286</th>\n",
       "      <td>266.299988</td>\n",
       "      <td>1.0</td>\n",
       "      <td>1.0</td>\n",
       "      <td>0.0</td>\n",
       "    </tr>\n",
       "    <tr>\n",
       "      <th>2018-11-21 09:00:21.392857</th>\n",
       "      <td>266.350006</td>\n",
       "      <td>2.0</td>\n",
       "      <td>2.0</td>\n",
       "      <td>0.0</td>\n",
       "    </tr>\n",
       "  </tbody>\n",
       "</table>\n",
       "</div>"
      ],
      "text/plain": [
       "                                 price  volume   buy  sell\n",
       "2018-11-21 09:00:04.278571  266.200012     1.0   0.0   1.0\n",
       "2018-11-21 09:00:08.557143  266.200012     1.0   0.0   1.0\n",
       "2018-11-21 09:00:12.835714  266.250000    21.0  21.0   0.0\n",
       "2018-11-21 09:00:17.114286  266.299988     1.0   1.0   0.0\n",
       "2018-11-21 09:00:21.392857  266.350006     2.0   2.0   0.0"
      ]
     },
     "execution_count": 13,
     "metadata": {},
     "output_type": "execute_result"
    }
   ],
   "source": [
    "import pandas as pd\n",
    "\n",
    "df = pd.read_csv('data/test.csv', index_col = 0, parse_dates=True)\n",
    "df.head()"
   ]
  },
  {
   "cell_type": "markdown",
   "metadata": {},
   "source": [
    "- We need the index to be datetime index to avoid errors."
   ]
  },
  {
   "cell_type": "code",
   "execution_count": 21,
   "metadata": {
    "execution": {
     "iopub.execute_input": "2021-09-13T11:36:04.377627Z",
     "iopub.status.busy": "2021-09-13T11:36:04.376625Z",
     "iopub.status.idle": "2021-09-13T11:36:04.397570Z",
     "shell.execute_reply": "2021-09-13T11:36:04.394582Z",
     "shell.execute_reply.started": "2021-09-13T11:36:04.377627Z"
    }
   },
   "outputs": [
    {
     "data": {
      "text/plain": [
       "str"
      ]
     },
     "execution_count": 21,
     "metadata": {},
     "output_type": "execute_result"
    }
   ],
   "source": [
    "type(df.index[0])\n",
    "type(df.index[0])"
   ]
  },
  {
   "cell_type": "code",
   "execution_count": 24,
   "metadata": {},
   "outputs": [
    {
     "data": {
      "text/html": [
       "<div>\n",
       "<style scoped>\n",
       "    .dataframe tbody tr th:only-of-type {\n",
       "        vertical-align: middle;\n",
       "    }\n",
       "\n",
       "    .dataframe tbody tr th {\n",
       "        vertical-align: top;\n",
       "    }\n",
       "\n",
       "    .dataframe thead th {\n",
       "        text-align: right;\n",
       "    }\n",
       "</style>\n",
       "<table border=\"1\" class=\"dataframe\">\n",
       "  <thead>\n",
       "    <tr style=\"text-align: right;\">\n",
       "      <th></th>\n",
       "      <th>open</th>\n",
       "      <th>high</th>\n",
       "      <th>low</th>\n",
       "      <th>close</th>\n",
       "    </tr>\n",
       "  </thead>\n",
       "  <tbody>\n",
       "    <tr>\n",
       "      <th>2018-11-21</th>\n",
       "      <td>266.200012</td>\n",
       "      <td>268.799988</td>\n",
       "      <td>265.500000</td>\n",
       "      <td>268.500000</td>\n",
       "    </tr>\n",
       "    <tr>\n",
       "      <th>2018-11-22</th>\n",
       "      <td>268.500000</td>\n",
       "      <td>269.399994</td>\n",
       "      <td>267.700012</td>\n",
       "      <td>268.299988</td>\n",
       "    </tr>\n",
       "    <tr>\n",
       "      <th>2018-11-23</th>\n",
       "      <td>268.000000</td>\n",
       "      <td>268.850006</td>\n",
       "      <td>265.250000</td>\n",
       "      <td>266.600006</td>\n",
       "    </tr>\n",
       "    <tr>\n",
       "      <th>2018-11-24</th>\n",
       "      <td>NaN</td>\n",
       "      <td>NaN</td>\n",
       "      <td>NaN</td>\n",
       "      <td>NaN</td>\n",
       "    </tr>\n",
       "    <tr>\n",
       "      <th>2018-11-25</th>\n",
       "      <td>NaN</td>\n",
       "      <td>NaN</td>\n",
       "      <td>NaN</td>\n",
       "      <td>NaN</td>\n",
       "    </tr>\n",
       "    <tr>\n",
       "      <th>2018-11-26</th>\n",
       "      <td>267.100006</td>\n",
       "      <td>270.399994</td>\n",
       "      <td>266.799988</td>\n",
       "      <td>270.299988</td>\n",
       "    </tr>\n",
       "    <tr>\n",
       "      <th>2018-11-27</th>\n",
       "      <td>271.000000</td>\n",
       "      <td>272.750000</td>\n",
       "      <td>269.450012</td>\n",
       "      <td>272.350006</td>\n",
       "    </tr>\n",
       "    <tr>\n",
       "      <th>2018-11-28</th>\n",
       "      <td>273.049988</td>\n",
       "      <td>273.899994</td>\n",
       "      <td>271.700012</td>\n",
       "      <td>273.850006</td>\n",
       "    </tr>\n",
       "    <tr>\n",
       "      <th>2018-11-29</th>\n",
       "      <td>277.700012</td>\n",
       "      <td>278.000000</td>\n",
       "      <td>273.750000</td>\n",
       "      <td>274.200012</td>\n",
       "    </tr>\n",
       "    <tr>\n",
       "      <th>2018-11-30</th>\n",
       "      <td>275.299988</td>\n",
       "      <td>275.500000</td>\n",
       "      <td>271.049988</td>\n",
       "      <td>271.649994</td>\n",
       "    </tr>\n",
       "    <tr>\n",
       "      <th>2018-12-01</th>\n",
       "      <td>NaN</td>\n",
       "      <td>NaN</td>\n",
       "      <td>NaN</td>\n",
       "      <td>NaN</td>\n",
       "    </tr>\n",
       "    <tr>\n",
       "      <th>2018-12-02</th>\n",
       "      <td>NaN</td>\n",
       "      <td>NaN</td>\n",
       "      <td>NaN</td>\n",
       "      <td>NaN</td>\n",
       "    </tr>\n",
       "    <tr>\n",
       "      <th>2018-12-03</th>\n",
       "      <td>275.600006</td>\n",
       "      <td>277.200012</td>\n",
       "      <td>273.799988</td>\n",
       "      <td>276.399994</td>\n",
       "    </tr>\n",
       "    <tr>\n",
       "      <th>2018-12-04</th>\n",
       "      <td>275.100006</td>\n",
       "      <td>275.750000</td>\n",
       "      <td>272.049988</td>\n",
       "      <td>273.600006</td>\n",
       "    </tr>\n",
       "    <tr>\n",
       "      <th>2018-12-05</th>\n",
       "      <td>269.950012</td>\n",
       "      <td>272.750000</td>\n",
       "      <td>269.700012</td>\n",
       "      <td>271.899994</td>\n",
       "    </tr>\n",
       "    <tr>\n",
       "      <th>2018-12-06</th>\n",
       "      <td>270.000000</td>\n",
       "      <td>270.399994</td>\n",
       "      <td>267.049988</td>\n",
       "      <td>267.500000</td>\n",
       "    </tr>\n",
       "    <tr>\n",
       "      <th>2018-12-07</th>\n",
       "      <td>268.700012</td>\n",
       "      <td>269.750000</td>\n",
       "      <td>267.350006</td>\n",
       "      <td>268.600006</td>\n",
       "    </tr>\n",
       "    <tr>\n",
       "      <th>2018-12-08</th>\n",
       "      <td>NaN</td>\n",
       "      <td>NaN</td>\n",
       "      <td>NaN</td>\n",
       "      <td>NaN</td>\n",
       "    </tr>\n",
       "    <tr>\n",
       "      <th>2018-12-09</th>\n",
       "      <td>NaN</td>\n",
       "      <td>NaN</td>\n",
       "      <td>NaN</td>\n",
       "      <td>NaN</td>\n",
       "    </tr>\n",
       "    <tr>\n",
       "      <th>2018-12-10</th>\n",
       "      <td>264.750000</td>\n",
       "      <td>266.549988</td>\n",
       "      <td>264.000000</td>\n",
       "      <td>265.549988</td>\n",
       "    </tr>\n",
       "    <tr>\n",
       "      <th>2018-12-11</th>\n",
       "      <td>266.500000</td>\n",
       "      <td>266.500000</td>\n",
       "      <td>264.299988</td>\n",
       "      <td>265.100006</td>\n",
       "    </tr>\n",
       "    <tr>\n",
       "      <th>2018-12-12</th>\n",
       "      <td>266.250000</td>\n",
       "      <td>269.100006</td>\n",
       "      <td>265.750000</td>\n",
       "      <td>268.899994</td>\n",
       "    </tr>\n",
       "    <tr>\n",
       "      <th>2018-12-13</th>\n",
       "      <td>266.450012</td>\n",
       "      <td>268.250000</td>\n",
       "      <td>265.299988</td>\n",
       "      <td>267.399994</td>\n",
       "    </tr>\n",
       "    <tr>\n",
       "      <th>2018-12-14</th>\n",
       "      <td>266.950012</td>\n",
       "      <td>267.200012</td>\n",
       "      <td>261.350006</td>\n",
       "      <td>262.700012</td>\n",
       "    </tr>\n",
       "    <tr>\n",
       "      <th>2018-12-15</th>\n",
       "      <td>NaN</td>\n",
       "      <td>NaN</td>\n",
       "      <td>NaN</td>\n",
       "      <td>NaN</td>\n",
       "    </tr>\n",
       "    <tr>\n",
       "      <th>2018-12-16</th>\n",
       "      <td>NaN</td>\n",
       "      <td>NaN</td>\n",
       "      <td>NaN</td>\n",
       "      <td>NaN</td>\n",
       "    </tr>\n",
       "    <tr>\n",
       "      <th>2018-12-17</th>\n",
       "      <td>263.149994</td>\n",
       "      <td>264.500000</td>\n",
       "      <td>263.049988</td>\n",
       "      <td>263.649994</td>\n",
       "    </tr>\n",
       "    <tr>\n",
       "      <th>2018-12-18</th>\n",
       "      <td>261.549988</td>\n",
       "      <td>264.000000</td>\n",
       "      <td>261.500000</td>\n",
       "      <td>262.700012</td>\n",
       "    </tr>\n",
       "    <tr>\n",
       "      <th>2018-12-19</th>\n",
       "      <td>263.350006</td>\n",
       "      <td>264.700012</td>\n",
       "      <td>262.649994</td>\n",
       "      <td>264.549988</td>\n",
       "    </tr>\n",
       "    <tr>\n",
       "      <th>2018-12-20</th>\n",
       "      <td>262.750000</td>\n",
       "      <td>263.299988</td>\n",
       "      <td>260.200012</td>\n",
       "      <td>261.700012</td>\n",
       "    </tr>\n",
       "    <tr>\n",
       "      <th>2018-12-21</th>\n",
       "      <td>261.350006</td>\n",
       "      <td>262.000000</td>\n",
       "      <td>260.350006</td>\n",
       "      <td>261.600006</td>\n",
       "    </tr>\n",
       "    <tr>\n",
       "      <th>2018-12-22</th>\n",
       "      <td>NaN</td>\n",
       "      <td>NaN</td>\n",
       "      <td>NaN</td>\n",
       "      <td>NaN</td>\n",
       "    </tr>\n",
       "    <tr>\n",
       "      <th>2018-12-23</th>\n",
       "      <td>NaN</td>\n",
       "      <td>NaN</td>\n",
       "      <td>NaN</td>\n",
       "      <td>NaN</td>\n",
       "    </tr>\n",
       "    <tr>\n",
       "      <th>2018-12-24</th>\n",
       "      <td>261.000000</td>\n",
       "      <td>261.600006</td>\n",
       "      <td>259.799988</td>\n",
       "      <td>261.549988</td>\n",
       "    </tr>\n",
       "    <tr>\n",
       "      <th>2018-12-25</th>\n",
       "      <td>NaN</td>\n",
       "      <td>NaN</td>\n",
       "      <td>NaN</td>\n",
       "      <td>NaN</td>\n",
       "    </tr>\n",
       "    <tr>\n",
       "      <th>2018-12-26</th>\n",
       "      <td>257.899994</td>\n",
       "      <td>259.500000</td>\n",
       "      <td>256.149994</td>\n",
       "      <td>257.700012</td>\n",
       "    </tr>\n",
       "    <tr>\n",
       "      <th>2018-12-27</th>\n",
       "      <td>261.500000</td>\n",
       "      <td>262.350006</td>\n",
       "      <td>260.399994</td>\n",
       "      <td>261.100006</td>\n",
       "    </tr>\n",
       "    <tr>\n",
       "      <th>2018-12-28</th>\n",
       "      <td>261.700012</td>\n",
       "      <td>263.500000</td>\n",
       "      <td>261.500000</td>\n",
       "      <td>262.100006</td>\n",
       "    </tr>\n",
       "  </tbody>\n",
       "</table>\n",
       "</div>"
      ],
      "text/plain": [
       "                  open        high         low       close\n",
       "2018-11-21  266.200012  268.799988  265.500000  268.500000\n",
       "2018-11-22  268.500000  269.399994  267.700012  268.299988\n",
       "2018-11-23  268.000000  268.850006  265.250000  266.600006\n",
       "2018-11-24         NaN         NaN         NaN         NaN\n",
       "2018-11-25         NaN         NaN         NaN         NaN\n",
       "2018-11-26  267.100006  270.399994  266.799988  270.299988\n",
       "2018-11-27  271.000000  272.750000  269.450012  272.350006\n",
       "2018-11-28  273.049988  273.899994  271.700012  273.850006\n",
       "2018-11-29  277.700012  278.000000  273.750000  274.200012\n",
       "2018-11-30  275.299988  275.500000  271.049988  271.649994\n",
       "2018-12-01         NaN         NaN         NaN         NaN\n",
       "2018-12-02         NaN         NaN         NaN         NaN\n",
       "2018-12-03  275.600006  277.200012  273.799988  276.399994\n",
       "2018-12-04  275.100006  275.750000  272.049988  273.600006\n",
       "2018-12-05  269.950012  272.750000  269.700012  271.899994\n",
       "2018-12-06  270.000000  270.399994  267.049988  267.500000\n",
       "2018-12-07  268.700012  269.750000  267.350006  268.600006\n",
       "2018-12-08         NaN         NaN         NaN         NaN\n",
       "2018-12-09         NaN         NaN         NaN         NaN\n",
       "2018-12-10  264.750000  266.549988  264.000000  265.549988\n",
       "2018-12-11  266.500000  266.500000  264.299988  265.100006\n",
       "2018-12-12  266.250000  269.100006  265.750000  268.899994\n",
       "2018-12-13  266.450012  268.250000  265.299988  267.399994\n",
       "2018-12-14  266.950012  267.200012  261.350006  262.700012\n",
       "2018-12-15         NaN         NaN         NaN         NaN\n",
       "2018-12-16         NaN         NaN         NaN         NaN\n",
       "2018-12-17  263.149994  264.500000  263.049988  263.649994\n",
       "2018-12-18  261.549988  264.000000  261.500000  262.700012\n",
       "2018-12-19  263.350006  264.700012  262.649994  264.549988\n",
       "2018-12-20  262.750000  263.299988  260.200012  261.700012\n",
       "2018-12-21  261.350006  262.000000  260.350006  261.600006\n",
       "2018-12-22         NaN         NaN         NaN         NaN\n",
       "2018-12-23         NaN         NaN         NaN         NaN\n",
       "2018-12-24  261.000000  261.600006  259.799988  261.549988\n",
       "2018-12-25         NaN         NaN         NaN         NaN\n",
       "2018-12-26  257.899994  259.500000  256.149994  257.700012\n",
       "2018-12-27  261.500000  262.350006  260.399994  261.100006\n",
       "2018-12-28  261.700012  263.500000  261.500000  262.100006"
      ]
     },
     "execution_count": 24,
     "metadata": {},
     "output_type": "execute_result"
    }
   ],
   "source": [
    "df.index = pd.to_datetime(df.index)\n",
    "df.price.resample('1d')"
   ]
  },
  {
   "cell_type": "code",
   "execution_count": 22,
   "metadata": {
    "execution": {
     "iopub.execute_input": "2021-09-13T11:36:04.402577Z",
     "iopub.status.busy": "2021-09-13T11:36:04.401562Z",
     "iopub.status.idle": "2021-09-13T11:36:05.177241Z",
     "shell.execute_reply": "2021-09-13T11:36:05.177241Z",
     "shell.execute_reply.started": "2021-09-13T11:36:04.402577Z"
    }
   },
   "outputs": [
    {
     "data": {
      "text/html": [
       "<div>\n",
       "<style scoped>\n",
       "    .dataframe tbody tr th:only-of-type {\n",
       "        vertical-align: middle;\n",
       "    }\n",
       "\n",
       "    .dataframe tbody tr th {\n",
       "        vertical-align: top;\n",
       "    }\n",
       "\n",
       "    .dataframe thead th {\n",
       "        text-align: right;\n",
       "    }\n",
       "</style>\n",
       "<table border=\"1\" class=\"dataframe\">\n",
       "  <thead>\n",
       "    <tr style=\"text-align: right;\">\n",
       "      <th></th>\n",
       "      <th>price</th>\n",
       "      <th>volume</th>\n",
       "      <th>buy</th>\n",
       "      <th>sell</th>\n",
       "    </tr>\n",
       "  </thead>\n",
       "  <tbody>\n",
       "    <tr>\n",
       "      <th>2018-11-21 09:00:00</th>\n",
       "      <td>265.850006</td>\n",
       "      <td>2.0</td>\n",
       "      <td>0.0</td>\n",
       "      <td>2.0</td>\n",
       "    </tr>\n",
       "    <tr>\n",
       "      <th>2018-11-21 09:05:00</th>\n",
       "      <td>266.250000</td>\n",
       "      <td>2.0</td>\n",
       "      <td>0.0</td>\n",
       "      <td>2.0</td>\n",
       "    </tr>\n",
       "    <tr>\n",
       "      <th>2018-11-21 09:10:00</th>\n",
       "      <td>265.850006</td>\n",
       "      <td>35.0</td>\n",
       "      <td>0.0</td>\n",
       "      <td>35.0</td>\n",
       "    </tr>\n",
       "    <tr>\n",
       "      <th>2018-11-21 09:15:00</th>\n",
       "      <td>266.399994</td>\n",
       "      <td>5.0</td>\n",
       "      <td>5.0</td>\n",
       "      <td>0.0</td>\n",
       "    </tr>\n",
       "    <tr>\n",
       "      <th>2018-11-21 09:20:00</th>\n",
       "      <td>266.350006</td>\n",
       "      <td>1.0</td>\n",
       "      <td>1.0</td>\n",
       "      <td>0.0</td>\n",
       "    </tr>\n",
       "    <tr>\n",
       "      <th>...</th>\n",
       "      <td>...</td>\n",
       "      <td>...</td>\n",
       "      <td>...</td>\n",
       "      <td>...</td>\n",
       "    </tr>\n",
       "    <tr>\n",
       "      <th>2018-12-28 15:15:00</th>\n",
       "      <td>262.549988</td>\n",
       "      <td>17.0</td>\n",
       "      <td>0.0</td>\n",
       "      <td>17.0</td>\n",
       "    </tr>\n",
       "    <tr>\n",
       "      <th>2018-12-28 15:20:00</th>\n",
       "      <td>262.649994</td>\n",
       "      <td>2.0</td>\n",
       "      <td>2.0</td>\n",
       "      <td>0.0</td>\n",
       "    </tr>\n",
       "    <tr>\n",
       "      <th>2018-12-28 15:25:00</th>\n",
       "      <td>262.299988</td>\n",
       "      <td>1.0</td>\n",
       "      <td>1.0</td>\n",
       "      <td>0.0</td>\n",
       "    </tr>\n",
       "    <tr>\n",
       "      <th>2018-12-28 15:30:00</th>\n",
       "      <td>262.100006</td>\n",
       "      <td>5.0</td>\n",
       "      <td>0.0</td>\n",
       "      <td>5.0</td>\n",
       "    </tr>\n",
       "    <tr>\n",
       "      <th>2018-12-28 15:35:00</th>\n",
       "      <td>262.100006</td>\n",
       "      <td>1.0</td>\n",
       "      <td>0.0</td>\n",
       "      <td>1.0</td>\n",
       "    </tr>\n",
       "  </tbody>\n",
       "</table>\n",
       "<p>10736 rows × 4 columns</p>\n",
       "</div>"
      ],
      "text/plain": [
       "                          price  volume  buy  sell\n",
       "2018-11-21 09:00:00  265.850006     2.0  0.0   2.0\n",
       "2018-11-21 09:05:00  266.250000     2.0  0.0   2.0\n",
       "2018-11-21 09:10:00  265.850006    35.0  0.0  35.0\n",
       "2018-11-21 09:15:00  266.399994     5.0  5.0   0.0\n",
       "2018-11-21 09:20:00  266.350006     1.0  1.0   0.0\n",
       "...                         ...     ...  ...   ...\n",
       "2018-12-28 15:15:00  262.549988    17.0  0.0  17.0\n",
       "2018-12-28 15:20:00  262.649994     2.0  2.0   0.0\n",
       "2018-12-28 15:25:00  262.299988     1.0  1.0   0.0\n",
       "2018-12-28 15:30:00  262.100006     5.0  0.0   5.0\n",
       "2018-12-28 15:35:00  262.100006     1.0  0.0   1.0\n",
       "\n",
       "[10736 rows x 4 columns]"
      ]
     },
     "execution_count": 22,
     "metadata": {},
     "output_type": "execute_result"
    }
   ],
   "source": [
    "df.index = pd.to_datetime(df.index)\n",
    "df.resample('5t').last()"
   ]
  },
  {
   "cell_type": "code",
   "execution_count": 24,
   "metadata": {
    "execution": {
     "iopub.execute_input": "2021-09-13T11:38:33.925445Z",
     "iopub.status.busy": "2021-09-13T11:38:33.924464Z",
     "iopub.status.idle": "2021-09-13T11:38:33.954392Z",
     "shell.execute_reply": "2021-09-13T11:38:33.954392Z",
     "shell.execute_reply.started": "2021-09-13T11:38:33.925445Z"
    }
   },
   "outputs": [
    {
     "data": {
      "text/html": [
       "<div>\n",
       "<style scoped>\n",
       "    .dataframe tbody tr th:only-of-type {\n",
       "        vertical-align: middle;\n",
       "    }\n",
       "\n",
       "    .dataframe tbody tr th {\n",
       "        vertical-align: top;\n",
       "    }\n",
       "\n",
       "    .dataframe thead th {\n",
       "        text-align: right;\n",
       "    }\n",
       "</style>\n",
       "<table border=\"1\" class=\"dataframe\">\n",
       "  <thead>\n",
       "    <tr style=\"text-align: right;\">\n",
       "      <th></th>\n",
       "      <th>price</th>\n",
       "      <th>volume</th>\n",
       "      <th>buy</th>\n",
       "      <th>sell</th>\n",
       "    </tr>\n",
       "  </thead>\n",
       "  <tbody>\n",
       "    <tr>\n",
       "      <th>2018-12-03 09:00:03.523529</th>\n",
       "      <td>275.600006</td>\n",
       "      <td>2.0</td>\n",
       "      <td>2.0</td>\n",
       "      <td>0.0</td>\n",
       "    </tr>\n",
       "    <tr>\n",
       "      <th>2018-12-03 09:00:07.047059</th>\n",
       "      <td>275.600006</td>\n",
       "      <td>1.0</td>\n",
       "      <td>1.0</td>\n",
       "      <td>0.0</td>\n",
       "    </tr>\n",
       "    <tr>\n",
       "      <th>2018-12-03 09:00:10.570588</th>\n",
       "      <td>275.600006</td>\n",
       "      <td>20.0</td>\n",
       "      <td>20.0</td>\n",
       "      <td>0.0</td>\n",
       "    </tr>\n",
       "    <tr>\n",
       "      <th>2018-12-03 09:00:14.094118</th>\n",
       "      <td>275.600006</td>\n",
       "      <td>6.0</td>\n",
       "      <td>6.0</td>\n",
       "      <td>0.0</td>\n",
       "    </tr>\n",
       "    <tr>\n",
       "      <th>2018-12-03 09:00:17.617647</th>\n",
       "      <td>275.600006</td>\n",
       "      <td>6.0</td>\n",
       "      <td>6.0</td>\n",
       "      <td>0.0</td>\n",
       "    </tr>\n",
       "    <tr>\n",
       "      <th>...</th>\n",
       "      <td>...</td>\n",
       "      <td>...</td>\n",
       "      <td>...</td>\n",
       "      <td>...</td>\n",
       "    </tr>\n",
       "    <tr>\n",
       "      <th>2018-12-28 15:35:56.900000</th>\n",
       "      <td>262.100006</td>\n",
       "      <td>10.0</td>\n",
       "      <td>0.0</td>\n",
       "      <td>10.0</td>\n",
       "    </tr>\n",
       "    <tr>\n",
       "      <th>2018-12-28 15:35:27.950000</th>\n",
       "      <td>262.100006</td>\n",
       "      <td>2.0</td>\n",
       "      <td>0.0</td>\n",
       "      <td>2.0</td>\n",
       "    </tr>\n",
       "    <tr>\n",
       "      <th>2018-12-28 15:35:57.900000</th>\n",
       "      <td>262.100006</td>\n",
       "      <td>5.0</td>\n",
       "      <td>0.0</td>\n",
       "      <td>5.0</td>\n",
       "    </tr>\n",
       "    <tr>\n",
       "      <th>2018-12-28 15:35:28.950000</th>\n",
       "      <td>262.100006</td>\n",
       "      <td>4.0</td>\n",
       "      <td>0.0</td>\n",
       "      <td>4.0</td>\n",
       "    </tr>\n",
       "    <tr>\n",
       "      <th>2018-12-28 15:35:58.900000</th>\n",
       "      <td>262.100006</td>\n",
       "      <td>1.0</td>\n",
       "      <td>0.0</td>\n",
       "      <td>1.0</td>\n",
       "    </tr>\n",
       "  </tbody>\n",
       "</table>\n",
       "<p>623726 rows × 4 columns</p>\n",
       "</div>"
      ],
      "text/plain": [
       "                                 price  volume   buy  sell\n",
       "2018-12-03 09:00:03.523529  275.600006     2.0   2.0   0.0\n",
       "2018-12-03 09:00:07.047059  275.600006     1.0   1.0   0.0\n",
       "2018-12-03 09:00:10.570588  275.600006    20.0  20.0   0.0\n",
       "2018-12-03 09:00:14.094118  275.600006     6.0   6.0   0.0\n",
       "2018-12-03 09:00:17.617647  275.600006     6.0   6.0   0.0\n",
       "...                                ...     ...   ...   ...\n",
       "2018-12-28 15:35:56.900000  262.100006    10.0   0.0  10.0\n",
       "2018-12-28 15:35:27.950000  262.100006     2.0   0.0   2.0\n",
       "2018-12-28 15:35:57.900000  262.100006     5.0   0.0   5.0\n",
       "2018-12-28 15:35:28.950000  262.100006     4.0   0.0   4.0\n",
       "2018-12-28 15:35:58.900000  262.100006     1.0   0.0   1.0\n",
       "\n",
       "[623726 rows x 4 columns]"
      ]
     },
     "execution_count": 24,
     "metadata": {},
     "output_type": "execute_result"
    }
   ],
   "source": [
    "df.loc[df.index > dt(2018,12,1),]"
   ]
  },
  {
   "cell_type": "code",
   "execution_count": null,
   "metadata": {},
   "outputs": [],
   "source": []
  }
 ],
 "metadata": {
  "kernelspec": {
   "display_name": "Python 3",
   "language": "python",
   "name": "python3"
  },
  "language_info": {
   "codemirror_mode": {
    "name": "ipython",
    "version": 3
   },
   "file_extension": ".py",
   "mimetype": "text/x-python",
   "name": "python",
   "nbconvert_exporter": "python",
   "pygments_lexer": "ipython3",
   "version": "3.7.10"
  }
 },
 "nbformat": 4,
 "nbformat_minor": 4
}
