{
 "cells": [
  {
   "cell_type": "markdown",
   "id": "4b9381a4",
   "metadata": {},
   "source": [
    "### 여러분들은 자금을 받아 펀드를 운용하는 펀드매니저입니다. 어느날, 한 고객이 찾아와 돈을 맡기면서 다음의 조건에 맞는 포트폴리오를 구성해달라고 합니다. 이를 바탕으로 다음의 질문에 답하시오.\n",
    "\n",
    "- 다음의 주식들로 포트폴리오를 구성: 삼성전자, 엔씨소프트, SK하이닉스, 카카오, 네이버\n",
    "- 2019.1.1 ~ 2020.1.1의 일별데이터를 사용.\n",
    "- 수익률은 ${P_t - P_{t-1}}\\over{P_{t-1}}$로 구함. 이때, $t$는 daily frequency를 의미함.\n",
    "- 위험자산 중 60%는 삼성전자 주식으로 구성(무위험자산은 고려 x).\n",
    "- 포트폴리오에 포함되는 모든 자산의 가중치는 0 ~ 100% 사이.\n",
    "- 위험 한 단위 대비 기대수익률이 가장 높은 포트폴리오를 구성."
   ]
  },
  {
   "cell_type": "markdown",
   "id": "f7274b68",
   "metadata": {},
   "source": [
    "1. 삼성전자의 가중치는 60%로 고정하고, 나머지 가중치들을 무작위로 부여한 random portfolio를 5,000개 생성해 위험자산들로만 이루어진 mean-variance frontier를 도출하시오."
   ]
  },
  {
   "cell_type": "markdown",
   "id": "7336fdd4",
   "metadata": {},
   "source": [
    "2. Risk-free rate이 0.02 일때, 무위험자산까지 포함한 mean-variance frontier를 도출하고 최적 포트폴리오의 annualized sharpe-ratio를 구하시오 (1년을 252일로 계산)."
   ]
  },
  {
   "cell_type": "markdown",
   "id": "7c38eca0",
   "metadata": {},
   "source": [
    "3. 위의 분석들을, 이번에는 '위험자산 중 60%는 삼성전자 주식으로 구성'이라는 조건을 제외하고 다시 진행하고 새로 구한 최적 포트폴리오의 annualized sharpe-ratio를 (3-2)의 것과 비교하시오. 펀드매니저로써 고객에게 어떤 포트폴리오를 추천하겠습니까?"
   ]
  }
 ],
 "metadata": {
  "kernelspec": {
   "display_name": "Python 3 (ipykernel)",
   "language": "python",
   "name": "python3"
  },
  "language_info": {
   "codemirror_mode": {
    "name": "ipython",
    "version": 3
   },
   "file_extension": ".py",
   "mimetype": "text/x-python",
   "name": "python",
   "nbconvert_exporter": "python",
   "pygments_lexer": "ipython3",
   "version": "3.8.10"
  }
 },
 "nbformat": 4,
 "nbformat_minor": 5
}
