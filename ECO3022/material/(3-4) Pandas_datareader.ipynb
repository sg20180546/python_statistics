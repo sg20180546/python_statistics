{
 "cells": [
  {
   "cell_type": "markdown",
   "metadata": {},
   "source": [
    "### [Pandas datareader](https://pandas-datareader.readthedocs.io/en/latest/remote_data.html)\n",
    "\n",
    "- We can extract data from internet sources into a dataframe.\n",
    "- To list some sources\n",
    "    - World Bank\n",
    "    - OECD\n",
    "    - Eurostat\n",
    "    - Quandl\n",
    "    - St.Louis FED (FRED)\n",
    "    - Naver Finance (!)\n",
    "    \n",
    "- data.DataReader(\"symbol\", \"source\", \"start\", \"end\")"
   ]
  },
  {
   "cell_type": "markdown",
   "metadata": {},
   "source": [
    "(Example 1) Navor Finance"
   ]
  },
  {
   "cell_type": "code",
   "execution_count": 3,
   "metadata": {},
   "outputs": [
    {
     "data": {
      "text/html": [
       "<div>\n",
       "<style scoped>\n",
       "    .dataframe tbody tr th:only-of-type {\n",
       "        vertical-align: middle;\n",
       "    }\n",
       "\n",
       "    .dataframe tbody tr th {\n",
       "        vertical-align: top;\n",
       "    }\n",
       "\n",
       "    .dataframe thead th {\n",
       "        text-align: right;\n",
       "    }\n",
       "</style>\n",
       "<table border=\"1\" class=\"dataframe\">\n",
       "  <thead>\n",
       "    <tr style=\"text-align: right;\">\n",
       "      <th></th>\n",
       "      <th>Open</th>\n",
       "      <th>High</th>\n",
       "      <th>Low</th>\n",
       "      <th>Close</th>\n",
       "      <th>Volume</th>\n",
       "    </tr>\n",
       "    <tr>\n",
       "      <th>Date</th>\n",
       "      <th></th>\n",
       "      <th></th>\n",
       "      <th></th>\n",
       "      <th></th>\n",
       "      <th></th>\n",
       "    </tr>\n",
       "  </thead>\n",
       "  <tbody>\n",
       "    <tr>\n",
       "      <th>1991-04-01</th>\n",
       "      <td>324</td>\n",
       "      <td>328</td>\n",
       "      <td>322</td>\n",
       "      <td>323</td>\n",
       "      <td>3560</td>\n",
       "    </tr>\n",
       "    <tr>\n",
       "      <th>1991-04-02</th>\n",
       "      <td>324</td>\n",
       "      <td>324</td>\n",
       "      <td>319</td>\n",
       "      <td>320</td>\n",
       "      <td>6890</td>\n",
       "    </tr>\n",
       "    <tr>\n",
       "      <th>1991-04-03</th>\n",
       "      <td>320</td>\n",
       "      <td>327</td>\n",
       "      <td>320</td>\n",
       "      <td>323</td>\n",
       "      <td>3600</td>\n",
       "    </tr>\n",
       "    <tr>\n",
       "      <th>1991-04-04</th>\n",
       "      <td>322</td>\n",
       "      <td>325</td>\n",
       "      <td>321</td>\n",
       "      <td>326</td>\n",
       "      <td>6270</td>\n",
       "    </tr>\n",
       "    <tr>\n",
       "      <th>1991-04-06</th>\n",
       "      <td>323</td>\n",
       "      <td>325</td>\n",
       "      <td>323</td>\n",
       "      <td>326</td>\n",
       "      <td>3870</td>\n",
       "    </tr>\n",
       "  </tbody>\n",
       "</table>\n",
       "</div>"
      ],
      "text/plain": [
       "            Open  High  Low  Close  Volume\n",
       "Date                                      \n",
       "1991-04-01   324   328  322    323    3560\n",
       "1991-04-02   324   324  319    320    6890\n",
       "1991-04-03   320   327  320    323    3600\n",
       "1991-04-04   322   325  321    326    6270\n",
       "1991-04-06   323   325  323    326    3870"
      ]
     },
     "execution_count": 3,
     "metadata": {},
     "output_type": "execute_result"
    }
   ],
   "source": [
    "# pandas_datareader는 pandas의 설치여부와 상관없이 따로 설치해야함\n",
    "import pandas_datareader.data as web\n",
    "\n",
    "df = web.DataReader('005930', 'naver', start='1991-04-01', end='2020-09-01')\n",
    "for col in df.columns : \n",
    "    df[col] = df[col].apply(int)\n",
    "df.head()"
   ]
  },
  {
   "cell_type": "code",
   "execution_count": 1,
   "metadata": {
    "execution": {
     "iopub.execute_input": "2021-09-17T05:17:31.519511Z",
     "iopub.status.busy": "2021-09-17T05:17:31.519511Z",
     "iopub.status.idle": "2021-09-17T05:17:31.608274Z",
     "shell.execute_reply": "2021-09-17T05:17:31.608274Z",
     "shell.execute_reply.started": "2021-09-17T05:17:31.519511Z"
    }
   },
   "outputs": [
    {
     "data": {
      "text/html": [
       "<div>\n",
       "<style scoped>\n",
       "    .dataframe tbody tr th:only-of-type {\n",
       "        vertical-align: middle;\n",
       "    }\n",
       "\n",
       "    .dataframe tbody tr th {\n",
       "        vertical-align: top;\n",
       "    }\n",
       "\n",
       "    .dataframe thead th {\n",
       "        text-align: right;\n",
       "    }\n",
       "</style>\n",
       "<table border=\"1\" class=\"dataframe\">\n",
       "  <thead>\n",
       "    <tr style=\"text-align: right;\">\n",
       "      <th></th>\n",
       "      <th>Open</th>\n",
       "      <th>High</th>\n",
       "      <th>Low</th>\n",
       "      <th>Close</th>\n",
       "      <th>Volume</th>\n",
       "    </tr>\n",
       "    <tr>\n",
       "      <th>Date</th>\n",
       "      <th></th>\n",
       "      <th></th>\n",
       "      <th></th>\n",
       "      <th></th>\n",
       "      <th></th>\n",
       "    </tr>\n",
       "  </thead>\n",
       "  <tbody>\n",
       "    <tr>\n",
       "      <th>2019-04-01</th>\n",
       "      <td>2725</td>\n",
       "      <td>2850</td>\n",
       "      <td>2710</td>\n",
       "      <td>2820</td>\n",
       "      <td>4557184</td>\n",
       "    </tr>\n",
       "    <tr>\n",
       "      <th>2019-04-02</th>\n",
       "      <td>2825</td>\n",
       "      <td>2875</td>\n",
       "      <td>2780</td>\n",
       "      <td>2790</td>\n",
       "      <td>3038538</td>\n",
       "    </tr>\n",
       "    <tr>\n",
       "      <th>2019-04-03</th>\n",
       "      <td>2810</td>\n",
       "      <td>2855</td>\n",
       "      <td>2775</td>\n",
       "      <td>2780</td>\n",
       "      <td>2309030</td>\n",
       "    </tr>\n",
       "    <tr>\n",
       "      <th>2019-04-04</th>\n",
       "      <td>2870</td>\n",
       "      <td>3610</td>\n",
       "      <td>2845</td>\n",
       "      <td>3610</td>\n",
       "      <td>59578697</td>\n",
       "    </tr>\n",
       "    <tr>\n",
       "      <th>2019-04-05</th>\n",
       "      <td>3640</td>\n",
       "      <td>4420</td>\n",
       "      <td>3550</td>\n",
       "      <td>3955</td>\n",
       "      <td>83374834</td>\n",
       "    </tr>\n",
       "  </tbody>\n",
       "</table>\n",
       "</div>"
      ],
      "text/plain": [
       "            Open  High   Low  Close    Volume\n",
       "Date                                         \n",
       "2019-04-01  2725  2850  2710   2820   4557184\n",
       "2019-04-02  2825  2875  2780   2790   3038538\n",
       "2019-04-03  2810  2855  2775   2780   2309030\n",
       "2019-04-04  2870  3610  2845   3610  59578697\n",
       "2019-04-05  3640  4420  3550   3955  83374834"
      ]
     },
     "execution_count": 1,
     "metadata": {},
     "output_type": "execute_result"
    }
   ],
   "source": [
    "# pandas_datareader는 pandas의 설치여부와 상관없이 따로 설치해야함\n",
    "import pandas_datareader.data as web\n",
    "\n",
    "df = web.DataReader('007460', 'naver', start='2019-04-01', end='2020-09-01')\n",
    "for col in df.columns : \n",
    "    df[col] = df[col].apply(int)\n",
    "df.head()"
   ]
  },
  {
   "cell_type": "code",
   "execution_count": 10,
   "metadata": {
    "execution": {
     "iopub.execute_input": "2021-09-17T05:17:37.527136Z",
     "iopub.status.busy": "2021-09-17T05:17:37.527136Z",
     "iopub.status.idle": "2021-09-17T05:17:37.786441Z",
     "shell.execute_reply": "2021-09-17T05:17:37.786441Z",
     "shell.execute_reply.started": "2021-09-17T05:17:37.527136Z"
    }
   },
   "outputs": [
    {
     "data": {
      "text/plain": [
       "<matplotlib.axes._subplots.AxesSubplot at 0x235e80de788>"
      ]
     },
     "execution_count": 10,
     "metadata": {},
     "output_type": "execute_result"
    },
    {
     "data": {
      "image/png": "[encoded data removed]",
      "text/plain": [
       "<Figure size 432x288 with 1 Axes>"
      ]
     },
     "metadata": {
      "needs_background": "light"
     },
     "output_type": "display_data"
    }
   ],
   "source": [
    "df.Close.plot()"
   ]
  },
  {
   "cell_type": "code",
   "execution_count": 4,
   "metadata": {},
   "outputs": [
    {
     "name": "stdout",
     "output_type": "stream",
     "text": [
      "[*********************100%***********************]  1 of 1 completed\n"
     ]
    },
    {
     "data": {
      "text/html": [
       "<div>\n",
       "<style scoped>\n",
       "    .dataframe tbody tr th:only-of-type {\n",
       "        vertical-align: middle;\n",
       "    }\n",
       "\n",
       "    .dataframe tbody tr th {\n",
       "        vertical-align: top;\n",
       "    }\n",
       "\n",
       "    .dataframe thead th {\n",
       "        text-align: right;\n",
       "    }\n",
       "</style>\n",
       "<table border=\"1\" class=\"dataframe\">\n",
       "  <thead>\n",
       "    <tr style=\"text-align: right;\">\n",
       "      <th></th>\n",
       "      <th>Open</th>\n",
       "      <th>High</th>\n",
       "      <th>Low</th>\n",
       "      <th>Close</th>\n",
       "      <th>Adj Close</th>\n",
       "      <th>Volume</th>\n",
       "    </tr>\n",
       "    <tr>\n",
       "      <th>Date</th>\n",
       "      <th></th>\n",
       "      <th></th>\n",
       "      <th></th>\n",
       "      <th></th>\n",
       "      <th></th>\n",
       "      <th></th>\n",
       "    </tr>\n",
       "  </thead>\n",
       "  <tbody>\n",
       "    <tr>\n",
       "      <th>2010-06-29</th>\n",
       "      <td>3.800</td>\n",
       "      <td>5.000</td>\n",
       "      <td>3.508</td>\n",
       "      <td>4.778</td>\n",
       "      <td>4.778</td>\n",
       "      <td>93831500</td>\n",
       "    </tr>\n",
       "    <tr>\n",
       "      <th>2010-06-30</th>\n",
       "      <td>5.158</td>\n",
       "      <td>6.084</td>\n",
       "      <td>4.660</td>\n",
       "      <td>4.766</td>\n",
       "      <td>4.766</td>\n",
       "      <td>85935500</td>\n",
       "    </tr>\n",
       "    <tr>\n",
       "      <th>2010-07-01</th>\n",
       "      <td>5.000</td>\n",
       "      <td>5.184</td>\n",
       "      <td>4.054</td>\n",
       "      <td>4.392</td>\n",
       "      <td>4.392</td>\n",
       "      <td>41094000</td>\n",
       "    </tr>\n",
       "    <tr>\n",
       "      <th>2010-07-02</th>\n",
       "      <td>4.600</td>\n",
       "      <td>4.620</td>\n",
       "      <td>3.742</td>\n",
       "      <td>3.840</td>\n",
       "      <td>3.840</td>\n",
       "      <td>25699000</td>\n",
       "    </tr>\n",
       "    <tr>\n",
       "      <th>2010-07-06</th>\n",
       "      <td>4.000</td>\n",
       "      <td>4.000</td>\n",
       "      <td>3.166</td>\n",
       "      <td>3.222</td>\n",
       "      <td>3.222</td>\n",
       "      <td>34334500</td>\n",
       "    </tr>\n",
       "  </tbody>\n",
       "</table>\n",
       "</div>"
      ],
      "text/plain": [
       "             Open   High    Low  Close  Adj Close    Volume\n",
       "Date                                                       \n",
       "2010-06-29  3.800  5.000  3.508  4.778      4.778  93831500\n",
       "2010-06-30  5.158  6.084  4.660  4.766      4.766  85935500\n",
       "2010-07-01  5.000  5.184  4.054  4.392      4.392  41094000\n",
       "2010-07-02  4.600  4.620  3.742  3.840      3.840  25699000\n",
       "2010-07-06  4.000  4.000  3.166  3.222      3.222  34334500"
      ]
     },
     "execution_count": 4,
     "metadata": {},
     "output_type": "execute_result"
    }
   ],
   "source": [
    "import yfinance as yf\n",
    "import matplotlib.pyplot as plt\n",
    "%matplotlib inline\n",
    "\n",
    "data = yf.download(\"TSLA\", start='2010-01-01')\n",
    "data.head()"
   ]
  },
  {
   "cell_type": "code",
   "execution_count": null,
   "metadata": {},
   "outputs": [],
   "source": []
  }
 ],
 "metadata": {
  "kernelspec": {
   "display_name": "Python 3",
   "language": "python",
   "name": "python3"
  },
  "language_info": {
   "codemirror_mode": {
    "name": "ipython",
    "version": 3
   },
   "file_extension": ".py",
   "mimetype": "text/x-python",
   "name": "python",
   "nbconvert_exporter": "python",
   "pygments_lexer": "ipython3",
   "version": "3.7.10"
  }
 },
 "nbformat": 4,
 "nbformat_minor": 4
}
