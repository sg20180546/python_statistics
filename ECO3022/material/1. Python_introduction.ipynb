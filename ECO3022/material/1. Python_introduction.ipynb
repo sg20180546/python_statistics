{
 "cells": [
  {
   "cell_type": "markdown",
   "metadata": {},
   "source": [
    "# Introduction\n",
    "\n",
    "### What is Python? \n",
    "\n",
    "- Python is a popular general-purpose programming language that is designed to handle a wide range of problems. \n",
    "\n",
    "- Recent developments have extended Python's range of applicability to econometrics, statistics and general numerical analysis. \n",
    "\n",
    "### Should we use Python?\n",
    "\n",
    "- Python (with the right set of add-ons) is comparable to domain-specific languages such as R, MATLAB or Julia. If you are wondering whether you should bother with Python (or another language), \n",
    "\n",
    "    - You migt want to consider R if:\n",
    "        - 1. You want to apply statistical methods (The statistics library of R is second to none).\n",
    "        - 2. Performance is of secondary importance.\n",
    "        - 3. Free is important. \n",
    "        \n",
    "    - You might want to consider MATLAB if :\n",
    "        - 1. Commercial support and a clear channel to report issues is important.\n",
    "        - 2. Documentation and organization of modules are more important than the breadth of algorithms available.\n",
    "        - 3. Performance is an important concern.\n",
    "    - You might want to concern Julia if :\n",
    "        - 1. Performance in an interactive based language is your most important concern.\n",
    "        - 2. You like living on the bleeding edge and aren't worried about code breaking across new versions of Julia.\n",
    "        - 3. You like to do most things yourself.\n",
    "        \n",
    "    - Having read the reasons to choose another package, you may wonder why you should consider Python.\n",
    "        - 1. You need a language which can act as an end-to-end solution that allows access to web-based services, database servers, data management and processing and statistical computation. \n",
    "        - 2. Data handling and manipulation – especially cleaning and reformatting – is an important concern.Python is substantially more capable at data set construction than either R or MATLAB.\n",
    "        - 3. Performance is a concern, but not at the top of the list.\n",
    "        - 4. Free is an important consideration.\n",
    "        - 5. Knowledge of Python, as a general purpose language, is complementary to R/MATLAB/Julia/GAUSS/Stata.\n",
    "\n",
    "<img src=\"./img/3.png\" width=\"600\" height=\"600\">\n",
    "\n",
    "### Important Components of the Python Scientific Stack\n",
    "\n",
    "- 1. Python\n",
    "    - This provides the core Python interpreter. The latest version is Python 3.7, but I personally prefer Python 3.6 due to dependencies issue. \n",
    "\n",
    "- 2. NumPy \n",
    "    - NumPy provides a set of array and matrix data types which are essential for statistics, econometrics and data analysis. \n",
    "- 3. SciPy\n",
    "    - SciPy contains a large number of routines needed for analysis of data. The most important include a wide range of random number generators, linear algebra routines, and optimizers.\n",
    "- 4. Jupyter and IPython\n",
    "    - IPython provides an interactive Python environment which enhances productivity when developing code or performing interactive data analysis. Jupyter provides a generic set of infrastructure that enables IPython to be run in a variety of settings including an improved console (QtConsole) or in an interactive webbrowser based notebook.\n",
    "- 5. Matplotlib and seaborn \n",
    "    - matplotlib provides a plotting environment for 2D plots, with limited support for 3D plotting. seaborn is a Python package that improves the default appearance of matplotlib plots without any additional code.\n",
    "- 6. Pandas \n",
    "    - Pandas provides high-performance data structures.\n",
    "- 7. Statsmodels\n",
    "    - statsmodels is pandas-aware and provides models used in the statistical analysis of data including linear regression, Generalized LinearModels (GLMs), and time-series models (e.g., ARIMA).\n",
    "- 8. scikit-learn (sklearn)\n",
    "    - scikit-learn provides machine learning models for regression, classification, etc. \n",
    "- 9. quantecon\n",
    "    - The quantecon python library consists of a number of modules which includes game theory (game_theory), markov chains (markov), random generation utilities (random), a collection of tools (tools), and other utilities (util)."
   ]
  },
  {
   "cell_type": "markdown",
   "metadata": {},
   "source": [
    "### Python Installation\n",
    "\n",
    "- [Anaconda Distribution](https://www.anaconda.com/download/#windows)\n",
    "\n",
    "<img src=\"./img/1.png\" width=\"600\" height=\"600\">\n",
    "\n",
    "- [Anaconda Installer Archive](https://repo.continuum.io/archive/#windows)"
   ]
  },
  {
   "cell_type": "markdown",
   "metadata": {},
   "source": [
    "### Add not-yet installed packages\n",
    "\n",
    "-  **If import not installed module then use package manager [pip](https://pypi.org/project/pip/) or [conda](https://conda.io/docs/index.html)** <br>\n",
    "      >conda install $PACKAGE_NAME <br>\n",
    "            >>`conda install pip3`  <br>\n",
    "            >>`OR` \n",
    "            >>`pip install pip3`  <br>\n",
    "            \n",
    "      >conda update $PACKAGE_NAME      \n",
    "      \n",
    "      > conda install -y ipython matplotlib pandas pytables scipy seaborn  OR\n",
    "      >   OR\n",
    "      > conda remove pytables \n",
    "      \n",
    "      >conda list\n",
    "      \n",
    "      \n",
    "### Sometimes we need a virtual environment\n",
    "\n",
    "- required python 2.xx (almost terminated) \n",
    "- required python 3.5xx (currently 3.7xx)  <br>\n",
    "- required 32bit\n",
    "\n",
    ">set CONDA_FORCE_32BIT=1  __<font color=blue>[only for 32bit required]</font>__<br>    \n",
    ">conda create -n py32_35 python=3.5\n",
    "\n",
    "> activate py32_35 or using mouse with window command\n",
    "> deactivate py32_35\n",
    "\n",
    "<img src=\"./img/2.png\" width=\"200\" height=\"200\">\n",
    "\n",
    "\n",
    "### Jupyter? IDE?\n",
    "\n",
    "- Jupyter Notebook :\n",
    "    - Popukar interactive development environment.\n",
    "    - Used for Python, R and Julia.\n",
    "    \n",
    "- IDE(Integrated Development Environment)\n",
    "    - Software application that provides comprehensive facilities to computer programmers for software development. \n",
    "    - Pycharm, Sublime, VS code ...\n",
    "    \n",
    "- Cloud based\n",
    "    - [Google Colaboratory](https://colab.research.google.com/notebooks/intro.ipynb#scrollTo=lSrWNr3MuFUS)"
   ]
  },
  {
   "cell_type": "code",
   "execution_count": 22,
   "metadata": {},
   "outputs": [
    {
     "name": "stdout",
     "output_type": "stream",
     "text": [
      "1.3.5\n",
      "1.20.3\n",
      "1.0.2\n",
      "0.12.2\n"
     ]
    }
   ],
   "source": [
    "import pandas as pd\n",
    "import numpy as np\n",
    "import sklearn\n",
    "import statsmodels\n",
    "\n",
    "print(pd.__version__)\n",
    "print(np.__version__)\n",
    "print(sklearn.__version__)\n",
    "print(statsmodels.__version__)"
   ]
  },
  {
   "cell_type": "markdown",
   "metadata": {},
   "source": [
    "### (summary)\n",
    "\n",
    "# Python is composed of two basic variable types\n",
    "\n",
    "- (1) Numeric variables\n",
    "    - int\n",
    "    - float\n",
    "\n",
    "- (2) String variables"
   ]
  },
  {
   "cell_type": "markdown",
   "metadata": {},
   "source": [
    "## Numbers\n",
    "\n",
    "- The integer numbers (e.g. 2, 4) have type int, the ones with a fractional part (e.g. 5.0) have type float.\n",
    "\n",
    "- Division (/) always returns a float.\n",
    "\n",
    "- Can check type of instances with function type()."
   ]
  },
  {
   "cell_type": "code",
   "execution_count": 1,
   "metadata": {
    "execution": {
     "iopub.execute_input": "2021-09-02T05:21:10.275176Z",
     "iopub.status.busy": "2021-09-02T05:21:10.274180Z",
     "iopub.status.idle": "2021-09-02T05:21:10.299112Z",
     "shell.execute_reply": "2021-09-02T05:21:10.297116Z",
     "shell.execute_reply.started": "2021-09-02T05:21:10.275176Z"
    }
   },
   "outputs": [
    {
     "name": "stdout",
     "output_type": "stream",
     "text": [
      "<class 'int'>\n",
      "<class 'int'>\n",
      "<class 'float'>\n"
     ]
    }
   ],
   "source": [
    "print(type(4))\n",
    "print(type(20))\n",
    "print(type(5.0))"
   ]
  },
  {
   "cell_type": "markdown",
   "metadata": {},
   "source": [
    "### Python as a simple calculator\n",
    "\n",
    "- The interpreter acts as a simple calculator: expression in, value out.\n",
    "- +, -, *, /\n",
    "\n",
    "##### Example\n",
    "- $2+2=4$\n",
    "- $50-5 \\times 6 =20$\n",
    "- ${{50-5 \\times 6} \\over {4}}=5 $"
   ]
  },
  {
   "cell_type": "code",
   "execution_count": 2,
   "metadata": {
    "execution": {
     "iopub.execute_input": "2021-09-02T05:21:36.238703Z",
     "iopub.status.busy": "2021-09-02T05:21:36.237706Z",
     "iopub.status.idle": "2021-09-02T05:21:36.260643Z",
     "shell.execute_reply": "2021-09-02T05:21:36.258672Z",
     "shell.execute_reply.started": "2021-09-02T05:21:36.238703Z"
    }
   },
   "outputs": [
    {
     "name": "stdout",
     "output_type": "stream",
     "text": [
      "4\n",
      "20\n",
      "5.0\n"
     ]
    }
   ],
   "source": [
    "print(2+2)\n",
    "print(50-5*6)\n",
    "print((50-5*6)/4)"
   ]
  },
  {
   "cell_type": "markdown",
   "metadata": {},
   "source": [
    "- To calculate powers, we need to use the ** operator.\n",
    "- Quotient : //, Remainder : %"
   ]
  },
  {
   "cell_type": "code",
   "execution_count": 3,
   "metadata": {
    "execution": {
     "iopub.execute_input": "2021-09-02T05:22:36.498321Z",
     "iopub.status.busy": "2021-09-02T05:22:36.498321Z",
     "iopub.status.idle": "2021-09-02T05:22:36.512284Z",
     "shell.execute_reply": "2021-09-02T05:22:36.511287Z",
     "shell.execute_reply.started": "2021-09-02T05:22:36.498321Z"
    }
   },
   "outputs": [
    {
     "name": "stdout",
     "output_type": "stream",
     "text": [
      "1024\n",
      "2\n",
      "3\n"
     ]
    }
   ],
   "source": [
    "print(2**10)\n",
    "print(13//5)\n",
    "print(13%5)"
   ]
  },
  {
   "cell_type": "markdown",
   "metadata": {},
   "source": [
    "- The equal sign (=) is used to assign a value to a variable. "
   ]
  },
  {
   "cell_type": "code",
   "execution_count": 4,
   "metadata": {
    "execution": {
     "iopub.execute_input": "2021-09-02T05:22:51.281186Z",
     "iopub.status.busy": "2021-09-02T05:22:51.281186Z",
     "iopub.status.idle": "2021-09-02T05:22:51.294524Z",
     "shell.execute_reply": "2021-09-02T05:22:51.294524Z",
     "shell.execute_reply.started": "2021-09-02T05:22:51.281186Z"
    }
   },
   "outputs": [
    {
     "data": {
      "text/plain": [
       "5000"
      ]
     },
     "execution_count": 4,
     "metadata": {},
     "output_type": "execute_result"
    }
   ],
   "source": [
    "price = 1000\n",
    "quantity = 5\n",
    "\n",
    "price*quantity"
   ]
  },
  {
   "cell_type": "code",
   "execution_count": 5,
   "metadata": {
    "execution": {
     "iopub.execute_input": "2021-09-02T05:22:58.296253Z",
     "iopub.status.busy": "2021-09-02T05:22:58.296253Z",
     "iopub.status.idle": "2021-09-02T05:22:58.310215Z",
     "shell.execute_reply": "2021-09-02T05:22:58.309244Z",
     "shell.execute_reply.started": "2021-09-02T05:22:58.296253Z"
    }
   },
   "outputs": [
    {
     "name": "stdout",
     "output_type": "stream",
     "text": [
      "Economics\n",
      "'Economics'\n"
     ]
    }
   ],
   "source": [
    "word = 'Economics'\n",
    "word1 = \"'Economics'\"\n",
    "print(word)\n",
    "print(word1)"
   ]
  },
  {
   "cell_type": "code",
   "execution_count": 6,
   "metadata": {
    "execution": {
     "iopub.execute_input": "2021-09-02T05:23:05.300672Z",
     "iopub.status.busy": "2021-09-02T05:23:05.300672Z",
     "iopub.status.idle": "2021-09-02T05:23:05.310646Z",
     "shell.execute_reply": "2021-09-02T05:23:05.310646Z",
     "shell.execute_reply.started": "2021-09-02T05:23:05.300672Z"
    }
   },
   "outputs": [
    {
     "name": "stdout",
     "output_type": "stream",
     "text": [
      "['005930', 'txt']\n",
      "005930\n"
     ]
    }
   ],
   "source": [
    "filename = '005930.txt'\n",
    "print(filename.split('.'))\n",
    "print(filename.split('.')[0])"
   ]
  },
  {
   "cell_type": "markdown",
   "metadata": {},
   "source": [
    "# Sequences\n",
    "\n",
    "- Sequences are datatypes that can hold various items. \n",
    "\n",
    "### Built-in Sequences \n",
    "\n",
    "- Container sequences \n",
    "    - list, tuple, collections.deque : can hold items of different types.\n",
    "- Flat sequences\n",
    "    - str, bytes, bytearray, etc. : hold items of one type.\n",
    "- Mutable, Immutable\n",
    "\n",
    "### Tuple\n",
    "\n",
    "- Immutable\n",
    "- ()\n",
    "- accessing through []"
   ]
  },
  {
   "cell_type": "markdown",
   "metadata": {},
   "source": [
    "### List \n",
    "\n",
    "- Mutable\n",
    "- []\n",
    "- list related operation\n",
    "\n",
    "|method | index/value | results|\n",
    "| :---:   |    :---:      |   :---:  |\n",
    "|ls[i]=j| index:value| i's element replaced by j |\n",
    "| ls.append| (value) |    new value are added|\n",
    "| ls.exend| ([value]) |   new value are added|\n",
    "|ls.count|(value)|how many times x occur |\n",
    "|del ls|[index]|delete index value |\n",
    "|ls.remove|(value)|remove first encountered value|\n",
    "|ls.pop|(index)|remove index value and return  |\n",
    "|ls.reverse|()|reverse the ordering|\n",
    "|ls.sort|()|ordered sorting|"
   ]
  },
  {
   "cell_type": "code",
   "execution_count": 7,
   "metadata": {
    "execution": {
     "iopub.execute_input": "2021-09-02T05:23:28.447973Z",
     "iopub.status.busy": "2021-09-02T05:23:28.447973Z",
     "iopub.status.idle": "2021-09-02T05:23:28.460938Z",
     "shell.execute_reply": "2021-09-02T05:23:28.459940Z",
     "shell.execute_reply.started": "2021-09-02T05:23:28.447973Z"
    }
   },
   "outputs": [
    {
     "name": "stdout",
     "output_type": "stream",
     "text": [
      "True\n",
      "True\n"
     ]
    }
   ],
   "source": [
    "a = [1,2,3]\n",
    "b = list([1,2,3])\n",
    "c = list((1,2,3))\n",
    "print(a == b)\n",
    "print(a == c)"
   ]
  },
  {
   "cell_type": "markdown",
   "metadata": {},
   "source": [
    "### Dictionaries\n",
    "\n",
    "- Another useful data type built in Python is the dictionary. \n",
    "- Unlike sequences, dictionaries are indexed by keys, which can be any immutable type: strings, numbers.\n",
    "- It is best to think of a dictionary as a set of key: value pairs, with the requirement that the keys are unique (within one dictionary)."
   ]
  },
  {
   "cell_type": "code",
   "execution_count": 8,
   "metadata": {
    "execution": {
     "iopub.execute_input": "2021-09-02T05:23:48.459792Z",
     "iopub.status.busy": "2021-09-02T05:23:48.459792Z",
     "iopub.status.idle": "2021-09-02T05:23:48.476747Z",
     "shell.execute_reply": "2021-09-02T05:23:48.475752Z",
     "shell.execute_reply.started": "2021-09-02T05:23:48.459792Z"
    }
   },
   "outputs": [
    {
     "name": "stdout",
     "output_type": "stream",
     "text": [
      "{'Park': 100, 'Kim': 60, 'Lee': 40}\n",
      "100\n",
      "dict_keys(['Park', 'Kim', 'Lee'])\n",
      "dict_values([100, 60, 40])\n",
      "dict_items([('Park', 100), ('Kim', 60), ('Lee', 40)])\n"
     ]
    }
   ],
   "source": [
    "score = {'Park':100, 'Kim':60, 'Lee':40}\n",
    "print(score)\n",
    "print(score['Park'])\n",
    "print(score.keys())\n",
    "print(score.values())\n",
    "print(score.items())"
   ]
  },
  {
   "cell_type": "code",
   "execution_count": 9,
   "metadata": {
    "execution": {
     "iopub.execute_input": "2021-09-02T05:23:54.283854Z",
     "iopub.status.busy": "2021-09-02T05:23:54.283854Z",
     "iopub.status.idle": "2021-09-02T05:23:54.296819Z",
     "shell.execute_reply": "2021-09-02T05:23:54.294824Z",
     "shell.execute_reply.started": "2021-09-02T05:23:54.283854Z"
    }
   },
   "outputs": [
    {
     "name": "stdout",
     "output_type": "stream",
     "text": [
      "{'Park': 100, 'Kim': 60, 'Lee': 40, 'Chung': 0}\n"
     ]
    }
   ],
   "source": [
    "score['Chung'] = 0\n",
    "print(score)"
   ]
  },
  {
   "cell_type": "markdown",
   "metadata": {},
   "source": [
    "# Boolean Values\n",
    "​\n",
    "- In programming you often need to know if an expression is True or False.\n",
    "​\n",
    "- You can evaluate any expression in Python, and get one of two answers, True or False.\n",
    "​\n",
    "- When you compare two values, the expression is evaluated and Python returns the Boolean answer:"
   ]
  },
  {
   "cell_type": "code",
   "execution_count": 10,
   "metadata": {
    "execution": {
     "iopub.execute_input": "2021-09-02T05:24:09.308956Z",
     "iopub.status.busy": "2021-09-02T05:24:09.307958Z",
     "iopub.status.idle": "2021-09-02T05:24:09.332872Z",
     "shell.execute_reply": "2021-09-02T05:24:09.330878Z",
     "shell.execute_reply.started": "2021-09-02T05:24:09.308956Z"
    }
   },
   "outputs": [
    {
     "name": "stdout",
     "output_type": "stream",
     "text": [
      "<class 'bool'>\n",
      "<class 'bool'>\n"
     ]
    }
   ],
   "source": [
    "print(type(True))\n",
    "print(type(False))"
   ]
  },
  {
   "cell_type": "code",
   "execution_count": 11,
   "metadata": {
    "execution": {
     "iopub.execute_input": "2021-09-02T05:24:17.490351Z",
     "iopub.status.busy": "2021-09-02T05:24:17.490351Z",
     "iopub.status.idle": "2021-09-02T05:24:17.497333Z",
     "shell.execute_reply": "2021-09-02T05:24:17.497333Z",
     "shell.execute_reply.started": "2021-09-02T05:24:17.490351Z"
    }
   },
   "outputs": [
    {
     "name": "stdout",
     "output_type": "stream",
     "text": [
      "True\n",
      "True\n",
      "False\n",
      "True\n",
      "False\n",
      "False\n"
     ]
    }
   ],
   "source": [
    "print(10 > 9)\n",
    "print(10 >= 9)\n",
    "print(10 == 9)\n",
    "print(10 != 9)\n",
    "print(10 < 9)\n",
    "print(10 <= 9)"
   ]
  },
  {
   "cell_type": "markdown",
   "metadata": {},
   "source": [
    "- and(&), or(|)"
   ]
  },
  {
   "cell_type": "code",
   "execution_count": 12,
   "metadata": {
    "execution": {
     "iopub.execute_input": "2021-09-02T05:24:32.344680Z",
     "iopub.status.busy": "2021-09-02T05:24:32.344680Z",
     "iopub.status.idle": "2021-09-02T05:24:32.359640Z",
     "shell.execute_reply": "2021-09-02T05:24:32.359640Z",
     "shell.execute_reply.started": "2021-09-02T05:24:32.344680Z"
    }
   },
   "outputs": [
    {
     "name": "stdout",
     "output_type": "stream",
     "text": [
      "False\n",
      "False\n",
      "True\n",
      "True\n"
     ]
    }
   ],
   "source": [
    "print((10 > 9) and (10 < 9))\n",
    "print((10 > 9) & (10 < 9))\n",
    "print((10 > 9) or (10 < 9))\n",
    "print((10 > 9) | (10 < 9))"
   ]
  },
  {
   "cell_type": "markdown",
   "metadata": {},
   "source": [
    "# Control flow statements\n",
    "\n",
    "- Control flow statements : control flow (or flow of control) is the order in which individual statements, instructions or function calls of an imperative program are executed or evaluated.\n",
    "\n",
    "- if, while, for ...\n",
    "\n",
    "### If\n",
    "- Executes if the statement is true (boolean)\n",
    "- can add multiple conditions using elif, else."
   ]
  },
  {
   "cell_type": "code",
   "execution_count": 13,
   "metadata": {
    "execution": {
     "iopub.execute_input": "2021-09-02T05:24:58.253006Z",
     "iopub.status.busy": "2021-09-02T05:24:58.251972Z",
     "iopub.status.idle": "2021-09-02T05:24:58.263940Z",
     "shell.execute_reply": "2021-09-02T05:24:58.261944Z",
     "shell.execute_reply.started": "2021-09-02T05:24:58.253006Z"
    }
   },
   "outputs": [],
   "source": [
    "a, b, c, d = 3, 5, 5, 5\n",
    "\n",
    "if a+b==10 :\n",
    "    print('ok')"
   ]
  },
  {
   "cell_type": "code",
   "execution_count": 14,
   "metadata": {
    "execution": {
     "iopub.execute_input": "2021-09-02T05:25:06.252942Z",
     "iopub.status.busy": "2021-09-02T05:25:06.252942Z",
     "iopub.status.idle": "2021-09-02T05:25:06.265906Z",
     "shell.execute_reply": "2021-09-02T05:25:06.262914Z",
     "shell.execute_reply.started": "2021-09-02T05:25:06.252942Z"
    }
   },
   "outputs": [
    {
     "name": "stdout",
     "output_type": "stream",
     "text": [
      "ok\n"
     ]
    }
   ],
   "source": [
    "if c+d==10 :\n",
    "    print('ok')"
   ]
  },
  {
   "cell_type": "code",
   "execution_count": 15,
   "metadata": {
    "execution": {
     "iopub.execute_input": "2021-09-02T05:25:12.277263Z",
     "iopub.status.busy": "2021-09-02T05:25:12.277263Z",
     "iopub.status.idle": "2021-09-02T05:25:12.303175Z",
     "shell.execute_reply": "2021-09-02T05:25:12.300201Z",
     "shell.execute_reply.started": "2021-09-02T05:25:12.277263Z"
    }
   },
   "outputs": [
    {
     "name": "stdout",
     "output_type": "stream",
     "text": [
      "no\n"
     ]
    }
   ],
   "source": [
    "c,d = 3,5\n",
    "\n",
    "if c+d==10 :\n",
    "    print('ok')\n",
    "elif c+d==9 :\n",
    "    print('Umm....')\n",
    "else : print('no')"
   ]
  },
  {
   "cell_type": "markdown",
   "metadata": {},
   "source": [
    "### Loop(For, While)\n",
    "\n",
    "- Python’s for statement iterates over the items of any sequence (a list or a string), in the order that they appear in the sequence.\n",
    "- We can use both the index and value using the enumerate function"
   ]
  },
  {
   "cell_type": "code",
   "execution_count": 16,
   "metadata": {
    "execution": {
     "iopub.execute_input": "2021-09-02T05:25:30.285052Z",
     "iopub.status.busy": "2021-09-02T05:25:30.285052Z",
     "iopub.status.idle": "2021-09-02T05:25:30.297021Z",
     "shell.execute_reply": "2021-09-02T05:25:30.296024Z",
     "shell.execute_reply.started": "2021-09-02T05:25:30.285052Z"
    }
   },
   "outputs": [
    {
     "name": "stdout",
     "output_type": "stream",
     "text": [
      "155\n",
      "112\n",
      "73\n",
      "91\n"
     ]
    }
   ],
   "source": [
    "for a in [105,62,23,41] :\n",
    "    print(a+50)"
   ]
  },
  {
   "cell_type": "code",
   "execution_count": 17,
   "metadata": {
    "execution": {
     "iopub.execute_input": "2021-09-02T05:28:22.296266Z",
     "iopub.status.busy": "2021-09-02T05:28:22.295267Z",
     "iopub.status.idle": "2021-09-02T05:28:22.308233Z",
     "shell.execute_reply": "2021-09-02T05:28:22.307235Z",
     "shell.execute_reply.started": "2021-09-02T05:28:22.296266Z"
    }
   },
   "outputs": [
    {
     "data": {
      "text/plain": [
       "[0, 1, 4, 9, 16, 25, 36, 49, 64, 81]"
      ]
     },
     "execution_count": 17,
     "metadata": {},
     "output_type": "execute_result"
    }
   ],
   "source": [
    "# make a list using loops\n",
    "\n",
    "a = []\n",
    "\n",
    "for x in range(10) : # 모르는 함수? 괄호 안에 마우스 커서 and shift+tab\n",
    "    a.append(x**2)\n",
    "    \n",
    "a"
   ]
  }
 ],
 "metadata": {
  "kernelspec": {
   "display_name": "Python 3 (ipykernel)",
   "language": "python",
   "name": "python3"
  },
  "language_info": {
   "codemirror_mode": {
    "name": "ipython",
    "version": 3
   },
   "file_extension": ".py",
   "mimetype": "text/x-python",
   "name": "python",
   "nbconvert_exporter": "python",
   "pygments_lexer": "ipython3",
   "version": "3.8.10"
  }
 },
 "nbformat": 4,
 "nbformat_minor": 4
}
